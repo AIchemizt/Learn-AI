{
 "cells": [
  {
   "cell_type": "code",
   "execution_count": 8,
   "metadata": {},
   "outputs": [],
   "source": [
    "import pandas as pd\n",
    "from matplotlib import pyplot as plt\n",
    "import numpy as np"
   ]
  },
  {
   "cell_type": "code",
   "execution_count": 9,
   "metadata": {},
   "outputs": [
    {
     "data": {
      "text/html": [
       "<div>\n",
       "<style scoped>\n",
       "    .dataframe tbody tr th:only-of-type {\n",
       "        vertical-align: middle;\n",
       "    }\n",
       "\n",
       "    .dataframe tbody tr th {\n",
       "        vertical-align: top;\n",
       "    }\n",
       "\n",
       "    .dataframe thead th {\n",
       "        text-align: right;\n",
       "    }\n",
       "</style>\n",
       "<table border=\"1\" class=\"dataframe\">\n",
       "  <thead>\n",
       "    <tr style=\"text-align: right;\">\n",
       "      <th></th>\n",
       "      <th>customerID</th>\n",
       "      <th>gender</th>\n",
       "      <th>SeniorCitizen</th>\n",
       "      <th>Partner</th>\n",
       "      <th>Dependents</th>\n",
       "      <th>tenure</th>\n",
       "      <th>PhoneService</th>\n",
       "      <th>MultipleLines</th>\n",
       "      <th>InternetService</th>\n",
       "      <th>OnlineSecurity</th>\n",
       "      <th>...</th>\n",
       "      <th>DeviceProtection</th>\n",
       "      <th>TechSupport</th>\n",
       "      <th>StreamingTV</th>\n",
       "      <th>StreamingMovies</th>\n",
       "      <th>Contract</th>\n",
       "      <th>PaperlessBilling</th>\n",
       "      <th>PaymentMethod</th>\n",
       "      <th>MonthlyCharges</th>\n",
       "      <th>TotalCharges</th>\n",
       "      <th>Churn</th>\n",
       "    </tr>\n",
       "  </thead>\n",
       "  <tbody>\n",
       "    <tr>\n",
       "      <th>0</th>\n",
       "      <td>7590-VHVEG</td>\n",
       "      <td>Female</td>\n",
       "      <td>0</td>\n",
       "      <td>Yes</td>\n",
       "      <td>No</td>\n",
       "      <td>1</td>\n",
       "      <td>No</td>\n",
       "      <td>No phone service</td>\n",
       "      <td>DSL</td>\n",
       "      <td>No</td>\n",
       "      <td>...</td>\n",
       "      <td>No</td>\n",
       "      <td>No</td>\n",
       "      <td>No</td>\n",
       "      <td>No</td>\n",
       "      <td>Month-to-month</td>\n",
       "      <td>Yes</td>\n",
       "      <td>Electronic check</td>\n",
       "      <td>29.85</td>\n",
       "      <td>29.85</td>\n",
       "      <td>No</td>\n",
       "    </tr>\n",
       "    <tr>\n",
       "      <th>1</th>\n",
       "      <td>5575-GNVDE</td>\n",
       "      <td>Male</td>\n",
       "      <td>0</td>\n",
       "      <td>No</td>\n",
       "      <td>No</td>\n",
       "      <td>34</td>\n",
       "      <td>Yes</td>\n",
       "      <td>No</td>\n",
       "      <td>DSL</td>\n",
       "      <td>Yes</td>\n",
       "      <td>...</td>\n",
       "      <td>Yes</td>\n",
       "      <td>No</td>\n",
       "      <td>No</td>\n",
       "      <td>No</td>\n",
       "      <td>One year</td>\n",
       "      <td>No</td>\n",
       "      <td>Mailed check</td>\n",
       "      <td>56.95</td>\n",
       "      <td>1889.5</td>\n",
       "      <td>No</td>\n",
       "    </tr>\n",
       "    <tr>\n",
       "      <th>2</th>\n",
       "      <td>3668-QPYBK</td>\n",
       "      <td>Male</td>\n",
       "      <td>0</td>\n",
       "      <td>No</td>\n",
       "      <td>No</td>\n",
       "      <td>2</td>\n",
       "      <td>Yes</td>\n",
       "      <td>No</td>\n",
       "      <td>DSL</td>\n",
       "      <td>Yes</td>\n",
       "      <td>...</td>\n",
       "      <td>No</td>\n",
       "      <td>No</td>\n",
       "      <td>No</td>\n",
       "      <td>No</td>\n",
       "      <td>Month-to-month</td>\n",
       "      <td>Yes</td>\n",
       "      <td>Mailed check</td>\n",
       "      <td>53.85</td>\n",
       "      <td>108.15</td>\n",
       "      <td>Yes</td>\n",
       "    </tr>\n",
       "    <tr>\n",
       "      <th>3</th>\n",
       "      <td>7795-CFOCW</td>\n",
       "      <td>Male</td>\n",
       "      <td>0</td>\n",
       "      <td>No</td>\n",
       "      <td>No</td>\n",
       "      <td>45</td>\n",
       "      <td>No</td>\n",
       "      <td>No phone service</td>\n",
       "      <td>DSL</td>\n",
       "      <td>Yes</td>\n",
       "      <td>...</td>\n",
       "      <td>Yes</td>\n",
       "      <td>Yes</td>\n",
       "      <td>No</td>\n",
       "      <td>No</td>\n",
       "      <td>One year</td>\n",
       "      <td>No</td>\n",
       "      <td>Bank transfer (automatic)</td>\n",
       "      <td>42.30</td>\n",
       "      <td>1840.75</td>\n",
       "      <td>No</td>\n",
       "    </tr>\n",
       "    <tr>\n",
       "      <th>4</th>\n",
       "      <td>9237-HQITU</td>\n",
       "      <td>Female</td>\n",
       "      <td>0</td>\n",
       "      <td>No</td>\n",
       "      <td>No</td>\n",
       "      <td>2</td>\n",
       "      <td>Yes</td>\n",
       "      <td>No</td>\n",
       "      <td>Fiber optic</td>\n",
       "      <td>No</td>\n",
       "      <td>...</td>\n",
       "      <td>No</td>\n",
       "      <td>No</td>\n",
       "      <td>No</td>\n",
       "      <td>No</td>\n",
       "      <td>Month-to-month</td>\n",
       "      <td>Yes</td>\n",
       "      <td>Electronic check</td>\n",
       "      <td>70.70</td>\n",
       "      <td>151.65</td>\n",
       "      <td>Yes</td>\n",
       "    </tr>\n",
       "  </tbody>\n",
       "</table>\n",
       "<p>5 rows × 21 columns</p>\n",
       "</div>"
      ],
      "text/plain": [
       "   customerID  gender  SeniorCitizen Partner Dependents  tenure PhoneService  \\\n",
       "0  7590-VHVEG  Female              0     Yes         No       1           No   \n",
       "1  5575-GNVDE    Male              0      No         No      34          Yes   \n",
       "2  3668-QPYBK    Male              0      No         No       2          Yes   \n",
       "3  7795-CFOCW    Male              0      No         No      45           No   \n",
       "4  9237-HQITU  Female              0      No         No       2          Yes   \n",
       "\n",
       "      MultipleLines InternetService OnlineSecurity  ... DeviceProtection  \\\n",
       "0  No phone service             DSL             No  ...               No   \n",
       "1                No             DSL            Yes  ...              Yes   \n",
       "2                No             DSL            Yes  ...               No   \n",
       "3  No phone service             DSL            Yes  ...              Yes   \n",
       "4                No     Fiber optic             No  ...               No   \n",
       "\n",
       "  TechSupport StreamingTV StreamingMovies        Contract PaperlessBilling  \\\n",
       "0          No          No              No  Month-to-month              Yes   \n",
       "1          No          No              No        One year               No   \n",
       "2          No          No              No  Month-to-month              Yes   \n",
       "3         Yes          No              No        One year               No   \n",
       "4          No          No              No  Month-to-month              Yes   \n",
       "\n",
       "               PaymentMethod MonthlyCharges  TotalCharges Churn  \n",
       "0           Electronic check          29.85         29.85    No  \n",
       "1               Mailed check          56.95        1889.5    No  \n",
       "2               Mailed check          53.85        108.15   Yes  \n",
       "3  Bank transfer (automatic)          42.30       1840.75    No  \n",
       "4           Electronic check          70.70        151.65   Yes  \n",
       "\n",
       "[5 rows x 21 columns]"
      ]
     },
     "execution_count": 9,
     "metadata": {},
     "output_type": "execute_result"
    }
   ],
   "source": [
    "df = pd.read_csv(\"customer_churn.csv\")\n",
    "df.head()"
   ]
  },
  {
   "cell_type": "code",
   "execution_count": 10,
   "metadata": {},
   "outputs": [],
   "source": [
    "#Drop useless data\n",
    "df.drop('customerID',axis='columns',inplace=True)"
   ]
  },
  {
   "cell_type": "code",
   "execution_count": 11,
   "metadata": {},
   "outputs": [
    {
     "data": {
      "text/plain": [
       "gender               object\n",
       "SeniorCitizen         int64\n",
       "Partner              object\n",
       "Dependents           object\n",
       "tenure                int64\n",
       "PhoneService         object\n",
       "MultipleLines        object\n",
       "InternetService      object\n",
       "OnlineSecurity       object\n",
       "OnlineBackup         object\n",
       "DeviceProtection     object\n",
       "TechSupport          object\n",
       "StreamingTV          object\n",
       "StreamingMovies      object\n",
       "Contract             object\n",
       "PaperlessBilling     object\n",
       "PaymentMethod        object\n",
       "MonthlyCharges      float64\n",
       "TotalCharges         object\n",
       "Churn                object\n",
       "dtype: object"
      ]
     },
     "execution_count": 11,
     "metadata": {},
     "output_type": "execute_result"
    }
   ],
   "source": [
    "df.dtypes"
   ]
  },
  {
   "cell_type": "code",
   "execution_count": 12,
   "metadata": {},
   "outputs": [
    {
     "data": {
      "text/plain": [
       "array(['29.85', '1889.5', '108.15', ..., '346.45', '306.6', '6844.5'],\n",
       "      dtype=object)"
      ]
     },
     "execution_count": 12,
     "metadata": {},
     "output_type": "execute_result"
    }
   ],
   "source": [
    "df.TotalCharges.values"
   ]
  },
  {
   "cell_type": "markdown",
   "metadata": {},
   "source": [
    "Above TotalCharges are float & bleow MonthlyCharges are numbers"
   ]
  },
  {
   "cell_type": "code",
   "execution_count": 13,
   "metadata": {},
   "outputs": [
    {
     "data": {
      "text/plain": [
       "array([ 29.85,  56.95,  53.85, ...,  29.6 ,  74.4 , 105.65])"
      ]
     },
     "execution_count": 13,
     "metadata": {},
     "output_type": "execute_result"
    }
   ],
   "source": [
    "df.MonthlyCharges.values"
   ]
  },
  {
   "cell_type": "markdown",
   "metadata": {},
   "source": [
    "So we need to fix the float to number"
   ]
  },
  {
   "cell_type": "code",
   "execution_count": 14,
   "metadata": {},
   "outputs": [],
   "source": [
    "# Converting the 'TotalCharges' column to numeric\n",
    "#pd.to_numeric(df.TotalCharges)"
   ]
  },
  {
   "cell_type": "markdown",
   "metadata": {},
   "source": [
    "We got error above that **Unable to parse string \" \"**\n",
    "This is becuse emply place at that colum"
   ]
  },
  {
   "cell_type": "markdown",
   "metadata": {},
   "source": [
    "**Below** The errors='coerce' part in pd.to_numeric(df.TotalCharges, errors='coerce') means that if there are any errors encountered during the conversion (like if a value can't be converted to a number), pandas will handle them by replacing those problematic values with a special marker, NaN, which stands for \"Not a Number.\" This ensures that the conversion process doesn't stop completely due to errors in the data."
   ]
  },
  {
   "cell_type": "code",
   "execution_count": 15,
   "metadata": {},
   "outputs": [
    {
     "data": {
      "text/plain": [
       "0       False\n",
       "1       False\n",
       "2       False\n",
       "3       False\n",
       "4       False\n",
       "        ...  \n",
       "7038    False\n",
       "7039    False\n",
       "7040    False\n",
       "7041    False\n",
       "7042    False\n",
       "Name: TotalCharges, Length: 7043, dtype: bool"
      ]
     },
     "execution_count": 15,
     "metadata": {},
     "output_type": "execute_result"
    }
   ],
   "source": [
    "pd.to_numeric(df.TotalCharges,errors='coerce').isnull()"
   ]
  },
  {
   "cell_type": "markdown",
   "metadata": {},
   "source": [
    "Above Some have False & Some have True,Where **True** mean Problematic cell\n",
    "\n",
    "Now to view that Problematic cell we will pass it to data frame & it'll show that row"
   ]
  },
  {
   "cell_type": "code",
   "execution_count": 16,
   "metadata": {},
   "outputs": [
    {
     "data": {
      "text/html": [
       "<div>\n",
       "<style scoped>\n",
       "    .dataframe tbody tr th:only-of-type {\n",
       "        vertical-align: middle;\n",
       "    }\n",
       "\n",
       "    .dataframe tbody tr th {\n",
       "        vertical-align: top;\n",
       "    }\n",
       "\n",
       "    .dataframe thead th {\n",
       "        text-align: right;\n",
       "    }\n",
       "</style>\n",
       "<table border=\"1\" class=\"dataframe\">\n",
       "  <thead>\n",
       "    <tr style=\"text-align: right;\">\n",
       "      <th></th>\n",
       "      <th>gender</th>\n",
       "      <th>SeniorCitizen</th>\n",
       "      <th>Partner</th>\n",
       "      <th>Dependents</th>\n",
       "      <th>tenure</th>\n",
       "      <th>PhoneService</th>\n",
       "      <th>MultipleLines</th>\n",
       "      <th>InternetService</th>\n",
       "      <th>OnlineSecurity</th>\n",
       "      <th>OnlineBackup</th>\n",
       "      <th>DeviceProtection</th>\n",
       "      <th>TechSupport</th>\n",
       "      <th>StreamingTV</th>\n",
       "      <th>StreamingMovies</th>\n",
       "      <th>Contract</th>\n",
       "      <th>PaperlessBilling</th>\n",
       "      <th>PaymentMethod</th>\n",
       "      <th>MonthlyCharges</th>\n",
       "      <th>TotalCharges</th>\n",
       "      <th>Churn</th>\n",
       "    </tr>\n",
       "  </thead>\n",
       "  <tbody>\n",
       "    <tr>\n",
       "      <th>488</th>\n",
       "      <td>Female</td>\n",
       "      <td>0</td>\n",
       "      <td>Yes</td>\n",
       "      <td>Yes</td>\n",
       "      <td>0</td>\n",
       "      <td>No</td>\n",
       "      <td>No phone service</td>\n",
       "      <td>DSL</td>\n",
       "      <td>Yes</td>\n",
       "      <td>No</td>\n",
       "      <td>Yes</td>\n",
       "      <td>Yes</td>\n",
       "      <td>Yes</td>\n",
       "      <td>No</td>\n",
       "      <td>Two year</td>\n",
       "      <td>Yes</td>\n",
       "      <td>Bank transfer (automatic)</td>\n",
       "      <td>52.55</td>\n",
       "      <td></td>\n",
       "      <td>No</td>\n",
       "    </tr>\n",
       "    <tr>\n",
       "      <th>753</th>\n",
       "      <td>Male</td>\n",
       "      <td>0</td>\n",
       "      <td>No</td>\n",
       "      <td>Yes</td>\n",
       "      <td>0</td>\n",
       "      <td>Yes</td>\n",
       "      <td>No</td>\n",
       "      <td>No</td>\n",
       "      <td>No internet service</td>\n",
       "      <td>No internet service</td>\n",
       "      <td>No internet service</td>\n",
       "      <td>No internet service</td>\n",
       "      <td>No internet service</td>\n",
       "      <td>No internet service</td>\n",
       "      <td>Two year</td>\n",
       "      <td>No</td>\n",
       "      <td>Mailed check</td>\n",
       "      <td>20.25</td>\n",
       "      <td></td>\n",
       "      <td>No</td>\n",
       "    </tr>\n",
       "    <tr>\n",
       "      <th>936</th>\n",
       "      <td>Female</td>\n",
       "      <td>0</td>\n",
       "      <td>Yes</td>\n",
       "      <td>Yes</td>\n",
       "      <td>0</td>\n",
       "      <td>Yes</td>\n",
       "      <td>No</td>\n",
       "      <td>DSL</td>\n",
       "      <td>Yes</td>\n",
       "      <td>Yes</td>\n",
       "      <td>Yes</td>\n",
       "      <td>No</td>\n",
       "      <td>Yes</td>\n",
       "      <td>Yes</td>\n",
       "      <td>Two year</td>\n",
       "      <td>No</td>\n",
       "      <td>Mailed check</td>\n",
       "      <td>80.85</td>\n",
       "      <td></td>\n",
       "      <td>No</td>\n",
       "    </tr>\n",
       "    <tr>\n",
       "      <th>1082</th>\n",
       "      <td>Male</td>\n",
       "      <td>0</td>\n",
       "      <td>Yes</td>\n",
       "      <td>Yes</td>\n",
       "      <td>0</td>\n",
       "      <td>Yes</td>\n",
       "      <td>Yes</td>\n",
       "      <td>No</td>\n",
       "      <td>No internet service</td>\n",
       "      <td>No internet service</td>\n",
       "      <td>No internet service</td>\n",
       "      <td>No internet service</td>\n",
       "      <td>No internet service</td>\n",
       "      <td>No internet service</td>\n",
       "      <td>Two year</td>\n",
       "      <td>No</td>\n",
       "      <td>Mailed check</td>\n",
       "      <td>25.75</td>\n",
       "      <td></td>\n",
       "      <td>No</td>\n",
       "    </tr>\n",
       "    <tr>\n",
       "      <th>1340</th>\n",
       "      <td>Female</td>\n",
       "      <td>0</td>\n",
       "      <td>Yes</td>\n",
       "      <td>Yes</td>\n",
       "      <td>0</td>\n",
       "      <td>No</td>\n",
       "      <td>No phone service</td>\n",
       "      <td>DSL</td>\n",
       "      <td>Yes</td>\n",
       "      <td>Yes</td>\n",
       "      <td>Yes</td>\n",
       "      <td>Yes</td>\n",
       "      <td>Yes</td>\n",
       "      <td>No</td>\n",
       "      <td>Two year</td>\n",
       "      <td>No</td>\n",
       "      <td>Credit card (automatic)</td>\n",
       "      <td>56.05</td>\n",
       "      <td></td>\n",
       "      <td>No</td>\n",
       "    </tr>\n",
       "    <tr>\n",
       "      <th>3331</th>\n",
       "      <td>Male</td>\n",
       "      <td>0</td>\n",
       "      <td>Yes</td>\n",
       "      <td>Yes</td>\n",
       "      <td>0</td>\n",
       "      <td>Yes</td>\n",
       "      <td>No</td>\n",
       "      <td>No</td>\n",
       "      <td>No internet service</td>\n",
       "      <td>No internet service</td>\n",
       "      <td>No internet service</td>\n",
       "      <td>No internet service</td>\n",
       "      <td>No internet service</td>\n",
       "      <td>No internet service</td>\n",
       "      <td>Two year</td>\n",
       "      <td>No</td>\n",
       "      <td>Mailed check</td>\n",
       "      <td>19.85</td>\n",
       "      <td></td>\n",
       "      <td>No</td>\n",
       "    </tr>\n",
       "    <tr>\n",
       "      <th>3826</th>\n",
       "      <td>Male</td>\n",
       "      <td>0</td>\n",
       "      <td>Yes</td>\n",
       "      <td>Yes</td>\n",
       "      <td>0</td>\n",
       "      <td>Yes</td>\n",
       "      <td>Yes</td>\n",
       "      <td>No</td>\n",
       "      <td>No internet service</td>\n",
       "      <td>No internet service</td>\n",
       "      <td>No internet service</td>\n",
       "      <td>No internet service</td>\n",
       "      <td>No internet service</td>\n",
       "      <td>No internet service</td>\n",
       "      <td>Two year</td>\n",
       "      <td>No</td>\n",
       "      <td>Mailed check</td>\n",
       "      <td>25.35</td>\n",
       "      <td></td>\n",
       "      <td>No</td>\n",
       "    </tr>\n",
       "    <tr>\n",
       "      <th>4380</th>\n",
       "      <td>Female</td>\n",
       "      <td>0</td>\n",
       "      <td>Yes</td>\n",
       "      <td>Yes</td>\n",
       "      <td>0</td>\n",
       "      <td>Yes</td>\n",
       "      <td>No</td>\n",
       "      <td>No</td>\n",
       "      <td>No internet service</td>\n",
       "      <td>No internet service</td>\n",
       "      <td>No internet service</td>\n",
       "      <td>No internet service</td>\n",
       "      <td>No internet service</td>\n",
       "      <td>No internet service</td>\n",
       "      <td>Two year</td>\n",
       "      <td>No</td>\n",
       "      <td>Mailed check</td>\n",
       "      <td>20.00</td>\n",
       "      <td></td>\n",
       "      <td>No</td>\n",
       "    </tr>\n",
       "    <tr>\n",
       "      <th>5218</th>\n",
       "      <td>Male</td>\n",
       "      <td>0</td>\n",
       "      <td>Yes</td>\n",
       "      <td>Yes</td>\n",
       "      <td>0</td>\n",
       "      <td>Yes</td>\n",
       "      <td>No</td>\n",
       "      <td>No</td>\n",
       "      <td>No internet service</td>\n",
       "      <td>No internet service</td>\n",
       "      <td>No internet service</td>\n",
       "      <td>No internet service</td>\n",
       "      <td>No internet service</td>\n",
       "      <td>No internet service</td>\n",
       "      <td>One year</td>\n",
       "      <td>Yes</td>\n",
       "      <td>Mailed check</td>\n",
       "      <td>19.70</td>\n",
       "      <td></td>\n",
       "      <td>No</td>\n",
       "    </tr>\n",
       "    <tr>\n",
       "      <th>6670</th>\n",
       "      <td>Female</td>\n",
       "      <td>0</td>\n",
       "      <td>Yes</td>\n",
       "      <td>Yes</td>\n",
       "      <td>0</td>\n",
       "      <td>Yes</td>\n",
       "      <td>Yes</td>\n",
       "      <td>DSL</td>\n",
       "      <td>No</td>\n",
       "      <td>Yes</td>\n",
       "      <td>Yes</td>\n",
       "      <td>Yes</td>\n",
       "      <td>Yes</td>\n",
       "      <td>No</td>\n",
       "      <td>Two year</td>\n",
       "      <td>No</td>\n",
       "      <td>Mailed check</td>\n",
       "      <td>73.35</td>\n",
       "      <td></td>\n",
       "      <td>No</td>\n",
       "    </tr>\n",
       "    <tr>\n",
       "      <th>6754</th>\n",
       "      <td>Male</td>\n",
       "      <td>0</td>\n",
       "      <td>No</td>\n",
       "      <td>Yes</td>\n",
       "      <td>0</td>\n",
       "      <td>Yes</td>\n",
       "      <td>Yes</td>\n",
       "      <td>DSL</td>\n",
       "      <td>Yes</td>\n",
       "      <td>Yes</td>\n",
       "      <td>No</td>\n",
       "      <td>Yes</td>\n",
       "      <td>No</td>\n",
       "      <td>No</td>\n",
       "      <td>Two year</td>\n",
       "      <td>Yes</td>\n",
       "      <td>Bank transfer (automatic)</td>\n",
       "      <td>61.90</td>\n",
       "      <td></td>\n",
       "      <td>No</td>\n",
       "    </tr>\n",
       "  </tbody>\n",
       "</table>\n",
       "</div>"
      ],
      "text/plain": [
       "      gender  SeniorCitizen Partner Dependents  tenure PhoneService  \\\n",
       "488   Female              0     Yes        Yes       0           No   \n",
       "753     Male              0      No        Yes       0          Yes   \n",
       "936   Female              0     Yes        Yes       0          Yes   \n",
       "1082    Male              0     Yes        Yes       0          Yes   \n",
       "1340  Female              0     Yes        Yes       0           No   \n",
       "3331    Male              0     Yes        Yes       0          Yes   \n",
       "3826    Male              0     Yes        Yes       0          Yes   \n",
       "4380  Female              0     Yes        Yes       0          Yes   \n",
       "5218    Male              0     Yes        Yes       0          Yes   \n",
       "6670  Female              0     Yes        Yes       0          Yes   \n",
       "6754    Male              0      No        Yes       0          Yes   \n",
       "\n",
       "         MultipleLines InternetService       OnlineSecurity  \\\n",
       "488   No phone service             DSL                  Yes   \n",
       "753                 No              No  No internet service   \n",
       "936                 No             DSL                  Yes   \n",
       "1082               Yes              No  No internet service   \n",
       "1340  No phone service             DSL                  Yes   \n",
       "3331                No              No  No internet service   \n",
       "3826               Yes              No  No internet service   \n",
       "4380                No              No  No internet service   \n",
       "5218                No              No  No internet service   \n",
       "6670               Yes             DSL                   No   \n",
       "6754               Yes             DSL                  Yes   \n",
       "\n",
       "             OnlineBackup     DeviceProtection          TechSupport  \\\n",
       "488                    No                  Yes                  Yes   \n",
       "753   No internet service  No internet service  No internet service   \n",
       "936                   Yes                  Yes                   No   \n",
       "1082  No internet service  No internet service  No internet service   \n",
       "1340                  Yes                  Yes                  Yes   \n",
       "3331  No internet service  No internet service  No internet service   \n",
       "3826  No internet service  No internet service  No internet service   \n",
       "4380  No internet service  No internet service  No internet service   \n",
       "5218  No internet service  No internet service  No internet service   \n",
       "6670                  Yes                  Yes                  Yes   \n",
       "6754                  Yes                   No                  Yes   \n",
       "\n",
       "              StreamingTV      StreamingMovies  Contract PaperlessBilling  \\\n",
       "488                   Yes                   No  Two year              Yes   \n",
       "753   No internet service  No internet service  Two year               No   \n",
       "936                   Yes                  Yes  Two year               No   \n",
       "1082  No internet service  No internet service  Two year               No   \n",
       "1340                  Yes                   No  Two year               No   \n",
       "3331  No internet service  No internet service  Two year               No   \n",
       "3826  No internet service  No internet service  Two year               No   \n",
       "4380  No internet service  No internet service  Two year               No   \n",
       "5218  No internet service  No internet service  One year              Yes   \n",
       "6670                  Yes                   No  Two year               No   \n",
       "6754                   No                   No  Two year              Yes   \n",
       "\n",
       "                  PaymentMethod  MonthlyCharges TotalCharges Churn  \n",
       "488   Bank transfer (automatic)           52.55                 No  \n",
       "753                Mailed check           20.25                 No  \n",
       "936                Mailed check           80.85                 No  \n",
       "1082               Mailed check           25.75                 No  \n",
       "1340    Credit card (automatic)           56.05                 No  \n",
       "3331               Mailed check           19.85                 No  \n",
       "3826               Mailed check           25.35                 No  \n",
       "4380               Mailed check           20.00                 No  \n",
       "5218               Mailed check           19.70                 No  \n",
       "6670               Mailed check           73.35                 No  \n",
       "6754  Bank transfer (automatic)           61.90                 No  "
      ]
     },
     "execution_count": 16,
     "metadata": {},
     "output_type": "execute_result"
    }
   ],
   "source": [
    "#Passing to a data frame\n",
    "df[pd.to_numeric(df.TotalCharges,errors='coerce').isnull()]"
   ]
  },
  {
   "cell_type": "code",
   "execution_count": 17,
   "metadata": {},
   "outputs": [
    {
     "data": {
      "text/plain": [
       "(11, 20)"
      ]
     },
     "execution_count": 17,
     "metadata": {},
     "output_type": "execute_result"
    }
   ],
   "source": [
    "df[pd.to_numeric(df.TotalCharges,errors='coerce').isnull()].shape"
   ]
  },
  {
   "cell_type": "markdown",
   "metadata": {},
   "source": [
    "**Above (11, 20)** Show that we have total 11 rows at 20th colum place with this issue"
   ]
  },
  {
   "cell_type": "code",
   "execution_count": 18,
   "metadata": {},
   "outputs": [
    {
     "data": {
      "text/plain": [
       "(7043, 20)"
      ]
     },
     "execution_count": 18,
     "metadata": {},
     "output_type": "execute_result"
    }
   ],
   "source": [
    "df.shape"
   ]
  },
  {
   "cell_type": "markdown",
   "metadata": {},
   "source": [
    "We have total 7043 rows so droping the 11 rows from that is not a big deal so lets do that"
   ]
  },
  {
   "cell_type": "code",
   "execution_count": 19,
   "metadata": {},
   "outputs": [
    {
     "data": {
      "text/plain": [
       "(7032, 20)"
      ]
     },
     "execution_count": 19,
     "metadata": {},
     "output_type": "execute_result"
    }
   ],
   "source": [
    "# include only where the \"TotalCharges\" column is not an empty string\n",
    "df1=df[df.TotalCharges!=\" \"]\n",
    "df1.shape"
   ]
  },
  {
   "cell_type": "code",
   "execution_count": 20,
   "metadata": {},
   "outputs": [
    {
     "name": "stderr",
     "output_type": "stream",
     "text": [
      "/var/folders/hy/b8mrcp_x1sxbt1d3f8hfqcmm0000gn/T/ipykernel_16456/1938495744.py:2: SettingWithCopyWarning: \n",
      "A value is trying to be set on a copy of a slice from a DataFrame.\n",
      "Try using .loc[row_indexer,col_indexer] = value instead\n",
      "\n",
      "See the caveats in the documentation: https://pandas.pydata.org/pandas-docs/stable/user_guide/indexing.html#returning-a-view-versus-a-copy\n",
      "  df1.TotalCharges = pd.to_numeric(df1.TotalCharges)\n"
     ]
    }
   ],
   "source": [
    "# After removing empty cells, again Converting the 'TotalCharges' column to numeric\n",
    "df1.TotalCharges = pd.to_numeric(df1.TotalCharges)"
   ]
  },
  {
   "cell_type": "code",
   "execution_count": 21,
   "metadata": {},
   "outputs": [
    {
     "data": {
      "text/plain": [
       "dtype('float64')"
      ]
     },
     "execution_count": 21,
     "metadata": {},
     "output_type": "execute_result"
    }
   ],
   "source": [
    "# Checking the change\n",
    "df1.TotalCharges.dtypes"
   ]
  },
  {
   "cell_type": "code",
   "execution_count": 22,
   "metadata": {},
   "outputs": [
    {
     "data": {
      "text/plain": [
       "gender               object\n",
       "SeniorCitizen         int64\n",
       "Partner              object\n",
       "Dependents           object\n",
       "tenure                int64\n",
       "PhoneService         object\n",
       "MultipleLines        object\n",
       "InternetService      object\n",
       "OnlineSecurity       object\n",
       "OnlineBackup         object\n",
       "DeviceProtection     object\n",
       "TechSupport          object\n",
       "StreamingTV          object\n",
       "StreamingMovies      object\n",
       "Contract             object\n",
       "PaperlessBilling     object\n",
       "PaymentMethod        object\n",
       "MonthlyCharges      float64\n",
       "TotalCharges        float64\n",
       "Churn                object\n",
       "dtype: object"
      ]
     },
     "execution_count": 22,
     "metadata": {},
     "output_type": "execute_result"
    }
   ],
   "source": [
    "df1.dtypes"
   ]
  },
  {
   "cell_type": "markdown",
   "metadata": {},
   "source": [
    "Creating the histogram plot for visualizing customer churn prediction based on tenure."
   ]
  },
  {
   "cell_type": "code",
   "execution_count": 23,
   "metadata": {},
   "outputs": [
    {
     "data": {
      "text/plain": [
       "<matplotlib.legend.Legend at 0x11a0040d0>"
      ]
     },
     "execution_count": 23,
     "metadata": {},
     "output_type": "execute_result"
    },
    {
     "data": {
      "image/png": "[encoded data removed]",
      "text/plain": [
       "<Figure size 640x480 with 1 Axes>"
      ]
     },
     "metadata": {},
     "output_type": "display_data"
    }
   ],
   "source": [
    "# Extracting 'tenure' data for customers who churned (Churn=\"Yes\") and those who didn't (Churn=\"No\")\n",
    "tenure_churn_no = df1[df1.Churn==\"No\"].tenure  # Tenure data for customers who didn't churn\n",
    "tenure_churn_yes = df1[df1.Churn==\"Yes\"].tenure  # Tenure data for customers who churned\n",
    "\n",
    "# Setting labels and title for the plot\n",
    "plt.xlabel(\"tenure\")  # Label for the x-axis\n",
    "plt.ylabel(\"Number Of Customers\")  # Label for the y-axis\n",
    "plt.title(\"Customer Churn Prediction Visualization\")  # Title of the plot\n",
    "\n",
    "# Creating a histogram to visualize the distribution of tenure for churned and non-churned customers\n",
    "plt.hist([tenure_churn_yes, tenure_churn_no],  # Plotting histograms for churned and non-churned customers\n",
    "         color=[\"green\", \"red\"],  # Setting colors for each histogram\n",
    "         label=[\"Churn=yes\", \"Churn=No\"])  # Adding labels for each histogram to the legend\n",
    "\n",
    "plt.legend()  # Displaying the legend on the plot\n"
   ]
  },
  {
   "cell_type": "code",
   "execution_count": 24,
   "metadata": {},
   "outputs": [
    {
     "name": "stdout",
     "output_type": "stream",
     "text": [
      "gender:['Female' 'Male']\n",
      "Partner:['Yes' 'No']\n",
      "Dependents:['No' 'Yes']\n",
      "PhoneService:['No' 'Yes']\n",
      "MultipleLines:['No phone service' 'No' 'Yes']\n",
      "InternetService:['DSL' 'Fiber optic' 'No']\n",
      "OnlineSecurity:['No' 'Yes' 'No internet service']\n",
      "OnlineBackup:['Yes' 'No' 'No internet service']\n",
      "DeviceProtection:['No' 'Yes' 'No internet service']\n",
      "TechSupport:['No' 'Yes' 'No internet service']\n",
      "StreamingTV:['No' 'Yes' 'No internet service']\n",
      "StreamingMovies:['No' 'Yes' 'No internet service']\n",
      "Contract:['Month-to-month' 'One year' 'Two year']\n",
      "PaperlessBilling:['Yes' 'No']\n",
      "PaymentMethod:['Electronic check' 'Mailed check' 'Bank transfer (automatic)'\n",
      " 'Credit card (automatic)']\n",
      "Churn:['No' 'Yes']\n"
     ]
    }
   ],
   "source": [
    "# Function to print unique values for each object-type column\n",
    "def print_unique_col_values(df):\n",
    "    for column in df:  # Iterating through columns in the DataFrame\n",
    "        if df[column].dtype == \"object\":  # Checking if the data type of the column is 'object'\n",
    "            print(f'{column}:{df[column].unique()}')  # Printing unique values for the object-type column\n",
    "\n",
    "print_unique_col_values(df1)"
   ]
  },
  {
   "cell_type": "code",
   "execution_count": 25,
   "metadata": {},
   "outputs": [
    {
     "name": "stderr",
     "output_type": "stream",
     "text": [
      "/var/folders/hy/b8mrcp_x1sxbt1d3f8hfqcmm0000gn/T/ipykernel_16456/3112116400.py:2: SettingWithCopyWarning: \n",
      "A value is trying to be set on a copy of a slice from a DataFrame\n",
      "\n",
      "See the caveats in the documentation: https://pandas.pydata.org/pandas-docs/stable/user_guide/indexing.html#returning-a-view-versus-a-copy\n",
      "  df1.replace('No internet service', 'No', inplace=True)  # Replacing 'No internet service' with 'No'\n",
      "/var/folders/hy/b8mrcp_x1sxbt1d3f8hfqcmm0000gn/T/ipykernel_16456/3112116400.py:3: SettingWithCopyWarning: \n",
      "A value is trying to be set on a copy of a slice from a DataFrame\n",
      "\n",
      "See the caveats in the documentation: https://pandas.pydata.org/pandas-docs/stable/user_guide/indexing.html#returning-a-view-versus-a-copy\n",
      "  df1.replace('No phone service', 'No', inplace=True)  # Replacing 'No phone service' with 'No'\n"
     ]
    }
   ],
   "source": [
    "# Replacing specific values in columns with 'No internet service' and 'No phone service'\n",
    "df1.replace('No internet service', 'No', inplace=True)  # Replacing 'No internet service' with 'No'\n",
    "df1.replace('No phone service', 'No', inplace=True)  # Replacing 'No phone service' with 'No'\n"
   ]
  },
  {
   "cell_type": "code",
   "execution_count": 26,
   "metadata": {},
   "outputs": [
    {
     "name": "stdout",
     "output_type": "stream",
     "text": [
      "gender:['Female' 'Male']\n",
      "Partner:['Yes' 'No']\n",
      "Dependents:['No' 'Yes']\n",
      "PhoneService:['No' 'Yes']\n",
      "MultipleLines:['No' 'Yes']\n",
      "InternetService:['DSL' 'Fiber optic' 'No']\n",
      "OnlineSecurity:['No' 'Yes']\n",
      "OnlineBackup:['Yes' 'No']\n",
      "DeviceProtection:['No' 'Yes']\n",
      "TechSupport:['No' 'Yes']\n",
      "StreamingTV:['No' 'Yes']\n",
      "StreamingMovies:['No' 'Yes']\n",
      "Contract:['Month-to-month' 'One year' 'Two year']\n",
      "PaperlessBilling:['Yes' 'No']\n",
      "PaymentMethod:['Electronic check' 'Mailed check' 'Bank transfer (automatic)'\n",
      " 'Credit card (automatic)']\n",
      "Churn:['No' 'Yes']\n"
     ]
    }
   ],
   "source": [
    "print_unique_col_values(df1)"
   ]
  },
  {
   "cell_type": "code",
   "execution_count": 27,
   "metadata": {},
   "outputs": [
    {
     "name": "stderr",
     "output_type": "stream",
     "text": [
      "/var/folders/hy/b8mrcp_x1sxbt1d3f8hfqcmm0000gn/T/ipykernel_16456/567276120.py:7: SettingWithCopyWarning: \n",
      "A value is trying to be set on a copy of a slice from a DataFrame\n",
      "\n",
      "See the caveats in the documentation: https://pandas.pydata.org/pandas-docs/stable/user_guide/indexing.html#returning-a-view-versus-a-copy\n",
      "  df1[col].replace({\"Yes\": 1, \"No\": 0}, inplace=True)  # Replacing 'Yes' with 1 and 'No' with 0 in specified columns\n"
     ]
    }
   ],
   "source": [
    "# Converting binary categorical columns to numeric (1 for 'Yes' and 0 for 'No')\n",
    "yes_no_columns = [\"Partner\", \"Dependents\", \"PhoneService\", \"MultipleLines\", \"OnlineSecurity\",\n",
    "                  \"OnlineBackup\", \"DeviceProtection\", \"TechSupport\", \"StreamingTV\",\n",
    "                  \"StreamingMovies\", \"PaperlessBilling\", \"Churn\"]\n",
    "\n",
    "for col in yes_no_columns:\n",
    "    df1[col].replace({\"Yes\": 1, \"No\": 0}, inplace=True)  # Replacing 'Yes' with 1 and 'No' with 0 in specified columns\n"
   ]
  },
  {
   "cell_type": "code",
   "execution_count": 28,
   "metadata": {},
   "outputs": [
    {
     "name": "stdout",
     "output_type": "stream",
     "text": [
      "gender:['Female' 'Male']\n",
      "SeniorCitizen:[0 1]\n",
      "Partner:[1 0]\n",
      "Dependents:[0 1]\n",
      "tenure:[ 1 34  2 45  8 22 10 28 62 13 16 58 49 25 69 52 71 21 12 30 47 72 17 27\n",
      "  5 46 11 70 63 43 15 60 18 66  9  3 31 50 64 56  7 42 35 48 29 65 38 68\n",
      " 32 55 37 36 41  6  4 33 67 23 57 61 14 20 53 40 59 24 44 19 54 51 26 39]\n",
      "PhoneService:[0 1]\n",
      "MultipleLines:[0 1]\n",
      "InternetService:['DSL' 'Fiber optic' 'No']\n",
      "OnlineSecurity:[0 1]\n",
      "OnlineBackup:[1 0]\n",
      "DeviceProtection:[0 1]\n",
      "TechSupport:[0 1]\n",
      "StreamingTV:[0 1]\n",
      "StreamingMovies:[0 1]\n",
      "Contract:['Month-to-month' 'One year' 'Two year']\n",
      "PaperlessBilling:[1 0]\n",
      "PaymentMethod:['Electronic check' 'Mailed check' 'Bank transfer (automatic)'\n",
      " 'Credit card (automatic)']\n",
      "MonthlyCharges:[29.85 56.95 53.85 ... 63.1  44.2  78.7 ]\n",
      "TotalCharges:[  29.85 1889.5   108.15 ...  346.45  306.6  6844.5 ]\n",
      "Churn:[0 1]\n"
     ]
    }
   ],
   "source": [
    "# Checking the Change\n",
    "for col in df1:\n",
    "    print(f\"{col}:{df1[col].unique()}\")"
   ]
  },
  {
   "cell_type": "code",
   "execution_count": 29,
   "metadata": {},
   "outputs": [
    {
     "name": "stderr",
     "output_type": "stream",
     "text": [
      "/var/folders/hy/b8mrcp_x1sxbt1d3f8hfqcmm0000gn/T/ipykernel_16456/1863032643.py:3: SettingWithCopyWarning: \n",
      "A value is trying to be set on a copy of a slice from a DataFrame\n",
      "\n",
      "See the caveats in the documentation: https://pandas.pydata.org/pandas-docs/stable/user_guide/indexing.html#returning-a-view-versus-a-copy\n",
      "  df1[\"gender\"].replace({\"Female\":1,\"Male\":0},inplace=True)\n"
     ]
    }
   ],
   "source": [
    "# Converting 'gender' column to numeric (1 for 'Female' and 0 for 'Male')\n",
    "\n",
    "df1[\"gender\"].replace({\"Female\":1,\"Male\":0},inplace=True)"
   ]
  },
  {
   "cell_type": "code",
   "execution_count": 30,
   "metadata": {},
   "outputs": [],
   "source": [
    "# One-hot encoding categorical columns\n",
    "df2 = pd.get_dummies(data=df1, columns=['InternetService', 'Contract', 'PaymentMethod'], dtype=int)  # One-hot encoding"
   ]
  },
  {
   "cell_type": "code",
   "execution_count": 31,
   "metadata": {},
   "outputs": [
    {
     "name": "stdout",
     "output_type": "stream",
     "text": [
      "gender:[1 0]\n",
      "SeniorCitizen:[0 1]\n",
      "Partner:[1 0]\n",
      "Dependents:[0 1]\n",
      "tenure:[ 1 34  2 45  8 22 10 28 62 13 16 58 49 25 69 52 71 21 12 30 47 72 17 27\n",
      "  5 46 11 70 63 43 15 60 18 66  9  3 31 50 64 56  7 42 35 48 29 65 38 68\n",
      " 32 55 37 36 41  6  4 33 67 23 57 61 14 20 53 40 59 24 44 19 54 51 26 39]\n",
      "PhoneService:[0 1]\n",
      "MultipleLines:[0 1]\n",
      "OnlineSecurity:[0 1]\n",
      "OnlineBackup:[1 0]\n",
      "DeviceProtection:[0 1]\n",
      "TechSupport:[0 1]\n",
      "StreamingTV:[0 1]\n",
      "StreamingMovies:[0 1]\n",
      "PaperlessBilling:[1 0]\n",
      "MonthlyCharges:[29.85 56.95 53.85 ... 63.1  44.2  78.7 ]\n",
      "TotalCharges:[  29.85 1889.5   108.15 ...  346.45  306.6  6844.5 ]\n",
      "Churn:[0 1]\n",
      "InternetService_DSL:[1 0]\n",
      "InternetService_Fiber optic:[0 1]\n",
      "InternetService_No:[0 1]\n",
      "Contract_Month-to-month:[1 0]\n",
      "Contract_One year:[0 1]\n",
      "Contract_Two year:[0 1]\n",
      "PaymentMethod_Bank transfer (automatic):[0 1]\n",
      "PaymentMethod_Credit card (automatic):[0 1]\n",
      "PaymentMethod_Electronic check:[1 0]\n",
      "PaymentMethod_Mailed check:[0 1]\n"
     ]
    }
   ],
   "source": [
    "# Checking the Change\n",
    "for col in df2:\n",
    "    print(f\"{col}:{df2[col].unique()}\")"
   ]
  },
  {
   "cell_type": "code",
   "execution_count": 32,
   "metadata": {},
   "outputs": [
    {
     "data": {
      "text/plain": [
       "gender                                       int64\n",
       "SeniorCitizen                                int64\n",
       "Partner                                      int64\n",
       "Dependents                                   int64\n",
       "tenure                                       int64\n",
       "PhoneService                                 int64\n",
       "MultipleLines                                int64\n",
       "OnlineSecurity                               int64\n",
       "OnlineBackup                                 int64\n",
       "DeviceProtection                             int64\n",
       "TechSupport                                  int64\n",
       "StreamingTV                                  int64\n",
       "StreamingMovies                              int64\n",
       "PaperlessBilling                             int64\n",
       "MonthlyCharges                             float64\n",
       "TotalCharges                               float64\n",
       "Churn                                        int64\n",
       "InternetService_DSL                          int64\n",
       "InternetService_Fiber optic                  int64\n",
       "InternetService_No                           int64\n",
       "Contract_Month-to-month                      int64\n",
       "Contract_One year                            int64\n",
       "Contract_Two year                            int64\n",
       "PaymentMethod_Bank transfer (automatic)      int64\n",
       "PaymentMethod_Credit card (automatic)        int64\n",
       "PaymentMethod_Electronic check               int64\n",
       "PaymentMethod_Mailed check                   int64\n",
       "dtype: object"
      ]
     },
     "execution_count": 32,
     "metadata": {},
     "output_type": "execute_result"
    }
   ],
   "source": [
    "df2.dtypes"
   ]
  },
  {
   "cell_type": "code",
   "execution_count": 33,
   "metadata": {},
   "outputs": [],
   "source": [
    "# Scaling numerical columns using MinMaxScaler\n",
    "cols_to_scale = [\"tenure\", \"MonthlyCharges\", \"TotalCharges\"]\n",
    "from sklearn.preprocessing import MinMaxScaler\n",
    "scaler = MinMaxScaler()\n",
    "df2[cols_to_scale] = scaler.fit_transform(df2[cols_to_scale])  # Scaling specified numerical columns"
   ]
  },
  {
   "cell_type": "code",
   "execution_count": 34,
   "metadata": {},
   "outputs": [
    {
     "name": "stdout",
     "output_type": "stream",
     "text": [
      "gender:[1 0]\n",
      "SeniorCitizen:[0 1]\n",
      "Partner:[1 0]\n",
      "Dependents:[0 1]\n",
      "tenure:[0.         0.46478873 0.01408451 0.61971831 0.09859155 0.29577465\n",
      " 0.12676056 0.38028169 0.85915493 0.16901408 0.21126761 0.8028169\n",
      " 0.67605634 0.33802817 0.95774648 0.71830986 0.98591549 0.28169014\n",
      " 0.15492958 0.4084507  0.64788732 1.         0.22535211 0.36619718\n",
      " 0.05633803 0.63380282 0.14084507 0.97183099 0.87323944 0.5915493\n",
      " 0.1971831  0.83098592 0.23943662 0.91549296 0.11267606 0.02816901\n",
      " 0.42253521 0.69014085 0.88732394 0.77464789 0.08450704 0.57746479\n",
      " 0.47887324 0.66197183 0.3943662  0.90140845 0.52112676 0.94366197\n",
      " 0.43661972 0.76056338 0.50704225 0.49295775 0.56338028 0.07042254\n",
      " 0.04225352 0.45070423 0.92957746 0.30985915 0.78873239 0.84507042\n",
      " 0.18309859 0.26760563 0.73239437 0.54929577 0.81690141 0.32394366\n",
      " 0.6056338  0.25352113 0.74647887 0.70422535 0.35211268 0.53521127]\n",
      "PhoneService:[0 1]\n",
      "MultipleLines:[0 1]\n",
      "OnlineSecurity:[0 1]\n",
      "OnlineBackup:[1 0]\n",
      "DeviceProtection:[0 1]\n",
      "TechSupport:[0 1]\n",
      "StreamingTV:[0 1]\n",
      "StreamingMovies:[0 1]\n",
      "PaperlessBilling:[1 0]\n",
      "MonthlyCharges:[0.11542289 0.38507463 0.35422886 ... 0.44626866 0.25820896 0.60149254]\n",
      "TotalCharges:[0.0012751  0.21586661 0.01031041 ... 0.03780868 0.03321025 0.78764136]\n",
      "Churn:[0 1]\n",
      "InternetService_DSL:[1 0]\n",
      "InternetService_Fiber optic:[0 1]\n",
      "InternetService_No:[0 1]\n",
      "Contract_Month-to-month:[1 0]\n",
      "Contract_One year:[0 1]\n",
      "Contract_Two year:[0 1]\n",
      "PaymentMethod_Bank transfer (automatic):[0 1]\n",
      "PaymentMethod_Credit card (automatic):[0 1]\n",
      "PaymentMethod_Electronic check:[1 0]\n",
      "PaymentMethod_Mailed check:[0 1]\n"
     ]
    }
   ],
   "source": [
    "# Checking the Change\n",
    "for col in df2:\n",
    "    print(f\"{col}:{df2[col].unique()}\")"
   ]
  },
  {
   "cell_type": "code",
   "execution_count": 35,
   "metadata": {},
   "outputs": [],
   "source": [
    "# Splitting the data into features (x) and target variable (y)\n",
    "x = df2.drop(\"Churn\", axis=\"columns\")  # Features (excluding 'Churn' column)\n",
    "y = df2[\"Churn\"]  # Target variable ('Churn' column)"
   ]
  },
  {
   "cell_type": "code",
   "execution_count": 36,
   "metadata": {},
   "outputs": [],
   "source": [
    "# Splitting the data into training and testing sets\n",
    "from sklearn.model_selection import train_test_split\n",
    "x_train, x_test, y_train, y_test = train_test_split(x, y, test_size=0.2, random_state=5)  # Train-test split"
   ]
  },
  {
   "cell_type": "code",
   "execution_count": 37,
   "metadata": {},
   "outputs": [
    {
     "data": {
      "text/plain": [
       "26"
      ]
     },
     "execution_count": 37,
     "metadata": {},
     "output_type": "execute_result"
    }
   ],
   "source": [
    "len(x_train.columns)"
   ]
  },
  {
   "cell_type": "markdown",
   "metadata": {},
   "source": [
    "**Build a model (ANN) in tensorflow/keras**"
   ]
  },
  {
   "cell_type": "code",
   "execution_count": 38,
   "metadata": {},
   "outputs": [],
   "source": [
    "import tensorflow as tf\n",
    "from tensorflow import keras\n",
    "from sklearn.metrics import confusion_matrix,classification_report"
   ]
  },
  {
   "cell_type": "code",
   "execution_count": 39,
   "metadata": {},
   "outputs": [],
   "source": [
    "def ANN(X_train, y_train, X_test, y_test, loss, weights):\n",
    "    model = keras.Sequential([\n",
    "        keras.layers.Dense(26, input_dim=26, activation='relu'),\n",
    "        keras.layers.Dense(15, activation='relu'),\n",
    "        keras.layers.Dense(1, activation='sigmoid')\n",
    "    ])\n",
    "\n",
    "    model.compile(optimizer='adam', loss=loss, metrics=['accuracy'])\n",
    "    \n",
    "    if weights == -1:\n",
    "        model.fit(X_train, y_train, epochs=100)\n",
    "    else:\n",
    "        model.fit(X_train, y_train, epochs=100, class_weight = weights)\n",
    "    \n",
    "    print(model.evaluate(X_test, y_test))\n",
    "    \n",
    "    y_preds = model.predict(X_test)\n",
    "    y_preds = np.round(y_preds)\n",
    "    \n",
    "    print(\"Classification Report: \\n\", classification_report(y_test, y_preds))\n",
    "    \n",
    "    return y_preds"
   ]
  },
  {
   "cell_type": "code",
   "execution_count": 40,
   "metadata": {},
   "outputs": [
    {
     "name": "stderr",
     "output_type": "stream",
     "text": [
      "2024-05-15 03:31:31.396034: I metal_plugin/src/device/metal_device.cc:1154] Metal device set to: Apple M2\n",
      "2024-05-15 03:31:31.396071: I metal_plugin/src/device/metal_device.cc:296] systemMemory: 8.00 GB\n",
      "2024-05-15 03:31:31.396078: I metal_plugin/src/device/metal_device.cc:313] maxCacheSize: 2.67 GB\n",
      "2024-05-15 03:31:31.396521: I tensorflow/core/common_runtime/pluggable_device/pluggable_device_factory.cc:303] Could not identify NUMA node of platform GPU ID 0, defaulting to 0. Your kernel may not have been built with NUMA support.\n",
      "2024-05-15 03:31:31.396887: I tensorflow/core/common_runtime/pluggable_device/pluggable_device_factory.cc:269] Created TensorFlow device (/job:localhost/replica:0/task:0/device:GPU:0 with 0 MB memory) -> physical PluggableDevice (device: 0, name: METAL, pci bus id: <undefined>)\n"
     ]
    },
    {
     "name": "stdout",
     "output_type": "stream",
     "text": [
      "Epoch 1/100\n"
     ]
    },
    {
     "name": "stderr",
     "output_type": "stream",
     "text": [
      "2024-05-15 03:31:32.019799: I tensorflow/core/grappler/optimizers/custom_graph_optimizer_registry.cc:114] Plugin optimizer for device_type GPU is enabled.\n"
     ]
    },
    {
     "name": "stdout",
     "output_type": "stream",
     "text": [
      "176/176 [==============================] - 2s 10ms/step - loss: 0.4475 - accuracy: 0.7831\n",
      "Epoch 2/100\n",
      "176/176 [==============================] - 2s 9ms/step - loss: 0.4194 - accuracy: 0.7998\n",
      "Epoch 3/100\n",
      "176/176 [==============================] - 2s 9ms/step - loss: 0.4166 - accuracy: 0.8034\n",
      "Epoch 4/100\n",
      "176/176 [==============================] - 2s 9ms/step - loss: 0.4160 - accuracy: 0.8041\n",
      "Epoch 5/100\n",
      "176/176 [==============================] - 2s 9ms/step - loss: 0.4171 - accuracy: 0.8027\n",
      "Epoch 6/100\n",
      "176/176 [==============================] - 2s 9ms/step - loss: 0.4155 - accuracy: 0.8059\n",
      "Epoch 7/100\n",
      "176/176 [==============================] - 1s 8ms/step - loss: 0.4150 - accuracy: 0.8044\n",
      "Epoch 8/100\n",
      "176/176 [==============================] - 2s 9ms/step - loss: 0.4157 - accuracy: 0.8048\n",
      "Epoch 9/100\n",
      "176/176 [==============================] - 2s 9ms/step - loss: 0.4157 - accuracy: 0.8043\n",
      "Epoch 10/100\n",
      "176/176 [==============================] - 2s 9ms/step - loss: 0.4156 - accuracy: 0.8041\n",
      "Epoch 11/100\n",
      "176/176 [==============================] - 2s 9ms/step - loss: 0.4153 - accuracy: 0.8064\n",
      "Epoch 12/100\n",
      "176/176 [==============================] - 2s 12ms/step - loss: 0.4161 - accuracy: 0.8037\n",
      "Epoch 13/100\n",
      "176/176 [==============================] - 2s 10ms/step - loss: 0.4156 - accuracy: 0.8027\n",
      "Epoch 14/100\n",
      "176/176 [==============================] - 2s 9ms/step - loss: 0.4158 - accuracy: 0.8046\n",
      "Epoch 15/100\n",
      "176/176 [==============================] - 2s 9ms/step - loss: 0.4178 - accuracy: 0.8053\n",
      "Epoch 16/100\n",
      "176/176 [==============================] - 2s 10ms/step - loss: 0.4156 - accuracy: 0.8062\n",
      "Epoch 17/100\n",
      "176/176 [==============================] - 2s 9ms/step - loss: 0.4159 - accuracy: 0.8012\n",
      "Epoch 18/100\n",
      "176/176 [==============================] - 2s 9ms/step - loss: 0.4148 - accuracy: 0.8032\n",
      "Epoch 19/100\n",
      "176/176 [==============================] - 2s 9ms/step - loss: 0.4181 - accuracy: 0.8048\n",
      "Epoch 20/100\n",
      "176/176 [==============================] - 2s 9ms/step - loss: 0.4171 - accuracy: 0.7996\n",
      "Epoch 21/100\n",
      "176/176 [==============================] - 2s 9ms/step - loss: 0.4162 - accuracy: 0.8046\n",
      "Epoch 22/100\n",
      "176/176 [==============================] - 2s 9ms/step - loss: 0.4170 - accuracy: 0.8052\n",
      "Epoch 23/100\n",
      "176/176 [==============================] - 1s 8ms/step - loss: 0.4172 - accuracy: 0.8050\n",
      "Epoch 24/100\n",
      "176/176 [==============================] - 2s 9ms/step - loss: 0.4158 - accuracy: 0.8043\n",
      "Epoch 25/100\n",
      "176/176 [==============================] - 2s 9ms/step - loss: 0.4167 - accuracy: 0.8016\n",
      "Epoch 26/100\n",
      "176/176 [==============================] - 2s 9ms/step - loss: 0.4179 - accuracy: 0.8021\n",
      "Epoch 27/100\n",
      "176/176 [==============================] - 2s 9ms/step - loss: 0.4161 - accuracy: 0.8044\n",
      "Epoch 28/100\n",
      "176/176 [==============================] - 2s 9ms/step - loss: 0.4161 - accuracy: 0.8028\n",
      "Epoch 29/100\n",
      "176/176 [==============================] - 1s 8ms/step - loss: 0.4171 - accuracy: 0.8039\n",
      "Epoch 30/100\n",
      "176/176 [==============================] - 2s 9ms/step - loss: 0.4189 - accuracy: 0.8036\n",
      "Epoch 31/100\n",
      "176/176 [==============================] - 2s 9ms/step - loss: 0.4152 - accuracy: 0.8050\n",
      "Epoch 32/100\n",
      "176/176 [==============================] - 2s 9ms/step - loss: 0.4185 - accuracy: 0.8032\n",
      "Epoch 33/100\n",
      "176/176 [==============================] - 1s 8ms/step - loss: 0.4204 - accuracy: 0.8012\n",
      "Epoch 34/100\n",
      "176/176 [==============================] - 2s 9ms/step - loss: 0.4212 - accuracy: 0.8027\n",
      "Epoch 35/100\n",
      "176/176 [==============================] - 1s 8ms/step - loss: 0.4177 - accuracy: 0.7998\n",
      "Epoch 36/100\n",
      "176/176 [==============================] - 2s 9ms/step - loss: 0.4206 - accuracy: 0.8005\n",
      "Epoch 37/100\n",
      "176/176 [==============================] - 2s 9ms/step - loss: 0.4178 - accuracy: 0.8057\n",
      "Epoch 38/100\n",
      "176/176 [==============================] - 1s 8ms/step - loss: 0.4180 - accuracy: 0.8053\n",
      "Epoch 39/100\n",
      "176/176 [==============================] - 2s 9ms/step - loss: 0.4186 - accuracy: 0.7995\n",
      "Epoch 40/100\n",
      "176/176 [==============================] - 1s 8ms/step - loss: 0.4196 - accuracy: 0.7973\n",
      "Epoch 41/100\n",
      "176/176 [==============================] - 2s 9ms/step - loss: 0.4206 - accuracy: 0.7984\n",
      "Epoch 42/100\n",
      "176/176 [==============================] - 2s 10ms/step - loss: 0.4185 - accuracy: 0.8011\n",
      "Epoch 43/100\n",
      "176/176 [==============================] - 2s 9ms/step - loss: 0.4170 - accuracy: 0.8030\n",
      "Epoch 44/100\n",
      "176/176 [==============================] - 1s 8ms/step - loss: 0.4229 - accuracy: 0.8078\n",
      "Epoch 45/100\n",
      "176/176 [==============================] - 2s 9ms/step - loss: 0.4201 - accuracy: 0.8037\n",
      "Epoch 46/100\n",
      "176/176 [==============================] - 1s 8ms/step - loss: 0.4213 - accuracy: 0.7970\n",
      "Epoch 47/100\n",
      "176/176 [==============================] - 2s 9ms/step - loss: 0.4217 - accuracy: 0.8009\n",
      "Epoch 48/100\n",
      "176/176 [==============================] - 1s 8ms/step - loss: 0.4217 - accuracy: 0.8016\n",
      "Epoch 49/100\n",
      "176/176 [==============================] - 2s 9ms/step - loss: 0.4226 - accuracy: 0.8048\n",
      "Epoch 50/100\n",
      "176/176 [==============================] - 2s 9ms/step - loss: 0.4211 - accuracy: 0.7989\n",
      "Epoch 51/100\n",
      "176/176 [==============================] - 2s 9ms/step - loss: 0.4219 - accuracy: 0.7993\n",
      "Epoch 52/100\n",
      "176/176 [==============================] - 1s 8ms/step - loss: 0.4220 - accuracy: 0.8005\n",
      "Epoch 53/100\n",
      "176/176 [==============================] - 2s 9ms/step - loss: 0.4230 - accuracy: 0.8012\n",
      "Epoch 54/100\n",
      "176/176 [==============================] - 1s 8ms/step - loss: 0.4238 - accuracy: 0.7982\n",
      "Epoch 55/100\n",
      "176/176 [==============================] - 2s 9ms/step - loss: 0.4236 - accuracy: 0.7995\n",
      "Epoch 56/100\n",
      "176/176 [==============================] - 1s 8ms/step - loss: 0.4218 - accuracy: 0.8012\n",
      "Epoch 57/100\n",
      "176/176 [==============================] - 2s 10ms/step - loss: 0.4221 - accuracy: 0.7998\n",
      "Epoch 58/100\n",
      "176/176 [==============================] - 2s 11ms/step - loss: 0.4261 - accuracy: 0.7968\n",
      "Epoch 59/100\n",
      "176/176 [==============================] - 2s 9ms/step - loss: 0.4249 - accuracy: 0.7996\n",
      "Epoch 60/100\n",
      "176/176 [==============================] - 2s 9ms/step - loss: 0.4237 - accuracy: 0.8005\n",
      "Epoch 61/100\n",
      "176/176 [==============================] - 2s 9ms/step - loss: 0.4316 - accuracy: 0.7968\n",
      "Epoch 62/100\n",
      "176/176 [==============================] - 2s 9ms/step - loss: 0.4247 - accuracy: 0.8025\n",
      "Epoch 63/100\n",
      "176/176 [==============================] - 1s 8ms/step - loss: 0.4237 - accuracy: 0.8055\n",
      "Epoch 64/100\n",
      "176/176 [==============================] - 2s 9ms/step - loss: 0.4231 - accuracy: 0.7998\n",
      "Epoch 65/100\n",
      "176/176 [==============================] - 1s 8ms/step - loss: 0.4344 - accuracy: 0.7925\n",
      "Epoch 66/100\n",
      "176/176 [==============================] - 2s 9ms/step - loss: 0.4258 - accuracy: 0.8011\n",
      "Epoch 67/100\n",
      "176/176 [==============================] - 1s 8ms/step - loss: 0.4293 - accuracy: 0.7943\n",
      "Epoch 68/100\n",
      "176/176 [==============================] - 2s 9ms/step - loss: 0.4291 - accuracy: 0.7966\n",
      "Epoch 69/100\n",
      "176/176 [==============================] - 1s 8ms/step - loss: 0.4266 - accuracy: 0.8055\n",
      "Epoch 70/100\n",
      "176/176 [==============================] - 2s 9ms/step - loss: 0.4247 - accuracy: 0.8009\n",
      "Epoch 71/100\n",
      "176/176 [==============================] - 2s 9ms/step - loss: 0.4274 - accuracy: 0.8027\n",
      "Epoch 72/100\n",
      "176/176 [==============================] - 2s 9ms/step - loss: 0.4277 - accuracy: 0.7956\n",
      "Epoch 73/100\n",
      "176/176 [==============================] - 2s 10ms/step - loss: 0.4264 - accuracy: 0.8002\n",
      "Epoch 74/100\n",
      "176/176 [==============================] - 1s 9ms/step - loss: 0.4281 - accuracy: 0.8004\n",
      "Epoch 75/100\n",
      "176/176 [==============================] - 2s 9ms/step - loss: 0.4259 - accuracy: 0.8016\n",
      "Epoch 76/100\n",
      "176/176 [==============================] - 2s 9ms/step - loss: 0.4311 - accuracy: 0.7988\n",
      "Epoch 77/100\n",
      "176/176 [==============================] - 2s 9ms/step - loss: 0.4258 - accuracy: 0.7956\n",
      "Epoch 78/100\n",
      "176/176 [==============================] - 2s 9ms/step - loss: 0.4306 - accuracy: 0.7993\n",
      "Epoch 79/100\n",
      "176/176 [==============================] - 2s 9ms/step - loss: 0.4327 - accuracy: 0.7952\n",
      "Epoch 80/100\n",
      "176/176 [==============================] - 2s 9ms/step - loss: 0.4317 - accuracy: 0.7977\n",
      "Epoch 81/100\n",
      "176/176 [==============================] - 1s 8ms/step - loss: 0.4335 - accuracy: 0.7936\n",
      "Epoch 82/100\n",
      "176/176 [==============================] - 2s 9ms/step - loss: 0.4272 - accuracy: 0.7995\n",
      "Epoch 83/100\n",
      "176/176 [==============================] - 1s 8ms/step - loss: 0.4331 - accuracy: 0.7954\n",
      "Epoch 84/100\n",
      "176/176 [==============================] - 2s 9ms/step - loss: 0.4292 - accuracy: 0.8016\n",
      "Epoch 85/100\n",
      "176/176 [==============================] - 2s 9ms/step - loss: 0.4308 - accuracy: 0.7972\n",
      "Epoch 86/100\n",
      "176/176 [==============================] - 2s 9ms/step - loss: 0.4331 - accuracy: 0.7948\n",
      "Epoch 87/100\n",
      "176/176 [==============================] - 1s 8ms/step - loss: 0.4325 - accuracy: 0.7970\n",
      "Epoch 88/100\n",
      "176/176 [==============================] - 2s 9ms/step - loss: 0.4405 - accuracy: 0.7975\n",
      "Epoch 89/100\n",
      "176/176 [==============================] - 2s 9ms/step - loss: 0.4356 - accuracy: 0.7957\n",
      "Epoch 90/100\n",
      "176/176 [==============================] - 1s 8ms/step - loss: 0.4373 - accuracy: 0.7959\n",
      "Epoch 91/100\n",
      "176/176 [==============================] - 2s 9ms/step - loss: 0.4324 - accuracy: 0.7972\n",
      "Epoch 92/100\n",
      "176/176 [==============================] - 1s 8ms/step - loss: 0.4366 - accuracy: 0.7952\n",
      "Epoch 93/100\n",
      "176/176 [==============================] - 2s 9ms/step - loss: 0.4395 - accuracy: 0.7932\n",
      "Epoch 94/100\n",
      "176/176 [==============================] - 1s 8ms/step - loss: 0.4339 - accuracy: 0.7948\n",
      "Epoch 95/100\n",
      "176/176 [==============================] - 2s 9ms/step - loss: 0.4427 - accuracy: 0.7895\n",
      "Epoch 96/100\n",
      "176/176 [==============================] - 2s 9ms/step - loss: 0.4363 - accuracy: 0.7877\n",
      "Epoch 97/100\n",
      "176/176 [==============================] - 2s 10ms/step - loss: 0.4303 - accuracy: 0.8037\n",
      "Epoch 98/100\n",
      "176/176 [==============================] - 2s 9ms/step - loss: 0.4377 - accuracy: 0.7881\n",
      "Epoch 99/100\n",
      "176/176 [==============================] - 1s 8ms/step - loss: 0.4367 - accuracy: 0.7948\n",
      "Epoch 100/100\n",
      "176/176 [==============================] - 1s 9ms/step - loss: 0.4376 - accuracy: 0.7913\n",
      " 1/44 [..............................] - ETA: 12s - loss: 0.5749 - accuracy: 0.7188"
     ]
    },
    {
     "name": "stderr",
     "output_type": "stream",
     "text": [
      "2024-05-15 03:34:08.116818: I tensorflow/core/grappler/optimizers/custom_graph_optimizer_registry.cc:114] Plugin optimizer for device_type GPU is enabled.\n"
     ]
    },
    {
     "name": "stdout",
     "output_type": "stream",
     "text": [
      "44/44 [==============================] - 1s 7ms/step - loss: 0.4467 - accuracy: 0.7889\n",
      "[0.4466608166694641, 0.7889125943183899]\n",
      "44/44 [==============================] - 0s 2ms/step\n",
      "Classification Report: \n",
      "               precision    recall  f1-score   support\n",
      "\n",
      "           0       0.84      0.86      0.85       999\n",
      "           1       0.64      0.61      0.63       408\n",
      "\n",
      "    accuracy                           0.79      1407\n",
      "   macro avg       0.74      0.74      0.74      1407\n",
      "weighted avg       0.79      0.79      0.79      1407\n",
      "\n"
     ]
    },
    {
     "name": "stderr",
     "output_type": "stream",
     "text": [
      "2024-05-15 03:34:08.664292: I tensorflow/core/grappler/optimizers/custom_graph_optimizer_registry.cc:114] Plugin optimizer for device_type GPU is enabled.\n"
     ]
    }
   ],
   "source": [
    "y_preds = ANN(x_train, y_train, x_test, y_test, 'binary_crossentropy', -1)"
   ]
  },
  {
   "cell_type": "markdown",
   "metadata": {},
   "source": [
    "## Mitigating Skewdness of Data"
   ]
  },
  {
   "cell_type": "markdown",
   "metadata": {},
   "source": [
    "### Method 1: Undersampling"
   ]
  },
  {
   "cell_type": "code",
   "execution_count": 49,
   "metadata": {},
   "outputs": [],
   "source": [
    "# Counting the occurrences of each class in the 'Churn' column\n",
    "count_class_0, count_class_1 = df.Churn.value_counts()  \n",
    "\n",
    "df_class_0 = df2[df2[\"Churn\"] == 0]  # Creating a DataFrame of class 0\n",
    "df_class_1 = df2[df2[\"Churn\"] == 1]  # Creating a DataFrame of class 1"
   ]
  },
  {
   "cell_type": "code",
   "execution_count": 50,
   "metadata": {},
   "outputs": [
    {
     "data": {
      "text/plain": [
       "(5163, 27)"
      ]
     },
     "execution_count": 50,
     "metadata": {},
     "output_type": "execute_result"
    }
   ],
   "source": [
    "df_class_0.shape"
   ]
  },
  {
   "cell_type": "code",
   "execution_count": 52,
   "metadata": {},
   "outputs": [
    {
     "data": {
      "text/plain": [
       "(1869, 27)"
      ]
     },
     "execution_count": 52,
     "metadata": {},
     "output_type": "execute_result"
    }
   ],
   "source": [
    "df_class_1.shape"
   ]
  },
  {
   "cell_type": "markdown",
   "metadata": {},
   "source": [
    "**From above we can see that class o is biger then 1, so we'll do Undersampling of class 0**"
   ]
  },
  {
   "cell_type": "code",
   "execution_count": 59,
   "metadata": {},
   "outputs": [
    {
     "name": "stdout",
     "output_type": "stream",
     "text": [
      "Churn\n",
      "0    1869\n",
      "1    1869\n",
      "Name: count, dtype: int64\n"
     ]
    }
   ],
   "source": [
    "# Undersampling class 0 to balance the classes\n",
    "\n",
    "df_class_0_under=df_class_0.sample(count_class_1)\n",
    "df_test_under=pd.concat([df_class_0_under,df_class_1],axis=0)\n",
    "\n",
    "print(df_test_under.Churn.value_counts())"
   ]
  },
  {
   "cell_type": "code",
   "execution_count": 60,
   "metadata": {},
   "outputs": [],
   "source": [
    "# Creating feature matrix 'x' for undersampled data\n",
    "x = df_test_under.drop(\"Churn\", axis=\"columns\")\n",
    "# Creating target vector 'y' for undersampled data\n",
    "y = df_test_under[\"Churn\"]\n",
    "# Splitting the undersampled data into train and test sets\n",
    "x_train, x_test, y_train, y_test = train_test_split(x, y, test_size=0.2, random_state=15, stratify=y) "
   ]
  },
  {
   "cell_type": "code",
   "execution_count": 61,
   "metadata": {},
   "outputs": [
    {
     "name": "stdout",
     "output_type": "stream",
     "text": [
      "Epoch 1/100\n"
     ]
    },
    {
     "name": "stderr",
     "output_type": "stream",
     "text": [
      "2024-05-15 04:11:30.540823: I tensorflow/core/grappler/optimizers/custom_graph_optimizer_registry.cc:114] Plugin optimizer for device_type GPU is enabled.\n"
     ]
    },
    {
     "name": "stdout",
     "output_type": "stream",
     "text": [
      "94/94 [==============================] - 3s 22ms/step - loss: 0.5994 - accuracy: 0.6773\n",
      "Epoch 2/100\n",
      "94/94 [==============================] - 1s 9ms/step - loss: 0.5027 - accuracy: 0.7589\n",
      "Epoch 3/100\n",
      "94/94 [==============================] - 1s 11ms/step - loss: 0.4889 - accuracy: 0.7672\n",
      "Epoch 4/100\n",
      "94/94 [==============================] - 1s 9ms/step - loss: 0.4834 - accuracy: 0.7682\n",
      "Epoch 5/100\n",
      "94/94 [==============================] - 1s 10ms/step - loss: 0.4823 - accuracy: 0.7686\n",
      "Epoch 6/100\n",
      "94/94 [==============================] - 1s 9ms/step - loss: 0.4807 - accuracy: 0.7729\n",
      "Epoch 7/100\n",
      "94/94 [==============================] - 1s 8ms/step - loss: 0.4806 - accuracy: 0.7709\n",
      "Epoch 8/100\n",
      "94/94 [==============================] - 1s 8ms/step - loss: 0.4807 - accuracy: 0.7732\n",
      "Epoch 9/100\n",
      "94/94 [==============================] - 1s 9ms/step - loss: 0.4796 - accuracy: 0.7709\n",
      "Epoch 10/100\n",
      "94/94 [==============================] - 1s 9ms/step - loss: 0.4784 - accuracy: 0.7736\n",
      "Epoch 11/100\n",
      "94/94 [==============================] - 1s 9ms/step - loss: 0.4794 - accuracy: 0.7753\n",
      "Epoch 12/100\n",
      "94/94 [==============================] - 1s 9ms/step - loss: 0.4788 - accuracy: 0.7732\n",
      "Epoch 13/100\n",
      "94/94 [==============================] - 1s 9ms/step - loss: 0.4785 - accuracy: 0.7716\n",
      "Epoch 14/100\n",
      "94/94 [==============================] - 1s 12ms/step - loss: 0.4787 - accuracy: 0.7699\n",
      "Epoch 15/100\n",
      "94/94 [==============================] - 1s 9ms/step - loss: 0.4795 - accuracy: 0.7709\n",
      "Epoch 16/100\n",
      "94/94 [==============================] - 1s 9ms/step - loss: 0.4789 - accuracy: 0.7702\n",
      "Epoch 17/100\n",
      "94/94 [==============================] - 1s 10ms/step - loss: 0.4796 - accuracy: 0.7672\n",
      "Epoch 18/100\n",
      "94/94 [==============================] - 1s 9ms/step - loss: 0.4796 - accuracy: 0.7722\n",
      "Epoch 19/100\n",
      "94/94 [==============================] - 1s 9ms/step - loss: 0.4774 - accuracy: 0.7672\n",
      "Epoch 20/100\n",
      "94/94 [==============================] - 1s 9ms/step - loss: 0.4794 - accuracy: 0.7676\n",
      "Epoch 21/100\n",
      "94/94 [==============================] - 1s 9ms/step - loss: 0.4791 - accuracy: 0.7716\n",
      "Epoch 22/100\n",
      "94/94 [==============================] - 1s 9ms/step - loss: 0.4792 - accuracy: 0.7682\n",
      "Epoch 23/100\n",
      "94/94 [==============================] - 1s 9ms/step - loss: 0.4792 - accuracy: 0.7686\n",
      "Epoch 24/100\n",
      "94/94 [==============================] - 1s 9ms/step - loss: 0.4792 - accuracy: 0.7672\n",
      "Epoch 25/100\n",
      "94/94 [==============================] - 1s 9ms/step - loss: 0.4793 - accuracy: 0.7712\n",
      "Epoch 26/100\n",
      "94/94 [==============================] - 1s 9ms/step - loss: 0.4812 - accuracy: 0.7686\n",
      "Epoch 27/100\n",
      "94/94 [==============================] - 1s 9ms/step - loss: 0.4796 - accuracy: 0.7696\n",
      "Epoch 28/100\n",
      "94/94 [==============================] - 1s 9ms/step - loss: 0.4797 - accuracy: 0.7679\n",
      "Epoch 29/100\n",
      "94/94 [==============================] - 1s 9ms/step - loss: 0.4789 - accuracy: 0.7659\n",
      "Epoch 30/100\n",
      "94/94 [==============================] - 1s 9ms/step - loss: 0.4788 - accuracy: 0.7699\n",
      "Epoch 31/100\n",
      "94/94 [==============================] - 1s 9ms/step - loss: 0.4793 - accuracy: 0.7682\n",
      "Epoch 32/100\n",
      "94/94 [==============================] - 1s 10ms/step - loss: 0.4794 - accuracy: 0.7706\n",
      "Epoch 33/100\n",
      "94/94 [==============================] - 1s 12ms/step - loss: 0.4782 - accuracy: 0.7679\n",
      "Epoch 34/100\n",
      "94/94 [==============================] - 1s 10ms/step - loss: 0.4815 - accuracy: 0.7706\n",
      "Epoch 35/100\n",
      "94/94 [==============================] - 1s 9ms/step - loss: 0.4799 - accuracy: 0.7676\n",
      "Epoch 36/100\n",
      "94/94 [==============================] - 1s 9ms/step - loss: 0.4782 - accuracy: 0.7706\n",
      "Epoch 37/100\n",
      "94/94 [==============================] - 1s 9ms/step - loss: 0.4807 - accuracy: 0.7712\n",
      "Epoch 38/100\n",
      "94/94 [==============================] - 1s 8ms/step - loss: 0.4789 - accuracy: 0.7756\n",
      "Epoch 39/100\n",
      "94/94 [==============================] - 1s 8ms/step - loss: 0.4808 - accuracy: 0.7699\n",
      "Epoch 40/100\n",
      "94/94 [==============================] - 1s 9ms/step - loss: 0.4802 - accuracy: 0.7682\n",
      "Epoch 41/100\n",
      "94/94 [==============================] - 1s 8ms/step - loss: 0.4788 - accuracy: 0.7709\n",
      "Epoch 42/100\n",
      "94/94 [==============================] - 1s 9ms/step - loss: 0.4820 - accuracy: 0.7692\n",
      "Epoch 43/100\n",
      "94/94 [==============================] - 1s 9ms/step - loss: 0.4795 - accuracy: 0.7716\n",
      "Epoch 44/100\n",
      "94/94 [==============================] - 1s 9ms/step - loss: 0.4805 - accuracy: 0.7635\n",
      "Epoch 45/100\n",
      "94/94 [==============================] - 1s 9ms/step - loss: 0.4801 - accuracy: 0.7676\n",
      "Epoch 46/100\n",
      "94/94 [==============================] - 1s 9ms/step - loss: 0.4799 - accuracy: 0.7662\n",
      "Epoch 47/100\n",
      "94/94 [==============================] - 1s 9ms/step - loss: 0.4819 - accuracy: 0.7686\n",
      "Epoch 48/100\n",
      "94/94 [==============================] - 1s 8ms/step - loss: 0.4805 - accuracy: 0.7736\n",
      "Epoch 49/100\n",
      "94/94 [==============================] - 1s 8ms/step - loss: 0.4809 - accuracy: 0.7676\n",
      "Epoch 50/100\n",
      "94/94 [==============================] - 1s 9ms/step - loss: 0.4789 - accuracy: 0.7682\n",
      "Epoch 51/100\n",
      "94/94 [==============================] - 1s 8ms/step - loss: 0.4813 - accuracy: 0.7639\n",
      "Epoch 52/100\n",
      "94/94 [==============================] - 1s 9ms/step - loss: 0.4795 - accuracy: 0.7726\n",
      "Epoch 53/100\n",
      "94/94 [==============================] - 1s 8ms/step - loss: 0.4806 - accuracy: 0.7662\n",
      "Epoch 54/100\n",
      "94/94 [==============================] - 1s 10ms/step - loss: 0.4819 - accuracy: 0.7656\n",
      "Epoch 55/100\n",
      "94/94 [==============================] - 1s 9ms/step - loss: 0.4811 - accuracy: 0.7635\n",
      "Epoch 56/100\n",
      "94/94 [==============================] - 1s 8ms/step - loss: 0.4815 - accuracy: 0.7682\n",
      "Epoch 57/100\n",
      "94/94 [==============================] - 1s 9ms/step - loss: 0.4828 - accuracy: 0.7669\n",
      "Epoch 58/100\n",
      "94/94 [==============================] - 1s 9ms/step - loss: 0.4801 - accuracy: 0.7696\n",
      "Epoch 59/100\n",
      "94/94 [==============================] - 1s 10ms/step - loss: 0.4818 - accuracy: 0.7689\n",
      "Epoch 60/100\n",
      "94/94 [==============================] - 1s 9ms/step - loss: 0.4798 - accuracy: 0.7682\n",
      "Epoch 61/100\n",
      "94/94 [==============================] - 1s 10ms/step - loss: 0.4825 - accuracy: 0.7666\n",
      "Epoch 62/100\n",
      "94/94 [==============================] - 1s 9ms/step - loss: 0.4817 - accuracy: 0.7696\n",
      "Epoch 63/100\n",
      "94/94 [==============================] - 1s 10ms/step - loss: 0.4831 - accuracy: 0.7682\n",
      "Epoch 64/100\n",
      "94/94 [==============================] - 1s 9ms/step - loss: 0.4829 - accuracy: 0.7666\n",
      "Epoch 65/100\n",
      "94/94 [==============================] - 1s 10ms/step - loss: 0.4826 - accuracy: 0.7716\n",
      "Epoch 66/100\n",
      "94/94 [==============================] - 1s 9ms/step - loss: 0.4816 - accuracy: 0.7659\n",
      "Epoch 67/100\n",
      "94/94 [==============================] - 1s 10ms/step - loss: 0.4823 - accuracy: 0.7662\n",
      "Epoch 68/100\n",
      "94/94 [==============================] - 1s 10ms/step - loss: 0.4811 - accuracy: 0.7722\n",
      "Epoch 69/100\n",
      "94/94 [==============================] - 1s 9ms/step - loss: 0.4843 - accuracy: 0.7692\n",
      "Epoch 70/100\n",
      "94/94 [==============================] - 1s 9ms/step - loss: 0.4874 - accuracy: 0.7662\n",
      "Epoch 71/100\n",
      "94/94 [==============================] - 1s 11ms/step - loss: 0.4799 - accuracy: 0.7682\n",
      "Epoch 72/100\n",
      "94/94 [==============================] - 1s 11ms/step - loss: 0.4827 - accuracy: 0.7639\n",
      "Epoch 73/100\n",
      "94/94 [==============================] - 1s 10ms/step - loss: 0.4828 - accuracy: 0.7659\n",
      "Epoch 74/100\n",
      "94/94 [==============================] - 1s 9ms/step - loss: 0.4851 - accuracy: 0.7605\n",
      "Epoch 75/100\n",
      "94/94 [==============================] - 1s 11ms/step - loss: 0.4797 - accuracy: 0.7706\n",
      "Epoch 76/100\n",
      "94/94 [==============================] - 1s 8ms/step - loss: 0.4844 - accuracy: 0.7649\n",
      "Epoch 77/100\n",
      "94/94 [==============================] - 1s 9ms/step - loss: 0.4825 - accuracy: 0.7672\n",
      "Epoch 78/100\n",
      "94/94 [==============================] - 1s 8ms/step - loss: 0.4799 - accuracy: 0.7682\n",
      "Epoch 79/100\n",
      "94/94 [==============================] - 1s 8ms/step - loss: 0.4843 - accuracy: 0.7689\n",
      "Epoch 80/100\n",
      "94/94 [==============================] - 1s 8ms/step - loss: 0.4819 - accuracy: 0.7722\n",
      "Epoch 81/100\n",
      "94/94 [==============================] - 1s 9ms/step - loss: 0.4840 - accuracy: 0.7639\n",
      "Epoch 82/100\n",
      "94/94 [==============================] - 1s 8ms/step - loss: 0.4833 - accuracy: 0.7692\n",
      "Epoch 83/100\n",
      "94/94 [==============================] - 1s 8ms/step - loss: 0.4871 - accuracy: 0.7682\n",
      "Epoch 84/100\n",
      "94/94 [==============================] - 1s 8ms/step - loss: 0.4836 - accuracy: 0.7625\n",
      "Epoch 85/100\n",
      "94/94 [==============================] - 1s 10ms/step - loss: 0.4854 - accuracy: 0.7656\n",
      "Epoch 86/100\n",
      "94/94 [==============================] - 1s 9ms/step - loss: 0.4912 - accuracy: 0.7609\n",
      "Epoch 87/100\n",
      "94/94 [==============================] - 1s 8ms/step - loss: 0.4931 - accuracy: 0.7612\n",
      "Epoch 88/100\n",
      "94/94 [==============================] - 1s 9ms/step - loss: 0.4888 - accuracy: 0.7656\n",
      "Epoch 89/100\n",
      "94/94 [==============================] - 1s 8ms/step - loss: 0.4800 - accuracy: 0.7666\n",
      "Epoch 90/100\n",
      "94/94 [==============================] - 1s 8ms/step - loss: 0.4859 - accuracy: 0.7682\n",
      "Epoch 91/100\n",
      "94/94 [==============================] - 1s 9ms/step - loss: 0.4881 - accuracy: 0.7639\n",
      "Epoch 92/100\n",
      "94/94 [==============================] - 1s 9ms/step - loss: 0.4891 - accuracy: 0.7659\n",
      "Epoch 93/100\n",
      "94/94 [==============================] - 1s 8ms/step - loss: 0.4816 - accuracy: 0.7682\n",
      "Epoch 94/100\n",
      "94/94 [==============================] - 1s 8ms/step - loss: 0.4855 - accuracy: 0.7649\n",
      "Epoch 95/100\n",
      "94/94 [==============================] - 1s 9ms/step - loss: 0.4902 - accuracy: 0.7599\n",
      "Epoch 96/100\n",
      "94/94 [==============================] - 1s 9ms/step - loss: 0.4997 - accuracy: 0.7629\n",
      "Epoch 97/100\n",
      "94/94 [==============================] - 1s 8ms/step - loss: 0.4880 - accuracy: 0.7599\n",
      "Epoch 98/100\n",
      "94/94 [==============================] - 1s 9ms/step - loss: 0.4850 - accuracy: 0.7666\n",
      "Epoch 99/100\n",
      "94/94 [==============================] - 1s 9ms/step - loss: 0.4881 - accuracy: 0.7635\n",
      "Epoch 100/100\n",
      "94/94 [==============================] - 1s 9ms/step - loss: 0.4884 - accuracy: 0.7699\n",
      " 1/24 [>.............................] - ETA: 6s - loss: 0.6519 - accuracy: 0.6250"
     ]
    },
    {
     "name": "stderr",
     "output_type": "stream",
     "text": [
      "2024-05-15 04:12:57.104481: I tensorflow/core/grappler/optimizers/custom_graph_optimizer_registry.cc:114] Plugin optimizer for device_type GPU is enabled.\n"
     ]
    },
    {
     "name": "stdout",
     "output_type": "stream",
     "text": [
      "24/24 [==============================] - 1s 30ms/step - loss: 0.5478 - accuracy: 0.7219\n",
      "[0.5478112697601318, 0.7219251394271851]\n",
      "24/24 [==============================] - 0s 2ms/step\n",
      "Classification Report: \n",
      "               precision    recall  f1-score   support\n",
      "\n",
      "           0       0.75      0.66      0.70       374\n",
      "           1       0.70      0.78      0.74       374\n",
      "\n",
      "    accuracy                           0.72       748\n",
      "   macro avg       0.73      0.72      0.72       748\n",
      "weighted avg       0.73      0.72      0.72       748\n",
      "\n"
     ]
    },
    {
     "name": "stderr",
     "output_type": "stream",
     "text": [
      "2024-05-15 04:12:58.012764: I tensorflow/core/grappler/optimizers/custom_graph_optimizer_registry.cc:114] Plugin optimizer for device_type GPU is enabled.\n"
     ]
    }
   ],
   "source": [
    "y_preds=ANN(x_train,y_train,x_test,y_test,\"binary_crossentropy\",-1)"
   ]
  },
  {
   "cell_type": "markdown",
   "metadata": {},
   "source": [
    "### Method2: Oversampling"
   ]
  },
  {
   "cell_type": "code",
   "execution_count": 65,
   "metadata": {},
   "outputs": [
    {
     "data": {
      "text/plain": [
       "(5174, 1869)"
      ]
     },
     "execution_count": 65,
     "metadata": {},
     "output_type": "execute_result"
    }
   ],
   "source": [
    "count_class_0,count_class_1"
   ]
  },
  {
   "cell_type": "code",
   "execution_count": 74,
   "metadata": {},
   "outputs": [
    {
     "data": {
      "text/plain": [
       "(2000, 27)"
      ]
     },
     "execution_count": 74,
     "metadata": {},
     "output_type": "execute_result"
    }
   ],
   "source": [
    "# example of Oversampling\n",
    "df_class_1.sample(2000,replace=True).shape\n",
    "\n",
    "# Here we give \"replace=True\" so it automatically Duplicate...\n",
    "#...the samples from the existing samples to make it 2000"
   ]
  },
  {
   "cell_type": "code",
   "execution_count": 80,
   "metadata": {},
   "outputs": [
    {
     "name": "stdout",
     "output_type": "stream",
     "text": [
      "Churn\n",
      "1    5174\n",
      "0    5163\n",
      "Name: count, dtype: int64\n"
     ]
    }
   ],
   "source": [
    "# Implementing Oversampling\n",
    "df_class_1_over = df_class_1.sample(count_class_0,replace=True)\n",
    "df_test_over=pd.concat([df_class_0,df_class_1_over],axis=0)\n",
    "\n",
    "print(df_test_over.Churn.value_counts())"
   ]
  },
  {
   "cell_type": "code",
   "execution_count": 81,
   "metadata": {},
   "outputs": [],
   "source": [
    "# Creating feature matrix 'x' for undersampled data\n",
    "x = df_test_over.drop(\"Churn\", axis=\"columns\")\n",
    "# Creating target vector 'y' for undersampled data\n",
    "y = df_test_over[\"Churn\"]\n",
    "# Splitting the undersampled data into train and test sets\n",
    "x_train, x_test, y_train, y_test = train_test_split(x, y, test_size=0.2, random_state=15, stratify=y) "
   ]
  },
  {
   "cell_type": "code",
   "execution_count": 83,
   "metadata": {},
   "outputs": [
    {
     "name": "stdout",
     "output_type": "stream",
     "text": [
      "Epoch 1/100\n"
     ]
    },
    {
     "name": "stderr",
     "output_type": "stream",
     "text": [
      "2024-05-15 04:36:55.054711: I tensorflow/core/grappler/optimizers/custom_graph_optimizer_registry.cc:114] Plugin optimizer for device_type GPU is enabled.\n"
     ]
    },
    {
     "name": "stdout",
     "output_type": "stream",
     "text": [
      "259/259 [==============================] - 4s 13ms/step - loss: 0.5530 - accuracy: 0.7121\n",
      "Epoch 2/100\n",
      "259/259 [==============================] - 3s 10ms/step - loss: 0.4950 - accuracy: 0.7599\n",
      "Epoch 3/100\n",
      "259/259 [==============================] - 2s 10ms/step - loss: 0.4924 - accuracy: 0.7649\n",
      "Epoch 4/100\n",
      "259/259 [==============================] - 2s 9ms/step - loss: 0.4917 - accuracy: 0.7631\n",
      "Epoch 5/100\n",
      "259/259 [==============================] - 2s 8ms/step - loss: 0.4917 - accuracy: 0.7612\n",
      "Epoch 6/100\n",
      "259/259 [==============================] - 3s 10ms/step - loss: 0.4919 - accuracy: 0.7618\n",
      "Epoch 7/100\n",
      "259/259 [==============================] - 2s 9ms/step - loss: 0.4923 - accuracy: 0.7621\n",
      "Epoch 8/100\n",
      "259/259 [==============================] - 2s 9ms/step - loss: 0.4925 - accuracy: 0.7630\n",
      "Epoch 9/100\n",
      "259/259 [==============================] - 2s 9ms/step - loss: 0.4912 - accuracy: 0.7628\n",
      "Epoch 10/100\n",
      "259/259 [==============================] - 2s 9ms/step - loss: 0.4923 - accuracy: 0.7642\n",
      "Epoch 11/100\n",
      "259/259 [==============================] - 2s 9ms/step - loss: 0.4915 - accuracy: 0.7655\n",
      "Epoch 12/100\n",
      "259/259 [==============================] - 2s 9ms/step - loss: 0.4928 - accuracy: 0.7590\n",
      "Epoch 13/100\n",
      "259/259 [==============================] - 2s 9ms/step - loss: 0.4921 - accuracy: 0.7635\n",
      "Epoch 14/100\n",
      "259/259 [==============================] - 2s 9ms/step - loss: 0.4946 - accuracy: 0.7647\n",
      "Epoch 15/100\n",
      "259/259 [==============================] - 2s 9ms/step - loss: 0.4938 - accuracy: 0.7625\n",
      "Epoch 16/100\n",
      "259/259 [==============================] - 2s 8ms/step - loss: 0.4958 - accuracy: 0.7636\n",
      "Epoch 17/100\n",
      "259/259 [==============================] - 2s 8ms/step - loss: 0.4970 - accuracy: 0.7619\n",
      "Epoch 18/100\n",
      "259/259 [==============================] - 2s 8ms/step - loss: 0.4968 - accuracy: 0.7598\n",
      "Epoch 19/100\n",
      "259/259 [==============================] - 2s 8ms/step - loss: 0.5015 - accuracy: 0.7569\n",
      "Epoch 20/100\n",
      "259/259 [==============================] - 2s 8ms/step - loss: 0.4986 - accuracy: 0.7603\n",
      "Epoch 21/100\n",
      "259/259 [==============================] - 2s 9ms/step - loss: 0.4949 - accuracy: 0.7608\n",
      "Epoch 22/100\n",
      "259/259 [==============================] - 2s 9ms/step - loss: 0.4998 - accuracy: 0.7610\n",
      "Epoch 23/100\n",
      "259/259 [==============================] - 2s 8ms/step - loss: 0.5029 - accuracy: 0.7601\n",
      "Epoch 24/100\n",
      "259/259 [==============================] - 2s 9ms/step - loss: 0.5035 - accuracy: 0.7601\n",
      "Epoch 25/100\n",
      "259/259 [==============================] - 2s 10ms/step - loss: 0.4971 - accuracy: 0.7625\n",
      "Epoch 26/100\n",
      "259/259 [==============================] - 2s 9ms/step - loss: 0.5070 - accuracy: 0.7550\n",
      "Epoch 27/100\n",
      "259/259 [==============================] - 2s 9ms/step - loss: 0.5067 - accuracy: 0.7581\n",
      "Epoch 28/100\n",
      "259/259 [==============================] - 2s 9ms/step - loss: 0.5032 - accuracy: 0.7572\n",
      "Epoch 29/100\n",
      "259/259 [==============================] - 2s 9ms/step - loss: 0.5081 - accuracy: 0.7570\n",
      "Epoch 30/100\n",
      "259/259 [==============================] - 2s 9ms/step - loss: 0.5030 - accuracy: 0.7574\n",
      "Epoch 31/100\n",
      "259/259 [==============================] - 2s 9ms/step - loss: 0.5050 - accuracy: 0.7584\n",
      "Epoch 32/100\n",
      "259/259 [==============================] - 2s 9ms/step - loss: 0.5112 - accuracy: 0.7528\n",
      "Epoch 33/100\n",
      "259/259 [==============================] - 2s 9ms/step - loss: 0.5224 - accuracy: 0.7551\n",
      "Epoch 34/100\n",
      "259/259 [==============================] - 2s 9ms/step - loss: 0.5087 - accuracy: 0.7574\n",
      "Epoch 35/100\n",
      "259/259 [==============================] - 2s 9ms/step - loss: 0.5065 - accuracy: 0.7575\n",
      "Epoch 36/100\n",
      "259/259 [==============================] - 2s 9ms/step - loss: 0.5052 - accuracy: 0.7602\n",
      "Epoch 37/100\n",
      "259/259 [==============================] - 2s 8ms/step - loss: 0.5124 - accuracy: 0.7529\n",
      "Epoch 38/100\n",
      "259/259 [==============================] - 2s 8ms/step - loss: 0.5207 - accuracy: 0.7499\n",
      "Epoch 39/100\n",
      "259/259 [==============================] - 2s 9ms/step - loss: 0.5157 - accuracy: 0.7523\n",
      "Epoch 40/100\n",
      "259/259 [==============================] - 2s 8ms/step - loss: 0.5155 - accuracy: 0.7528\n",
      "Epoch 41/100\n",
      "259/259 [==============================] - 2s 8ms/step - loss: 0.5144 - accuracy: 0.7522\n",
      "Epoch 42/100\n",
      "259/259 [==============================] - 2s 8ms/step - loss: 0.5123 - accuracy: 0.7546\n",
      "Epoch 43/100\n",
      "259/259 [==============================] - 2s 9ms/step - loss: 0.5174 - accuracy: 0.7523\n",
      "Epoch 44/100\n",
      "259/259 [==============================] - 3s 11ms/step - loss: 0.5209 - accuracy: 0.7557\n",
      "Epoch 45/100\n",
      "259/259 [==============================] - 2s 8ms/step - loss: 0.5318 - accuracy: 0.7454\n",
      "Epoch 46/100\n",
      "259/259 [==============================] - 2s 9ms/step - loss: 0.5250 - accuracy: 0.7487\n",
      "Epoch 47/100\n",
      "259/259 [==============================] - 2s 9ms/step - loss: 0.5163 - accuracy: 0.7578\n",
      "Epoch 48/100\n",
      "259/259 [==============================] - 2s 9ms/step - loss: 0.5407 - accuracy: 0.7465\n",
      "Epoch 49/100\n",
      "259/259 [==============================] - 2s 9ms/step - loss: 0.5208 - accuracy: 0.7522\n",
      "Epoch 50/100\n",
      "259/259 [==============================] - 2s 9ms/step - loss: 0.5166 - accuracy: 0.7524\n",
      "Epoch 51/100\n",
      "259/259 [==============================] - 2s 9ms/step - loss: 0.5164 - accuracy: 0.7516\n",
      "Epoch 52/100\n",
      "259/259 [==============================] - 2s 9ms/step - loss: 0.5420 - accuracy: 0.7460\n",
      "Epoch 53/100\n",
      "259/259 [==============================] - 2s 9ms/step - loss: 0.5206 - accuracy: 0.7516\n",
      "Epoch 54/100\n",
      "259/259 [==============================] - 2s 9ms/step - loss: 0.5271 - accuracy: 0.7526\n",
      "Epoch 55/100\n",
      "259/259 [==============================] - 2s 9ms/step - loss: 0.5256 - accuracy: 0.7482\n",
      "Epoch 56/100\n",
      "259/259 [==============================] - 2s 9ms/step - loss: 0.5203 - accuracy: 0.7474\n",
      "Epoch 57/100\n",
      "259/259 [==============================] - 2s 8ms/step - loss: 0.5457 - accuracy: 0.7462\n",
      "Epoch 58/100\n",
      "259/259 [==============================] - 2s 8ms/step - loss: 0.5195 - accuracy: 0.7540\n",
      "Epoch 59/100\n",
      "259/259 [==============================] - 2s 9ms/step - loss: 0.5319 - accuracy: 0.7466\n",
      "Epoch 60/100\n",
      "259/259 [==============================] - 2s 9ms/step - loss: 0.5439 - accuracy: 0.7483\n",
      "Epoch 61/100\n",
      "259/259 [==============================] - 2s 8ms/step - loss: 0.5496 - accuracy: 0.7411\n",
      "Epoch 62/100\n",
      "259/259 [==============================] - 2s 9ms/step - loss: 0.5349 - accuracy: 0.7412\n",
      "Epoch 63/100\n",
      "259/259 [==============================] - 2s 9ms/step - loss: 0.5469 - accuracy: 0.7440\n",
      "Epoch 64/100\n",
      "259/259 [==============================] - 2s 8ms/step - loss: 0.5496 - accuracy: 0.7452\n",
      "Epoch 65/100\n",
      "259/259 [==============================] - 2s 9ms/step - loss: 0.5358 - accuracy: 0.7448\n",
      "Epoch 66/100\n",
      "259/259 [==============================] - 2s 9ms/step - loss: 0.5321 - accuracy: 0.7487\n",
      "Epoch 67/100\n",
      "259/259 [==============================] - 2s 9ms/step - loss: 0.5610 - accuracy: 0.7387\n",
      "Epoch 68/100\n",
      "259/259 [==============================] - 2s 8ms/step - loss: 0.5470 - accuracy: 0.7458\n",
      "Epoch 69/100\n",
      "259/259 [==============================] - 2s 9ms/step - loss: 0.5505 - accuracy: 0.7437\n",
      "Epoch 70/100\n",
      "259/259 [==============================] - 2s 9ms/step - loss: 0.5283 - accuracy: 0.7483\n",
      "Epoch 71/100\n",
      "259/259 [==============================] - 2s 8ms/step - loss: 0.5541 - accuracy: 0.7425\n",
      "Epoch 72/100\n",
      "259/259 [==============================] - 2s 8ms/step - loss: 0.6001 - accuracy: 0.7315\n",
      "Epoch 73/100\n",
      "259/259 [==============================] - 2s 9ms/step - loss: 0.5328 - accuracy: 0.7474\n",
      "Epoch 74/100\n",
      "259/259 [==============================] - 2s 8ms/step - loss: 0.5504 - accuracy: 0.7372\n",
      "Epoch 75/100\n",
      "259/259 [==============================] - 2s 8ms/step - loss: 0.5362 - accuracy: 0.7489\n",
      "Epoch 76/100\n",
      "259/259 [==============================] - 2s 9ms/step - loss: 0.5593 - accuracy: 0.7395\n",
      "Epoch 77/100\n",
      "259/259 [==============================] - 2s 8ms/step - loss: 0.5604 - accuracy: 0.7423\n",
      "Epoch 78/100\n",
      "259/259 [==============================] - 2s 8ms/step - loss: 0.5372 - accuracy: 0.7510\n",
      "Epoch 79/100\n",
      "259/259 [==============================] - 3s 10ms/step - loss: 0.5357 - accuracy: 0.7470\n",
      "Epoch 80/100\n",
      "259/259 [==============================] - 2s 9ms/step - loss: 0.5536 - accuracy: 0.7412\n",
      "Epoch 81/100\n",
      "259/259 [==============================] - 2s 9ms/step - loss: 0.5796 - accuracy: 0.7315\n",
      "Epoch 82/100\n",
      "259/259 [==============================] - 2s 9ms/step - loss: 0.5586 - accuracy: 0.7399\n",
      "Epoch 83/100\n",
      "259/259 [==============================] - 2s 9ms/step - loss: 0.5449 - accuracy: 0.7387\n",
      "Epoch 84/100\n",
      "259/259 [==============================] - 2s 10ms/step - loss: 0.5593 - accuracy: 0.7410\n",
      "Epoch 85/100\n",
      "259/259 [==============================] - 3s 11ms/step - loss: 0.5862 - accuracy: 0.7354\n",
      "Epoch 86/100\n",
      "259/259 [==============================] - 2s 9ms/step - loss: 0.5898 - accuracy: 0.7365\n",
      "Epoch 87/100\n",
      "259/259 [==============================] - 3s 10ms/step - loss: 0.5447 - accuracy: 0.7450\n",
      "Epoch 88/100\n",
      "259/259 [==============================] - 2s 9ms/step - loss: 0.5830 - accuracy: 0.7364\n",
      "Epoch 89/100\n",
      "259/259 [==============================] - 2s 8ms/step - loss: 0.5575 - accuracy: 0.7443\n",
      "Epoch 90/100\n",
      "259/259 [==============================] - 2s 8ms/step - loss: 0.5577 - accuracy: 0.7425\n",
      "Epoch 91/100\n",
      "259/259 [==============================] - 2s 8ms/step - loss: 0.5558 - accuracy: 0.7381\n",
      "Epoch 92/100\n",
      "259/259 [==============================] - 2s 10ms/step - loss: 0.5703 - accuracy: 0.7408\n",
      "Epoch 93/100\n",
      "259/259 [==============================] - 2s 8ms/step - loss: 0.5448 - accuracy: 0.7448\n",
      "Epoch 94/100\n",
      "259/259 [==============================] - 2s 9ms/step - loss: 0.5632 - accuracy: 0.7408\n",
      "Epoch 95/100\n",
      "259/259 [==============================] - 2s 8ms/step - loss: 0.5458 - accuracy: 0.7450\n",
      "Epoch 96/100\n",
      "259/259 [==============================] - 2s 9ms/step - loss: 0.5598 - accuracy: 0.7465\n",
      "Epoch 97/100\n",
      "259/259 [==============================] - 2s 9ms/step - loss: 0.5596 - accuracy: 0.7378\n",
      "Epoch 98/100\n",
      "259/259 [==============================] - 2s 8ms/step - loss: 0.6025 - accuracy: 0.7244\n",
      "Epoch 99/100\n",
      "259/259 [==============================] - 2s 8ms/step - loss: 0.5893 - accuracy: 0.7389\n",
      "Epoch 100/100\n",
      "259/259 [==============================] - 2s 9ms/step - loss: 0.6160 - accuracy: 0.7266\n",
      "11/65 [====>.........................] - ETA: 0s - loss: 0.4965 - accuracy: 0.7841 "
     ]
    },
    {
     "name": "stderr",
     "output_type": "stream",
     "text": [
      "2024-05-15 04:40:45.148493: I tensorflow/core/grappler/optimizers/custom_graph_optimizer_registry.cc:114] Plugin optimizer for device_type GPU is enabled.\n"
     ]
    },
    {
     "name": "stdout",
     "output_type": "stream",
     "text": [
      "65/65 [==============================] - 1s 7ms/step - loss: 0.5313 - accuracy: 0.7476\n",
      "[0.53132164478302, 0.747582197189331]\n",
      "65/65 [==============================] - 0s 2ms/step\n",
      "Classification Report: \n",
      "               precision    recall  f1-score   support\n",
      "\n",
      "           0       0.81      0.64      0.72      1033\n",
      "           1       0.70      0.85      0.77      1035\n",
      "\n",
      "    accuracy                           0.75      2068\n",
      "   macro avg       0.76      0.75      0.74      2068\n",
      "weighted avg       0.76      0.75      0.74      2068\n",
      "\n"
     ]
    },
    {
     "name": "stderr",
     "output_type": "stream",
     "text": [
      "2024-05-15 04:40:45.802660: I tensorflow/core/grappler/optimizers/custom_graph_optimizer_registry.cc:114] Plugin optimizer for device_type GPU is enabled.\n"
     ]
    }
   ],
   "source": [
    "y_preds=ANN(x_train,y_train,x_test,y_test,\"binary_crossentropy\",-1)"
   ]
  },
  {
   "cell_type": "markdown",
   "metadata": {},
   "source": [
    "**With oversampling: f1 score for minority class 1 improved to be 0.77 from 0.74**"
   ]
  },
  {
   "cell_type": "markdown",
   "metadata": {},
   "source": [
    "### Method3: SMOTE"
   ]
  },
  {
   "cell_type": "code",
   "execution_count": null,
   "metadata": {},
   "outputs": [],
   "source": [
    "X = df2.drop('Churn',axis='columns')\n",
    "y = df2['Churn']"
   ]
  },
  {
   "cell_type": "code",
   "execution_count": null,
   "metadata": {},
   "outputs": [],
   "source": [
    "from im"
   ]
  },
  {
   "cell_type": "code",
   "execution_count": null,
   "metadata": {},
   "outputs": [],
   "source": [
    "from imblearn.over_sampling import SMOTE\n",
    "\n",
    "smote = SMOTE(sampling_strategy='minority')\n",
    "X_sm, y_sm = smote.fit_sample(X, y)\n",
    "\n",
    "y_sm.value_counts()"
   ]
  }
 ],
 "metadata": {
  "kernelspec": {
   "display_name": "tensorflow-test",
   "language": "python",
   "name": "tensorflow-test"
  },
  "language_info": {
   "codemirror_mode": {
    "name": "ipython",
    "version": 3
   },
   "file_extension": ".py",
   "mimetype": "text/x-python",
   "name": "python",
   "nbconvert_exporter": "python",
   "pygments_lexer": "ipython3",
   "version": "3.8.16"
  }
 },
 "nbformat": 4,
 "nbformat_minor": 2
}
