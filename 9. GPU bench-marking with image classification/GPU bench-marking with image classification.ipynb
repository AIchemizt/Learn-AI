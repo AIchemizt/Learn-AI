{
 "cells": [
  {
   "cell_type": "code",
   "execution_count": 2,
   "metadata": {},
   "outputs": [
    {
     "name": "stdout",
     "output_type": "stream",
     "text": [
      "Epoch 1/50\n"
     ]
    },
    {
     "name": "stderr",
     "output_type": "stream",
     "text": [
      "2024-05-11 02:06:21.618709: I tensorflow/core/grappler/optimizers/custom_graph_optimizer_registry.cc:114] Plugin optimizer for device_type GPU is enabled.\n"
     ]
    },
    {
     "name": "stdout",
     "output_type": "stream",
     "text": [
      "1563/1563 [==============================] - 34s 21ms/step - loss: 1.9600 - accuracy: 0.3056\n",
      "Epoch 2/50\n",
      "1563/1563 [==============================] - 33s 21ms/step - loss: 1.9818 - accuracy: 0.3165\n",
      "Epoch 3/50\n",
      "1563/1563 [==============================] - 27s 17ms/step - loss: 2.6596 - accuracy: 0.2714\n",
      "Epoch 4/50\n",
      "1563/1563 [==============================] - 28s 18ms/step - loss: 3.4220 - accuracy: 0.2512\n",
      "Epoch 5/50\n",
      "1563/1563 [==============================] - 27s 17ms/step - loss: 4.5310 - accuracy: 0.2337\n",
      "Epoch 6/50\n",
      "1563/1563 [==============================] - 28s 18ms/step - loss: 6.1799 - accuracy: 0.2289\n",
      "Epoch 7/50\n",
      "1563/1563 [==============================] - 31s 20ms/step - loss: 8.4940 - accuracy: 0.2229\n",
      "Epoch 8/50\n",
      "1563/1563 [==============================] - 27s 17ms/step - loss: 11.3436 - accuracy: 0.2183\n",
      "Epoch 9/50\n",
      "1563/1563 [==============================] - 28s 18ms/step - loss: 15.8223 - accuracy: 0.2172\n",
      "Epoch 10/50\n",
      "1563/1563 [==============================] - 27s 17ms/step - loss: 22.2738 - accuracy: 0.2166\n",
      "Epoch 11/50\n",
      "1563/1563 [==============================] - 26s 17ms/step - loss: 34.1645 - accuracy: 0.2140\n",
      "Epoch 12/50\n",
      "1563/1563 [==============================] - 27s 17ms/step - loss: 49.4156 - accuracy: 0.2103\n",
      "Epoch 13/50\n",
      "1563/1563 [==============================] - 27s 17ms/step - loss: 71.4170 - accuracy: 0.2165\n",
      "Epoch 14/50\n",
      "1563/1563 [==============================] - 27s 17ms/step - loss: 105.6055 - accuracy: 0.2100\n",
      "Epoch 15/50\n",
      "1563/1563 [==============================] - 27s 17ms/step - loss: 147.8726 - accuracy: 0.2120\n",
      "Epoch 16/50\n",
      "1563/1563 [==============================] - 27s 17ms/step - loss: 195.3168 - accuracy: 0.2115\n",
      "Epoch 17/50\n",
      "1563/1563 [==============================] - 28s 18ms/step - loss: 283.9242 - accuracy: 0.2133\n",
      "Epoch 18/50\n",
      "1563/1563 [==============================] - 26s 17ms/step - loss: 332.7746 - accuracy: 0.2131\n",
      "Epoch 19/50\n",
      "1563/1563 [==============================] - 27s 17ms/step - loss: 406.3591 - accuracy: 0.2174\n",
      "Epoch 20/50\n",
      "1563/1563 [==============================] - 26s 17ms/step - loss: 464.7870 - accuracy: 0.2144\n",
      "Epoch 21/50\n",
      "1563/1563 [==============================] - 26s 17ms/step - loss: 563.6213 - accuracy: 0.2160\n",
      "Epoch 22/50\n",
      "1563/1563 [==============================] - 26s 16ms/step - loss: 661.3647 - accuracy: 0.2198\n",
      "Epoch 23/50\n",
      "1563/1563 [==============================] - 26s 17ms/step - loss: 911.9831 - accuracy: 0.2157\n",
      "Epoch 24/50\n",
      "1563/1563 [==============================] - 26s 16ms/step - loss: 1159.9581 - accuracy: 0.2124\n",
      "Epoch 25/50\n",
      "1563/1563 [==============================] - 26s 17ms/step - loss: 1567.6250 - accuracy: 0.2091\n",
      "Epoch 26/50\n",
      "1563/1563 [==============================] - 26s 17ms/step - loss: 2323.5940 - accuracy: 0.2097\n",
      "Epoch 27/50\n",
      "1563/1563 [==============================] - 26s 16ms/step - loss: nan - accuracy: 0.1474\n",
      "Epoch 28/50\n",
      "1563/1563 [==============================] - 28s 18ms/step - loss: nan - accuracy: 0.1000\n",
      "Epoch 29/50\n",
      "1563/1563 [==============================] - 26s 17ms/step - loss: nan - accuracy: 0.1000\n",
      "Epoch 30/50\n",
      "1563/1563 [==============================] - 34s 22ms/step - loss: nan - accuracy: 0.1000\n",
      "Epoch 31/50\n",
      "1563/1563 [==============================] - 34s 22ms/step - loss: nan - accuracy: 0.1000\n",
      "Epoch 32/50\n",
      "1563/1563 [==============================] - 30s 19ms/step - loss: nan - accuracy: 0.1000\n",
      "Epoch 33/50\n",
      "1563/1563 [==============================] - 30s 19ms/step - loss: nan - accuracy: 0.1000\n",
      "Epoch 34/50\n",
      "1563/1563 [==============================] - 28s 18ms/step - loss: nan - accuracy: 0.1000\n",
      "Epoch 35/50\n",
      "1563/1563 [==============================] - 26s 17ms/step - loss: nan - accuracy: 0.1000\n",
      "Epoch 36/50\n",
      "1563/1563 [==============================] - 26s 17ms/step - loss: nan - accuracy: 0.1000\n",
      "Epoch 37/50\n",
      "1563/1563 [==============================] - 26s 17ms/step - loss: nan - accuracy: 0.1000\n",
      "Epoch 38/50\n",
      "1563/1563 [==============================] - 26s 17ms/step - loss: nan - accuracy: 0.1000\n",
      "Epoch 39/50\n",
      "1563/1563 [==============================] - 26s 17ms/step - loss: nan - accuracy: 0.1000\n",
      "Epoch 40/50\n",
      "1563/1563 [==============================] - 27s 17ms/step - loss: nan - accuracy: 0.1000\n",
      "Epoch 41/50\n",
      "1563/1563 [==============================] - 26s 17ms/step - loss: nan - accuracy: 0.1000\n",
      "Epoch 42/50\n",
      "1563/1563 [==============================] - 26s 17ms/step - loss: nan - accuracy: 0.1000\n",
      "Epoch 43/50\n",
      "1563/1563 [==============================] - 31s 20ms/step - loss: nan - accuracy: 0.1000\n",
      "Epoch 44/50\n",
      "1563/1563 [==============================] - 27s 17ms/step - loss: nan - accuracy: 0.1000\n",
      "Epoch 45/50\n",
      "1563/1563 [==============================] - 26s 17ms/step - loss: nan - accuracy: 0.1000\n",
      "Epoch 46/50\n",
      "1563/1563 [==============================] - 26s 16ms/step - loss: nan - accuracy: 0.1000\n",
      "Epoch 47/50\n",
      "1563/1563 [==============================] - 26s 16ms/step - loss: nan - accuracy: 0.1000\n",
      "Epoch 48/50\n",
      "1563/1563 [==============================] - 26s 17ms/step - loss: nan - accuracy: 0.1000\n",
      "Epoch 49/50\n",
      "1563/1563 [==============================] - 30s 19ms/step - loss: nan - accuracy: 0.1000\n",
      "Epoch 50/50\n",
      "1563/1563 [==============================] - 26s 17ms/step - loss: nan - accuracy: 0.1000\n",
      " 42/313 [===>..........................] - ETA: 1s"
     ]
    },
    {
     "name": "stderr",
     "output_type": "stream",
     "text": [
      "2024-05-11 02:29:18.233882: I tensorflow/core/grappler/optimizers/custom_graph_optimizer_registry.cc:114] Plugin optimizer for device_type GPU is enabled.\n"
     ]
    },
    {
     "name": "stdout",
     "output_type": "stream",
     "text": [
      "313/313 [==============================] - 1s 4ms/step\n",
      " 13/313 [>.............................] - ETA: 2s - loss: nan - accuracy: 0.1106"
     ]
    },
    {
     "name": "stderr",
     "output_type": "stream",
     "text": [
      "2024-05-11 02:29:20.045716: I tensorflow/core/grappler/optimizers/custom_graph_optimizer_registry.cc:114] Plugin optimizer for device_type GPU is enabled.\n"
     ]
    },
    {
     "name": "stdout",
     "output_type": "stream",
     "text": [
      "313/313 [==============================] - 3s 9ms/step - loss: nan - accuracy: 0.1000\n"
     ]
    },
    {
     "data": {
      "text/plain": [
       "[nan, 0.10000000149011612]"
      ]
     },
     "execution_count": 2,
     "metadata": {},
     "output_type": "execute_result"
    }
   ],
   "source": [
    "# Import necessary libraries\n",
    "import tensorflow as tf\n",
    "from tensorflow import keras\n",
    "import matplotlib.pyplot as plt\n",
    "import numpy as np\n",
    "\n",
    "# List available physical devices for TensorFlow (optional)\n",
    "tf.config.experimental.list_physical_devices()\n",
    "\n",
    "# Load CIFAR-10 dataset into training and testing sets\n",
    "(x_train, y_train), (x_test, y_test) = tf.keras.datasets.cifar10.load_data()\n",
    "\n",
    "# Function to plot a sample image\n",
    "def plot_sample(index):\n",
    "    plt.figure(figsize=(10, 1))\n",
    "    plt.imshow(x_train[index])\n",
    "\n",
    "# Define classes for CIFAR-10 dataset\n",
    "classes = [\"airplane\", \"automobile\", \"bird\", \"cat\", \"deer\", \"dog\", \"frog\", \"horse\", \"ship\", \"truck\"]\n",
    "\n",
    "# Normalize pixel values to the range [0, 1]\n",
    "x_train_scaled = x_train / 255\n",
    "x_test_scaled = x_test / 255\n",
    "\n",
    "# Convert labels to categorical one-hot encoding\n",
    "y_train_categorical = keras.utils.to_categorical(y_train, num_classes=10, dtype=\"float32\")\n",
    "y_test_categorical = keras.utils.to_categorical(y_test, num_classes=10, dtype=\"float32\")\n",
    "\n",
    "# Define a neural network model using Keras Sequential API\n",
    "model = keras.Sequential([\n",
    "    keras.layers.Flatten(input_shape=(32, 32, 3)),\n",
    "    keras.layers.Dense(3000, activation=\"relu\"),\n",
    "    keras.layers.Dense(1000, activation=\"relu\"),\n",
    "    keras.layers.Dense(10, activation=\"sigmoid\")\n",
    "])\n",
    "\n",
    "# Compile the model with Stochastic Gradient Descent optimizer, categorical crossentropy loss, and accuracy metric\n",
    "model.compile(optimizer=\"SGD\",\n",
    "              loss=\"categorical_crossentropy\",\n",
    "              metrics=[\"accuracy\"])\n",
    "\n",
    "# Train the model on the training data for 50 epochs\n",
    "model.fit(x_train_scaled, y_train_categorical, epochs=50)\n",
    "\n",
    "# Predict the class of the first image in the test set and map it to the corresponding class name\n",
    "predicted_class = classes[np.argmax(model.predict(x_test_scaled)[0])]\n",
    "\n",
    "# Evaluate the model on the test set and print the loss and accuracy\n",
    "model.evaluate(x_test_scaled, y_test_categorical)\n"
   ]
  }
 ],
 "metadata": {
  "kernelspec": {
   "display_name": "tensorflow-test",
   "language": "python",
   "name": "tensorflow-test"
  },
  "language_info": {
   "codemirror_mode": {
    "name": "ipython",
    "version": 3
   },
   "file_extension": ".py",
   "mimetype": "text/x-python",
   "name": "python",
   "nbconvert_exporter": "python",
   "pygments_lexer": "ipython3",
   "version": "3.8.16"
  }
 },
 "nbformat": 4,
 "nbformat_minor": 2
}
