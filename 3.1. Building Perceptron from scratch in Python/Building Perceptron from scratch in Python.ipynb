{
 "cells": [
  {
   "cell_type": "code",
   "execution_count": 1,
   "metadata": {},
   "outputs": [],
   "source": [
    "import numpy as np"
   ]
  },
  {
   "cell_type": "markdown",
   "metadata": {},
   "source": [
    "![alt text](<Representation of a Perceptron.png>)"
   ]
  },
  {
   "cell_type": "code",
   "execution_count": 1,
   "metadata": {},
   "outputs": [],
   "source": [
    "# Building Sigmoid Perceptron class\n",
    "class SigmoidPerceptron():\n",
    "\n",
    "    def __init__(self,input_size):\n",
    "        # Initialize weights with random values from a normal distribution\n",
    "        self.weights=np.random.randn(input_size) # Generate random weights equal to input_size\n",
    "        # Initialize bias with a random value from a normal distribution\n",
    "        self.bias=np.random.randn(1) # Bias is a single scalar value\n",
    "        \n",
    "    def sigmoid(self,z):\n",
    "        # Sigmoid Activation function\n",
    "        return 1/(1+np.exp(-z)) \n",
    "    \n",
    "    def predict(self,inputs):\n",
    "        # Calculate the weighted sum of inputs and weights, then add bias\n",
    "        weighted_sum=np.dot(inputs,self.weights)+self.bias # Summation of Inputs and Weights, which will be passed to the sigmoid function\n",
    "        # Pass the weighted sum through the sigmoid activation function and return the result\n",
    "        return self.sigmoid(weighted_sum) # Given to the sigmoid function\n",
    "\n",
    "    def fit(self,inputs,targets,learning_rate, num_epochs):\n",
    "        # Get the number of examples in the input data\n",
    "        num_example=inputs.shape[0]\n",
    "\n",
    "        # Iterate over the specified number of epochs\n",
    "        for epoch in range(num_epochs):\n",
    "            # Iterate over each example in the dataset\n",
    "            for i in range(num_example):\n",
    "                # Extract input vector and target for the current example\n",
    "                input_vector=inputs[i]\n",
    "                target=targets[i]\n",
    "\n",
    "                # Predict the output for the current input vector\n",
    "                prediction=self.predict(input_vector)\n",
    "\n",
    "                # Calculate the error between the prediction and the target\n",
    "                error=target-prediction\n",
    "\n",
    "                # Update weights based on the gradient of the error with respect to weights\n",
    "                gradient_weights = error * prediction * (1-prediction) * input_vector\n",
    "                self.weights += learning_rate * gradient_weights\n",
    "\n",
    "                # Update bias based on the gradient of the error with respect to bias\n",
    "                gradient_bias = error * prediction * (1-prediction)\n",
    "                self.bias += learning_rate * gradient_bias\n",
    "\n",
    "    def evaluate(self,inputs,targets):\n",
    "        # Initialize the counter for correct predictions\n",
    "        correct=0\n",
    "\n",
    "        # Iterate over each input-target pair in the dataset\n",
    "        for input_vector,target in zip(inputs,targets):\n",
    "            # Predict the output for the current input vector\n",
    "            prediction=self.predict(input_vector)\n",
    "\n",
    "            # Determine the predicted class based on the prediction threshold (0.5)\n",
    "            if prediction >= 0.5:\n",
    "                predicted_class = 1\n",
    "            else:\n",
    "                predicted_class = 0\n",
    "\n",
    "            # Check if the predicted class matches the target class\n",
    "            if predicted_class == target:\n",
    "                correct += 1\n",
    "            \n",
    "        # Calculate accuracy as the ratio of correct predictions to the total number of examples\n",
    "        accuracy = correct / len(inputs)\n",
    "        return accuracy"
   ]
  },
  {
   "cell_type": "markdown",
   "metadata": {},
   "source": [
    "**Out of scope**"
   ]
  },
  {
   "cell_type": "code",
   "execution_count": 3,
   "metadata": {},
   "outputs": [
    {
     "name": "stdout",
     "output_type": "stream",
     "text": [
      "[-0.55266866]\n"
     ]
    }
   ],
   "source": [
    "# random.randn Generate random number in given range\n",
    "\n",
    "import numpy as np\n",
    "array = np.random.randn(1)\n",
    "print(array)\n"
   ]
  },
  {
   "cell_type": "code",
   "execution_count": 4,
   "metadata": {},
   "outputs": [
    {
     "name": "stdout",
     "output_type": "stream",
     "text": [
      "1 4\n",
      "2 5\n",
      "3 6\n"
     ]
    }
   ],
   "source": [
    "# zip Create Combined iterator\n",
    "\n",
    "a=[1,2,3]\n",
    "b=[4,5,6]\n",
    "\n",
    "for val1,val2 in zip(a,b):\n",
    "    print(val1,val2)"
   ]
  },
  {
   "cell_type": "code",
   "execution_count": null,
   "metadata": {},
   "outputs": [],
   "source": []
  }
 ],
 "metadata": {
  "kernelspec": {
   "display_name": "tensorflow-test",
   "language": "python",
   "name": "tensorflow-test"
  },
  "language_info": {
   "codemirror_mode": {
    "name": "ipython",
    "version": 3
   },
   "file_extension": ".py",
   "mimetype": "text/x-python",
   "name": "python",
   "nbconvert_exporter": "python",
   "pygments_lexer": "ipython3",
   "version": "3.8.16"
  }
 },
 "nbformat": 4,
 "nbformat_minor": 2
}
