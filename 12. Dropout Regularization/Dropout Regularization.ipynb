{
 "cells": [
  {
   "cell_type": "markdown",
   "metadata": {},
   "source": [
    "**Dropout regularization** is a technique commonly used in neural network training to prevent **overfitting**. Overfitting occurs when a model **learns to memorize** the training data **instead of generalizing** well to unseen data. \n",
    "\n",
    "Dropout addresses this issue by randomly deactivating (or \"dropping out\") a certain percentage of neurons during training."
   ]
  },
  {
   "cell_type": "code",
   "execution_count": 2,
   "metadata": {},
   "outputs": [],
   "source": [
    "# Importing library \n",
    "import numpy as np\n",
    "import pandas as pd\n",
    "import matplotlib.pyplot as plt\n",
    "import seaborn as sns"
   ]
  },
  {
   "cell_type": "markdown",
   "metadata": {},
   "source": [
    "**Content**\n",
    "\n",
    "Dataset is collection of sonar data. Which Predict weather we have found rock or mine\n",
    "\n",
    "It contains various data column which consist sonar data. Last column tells us weather it has found rock or mine.\n",
    "\n",
    "Target Column consist of :\n",
    "\n",
    "R - > Rock\n",
    "\n",
    "M -> Mine"
   ]
  },
  {
   "cell_type": "code",
   "execution_count": 3,
   "metadata": {},
   "outputs": [
    {
     "data": {
      "text/html": [
       "<div>\n",
       "<style scoped>\n",
       "    .dataframe tbody tr th:only-of-type {\n",
       "        vertical-align: middle;\n",
       "    }\n",
       "\n",
       "    .dataframe tbody tr th {\n",
       "        vertical-align: top;\n",
       "    }\n",
       "\n",
       "    .dataframe thead th {\n",
       "        text-align: right;\n",
       "    }\n",
       "</style>\n",
       "<table border=\"1\" class=\"dataframe\">\n",
       "  <thead>\n",
       "    <tr style=\"text-align: right;\">\n",
       "      <th></th>\n",
       "      <th>0</th>\n",
       "      <th>1</th>\n",
       "      <th>2</th>\n",
       "      <th>3</th>\n",
       "      <th>4</th>\n",
       "      <th>5</th>\n",
       "      <th>6</th>\n",
       "      <th>7</th>\n",
       "      <th>8</th>\n",
       "      <th>9</th>\n",
       "      <th>...</th>\n",
       "      <th>51</th>\n",
       "      <th>52</th>\n",
       "      <th>53</th>\n",
       "      <th>54</th>\n",
       "      <th>55</th>\n",
       "      <th>56</th>\n",
       "      <th>57</th>\n",
       "      <th>58</th>\n",
       "      <th>59</th>\n",
       "      <th>60</th>\n",
       "    </tr>\n",
       "  </thead>\n",
       "  <tbody>\n",
       "    <tr>\n",
       "      <th>0</th>\n",
       "      <td>0.0200</td>\n",
       "      <td>0.0371</td>\n",
       "      <td>0.0428</td>\n",
       "      <td>0.0207</td>\n",
       "      <td>0.0954</td>\n",
       "      <td>0.0986</td>\n",
       "      <td>0.1539</td>\n",
       "      <td>0.1601</td>\n",
       "      <td>0.3109</td>\n",
       "      <td>0.2111</td>\n",
       "      <td>...</td>\n",
       "      <td>0.0027</td>\n",
       "      <td>0.0065</td>\n",
       "      <td>0.0159</td>\n",
       "      <td>0.0072</td>\n",
       "      <td>0.0167</td>\n",
       "      <td>0.0180</td>\n",
       "      <td>0.0084</td>\n",
       "      <td>0.0090</td>\n",
       "      <td>0.0032</td>\n",
       "      <td>R</td>\n",
       "    </tr>\n",
       "    <tr>\n",
       "      <th>1</th>\n",
       "      <td>0.0453</td>\n",
       "      <td>0.0523</td>\n",
       "      <td>0.0843</td>\n",
       "      <td>0.0689</td>\n",
       "      <td>0.1183</td>\n",
       "      <td>0.2583</td>\n",
       "      <td>0.2156</td>\n",
       "      <td>0.3481</td>\n",
       "      <td>0.3337</td>\n",
       "      <td>0.2872</td>\n",
       "      <td>...</td>\n",
       "      <td>0.0084</td>\n",
       "      <td>0.0089</td>\n",
       "      <td>0.0048</td>\n",
       "      <td>0.0094</td>\n",
       "      <td>0.0191</td>\n",
       "      <td>0.0140</td>\n",
       "      <td>0.0049</td>\n",
       "      <td>0.0052</td>\n",
       "      <td>0.0044</td>\n",
       "      <td>R</td>\n",
       "    </tr>\n",
       "    <tr>\n",
       "      <th>2</th>\n",
       "      <td>0.0262</td>\n",
       "      <td>0.0582</td>\n",
       "      <td>0.1099</td>\n",
       "      <td>0.1083</td>\n",
       "      <td>0.0974</td>\n",
       "      <td>0.2280</td>\n",
       "      <td>0.2431</td>\n",
       "      <td>0.3771</td>\n",
       "      <td>0.5598</td>\n",
       "      <td>0.6194</td>\n",
       "      <td>...</td>\n",
       "      <td>0.0232</td>\n",
       "      <td>0.0166</td>\n",
       "      <td>0.0095</td>\n",
       "      <td>0.0180</td>\n",
       "      <td>0.0244</td>\n",
       "      <td>0.0316</td>\n",
       "      <td>0.0164</td>\n",
       "      <td>0.0095</td>\n",
       "      <td>0.0078</td>\n",
       "      <td>R</td>\n",
       "    </tr>\n",
       "    <tr>\n",
       "      <th>3</th>\n",
       "      <td>0.0100</td>\n",
       "      <td>0.0171</td>\n",
       "      <td>0.0623</td>\n",
       "      <td>0.0205</td>\n",
       "      <td>0.0205</td>\n",
       "      <td>0.0368</td>\n",
       "      <td>0.1098</td>\n",
       "      <td>0.1276</td>\n",
       "      <td>0.0598</td>\n",
       "      <td>0.1264</td>\n",
       "      <td>...</td>\n",
       "      <td>0.0121</td>\n",
       "      <td>0.0036</td>\n",
       "      <td>0.0150</td>\n",
       "      <td>0.0085</td>\n",
       "      <td>0.0073</td>\n",
       "      <td>0.0050</td>\n",
       "      <td>0.0044</td>\n",
       "      <td>0.0040</td>\n",
       "      <td>0.0117</td>\n",
       "      <td>R</td>\n",
       "    </tr>\n",
       "    <tr>\n",
       "      <th>4</th>\n",
       "      <td>0.0762</td>\n",
       "      <td>0.0666</td>\n",
       "      <td>0.0481</td>\n",
       "      <td>0.0394</td>\n",
       "      <td>0.0590</td>\n",
       "      <td>0.0649</td>\n",
       "      <td>0.1209</td>\n",
       "      <td>0.2467</td>\n",
       "      <td>0.3564</td>\n",
       "      <td>0.4459</td>\n",
       "      <td>...</td>\n",
       "      <td>0.0031</td>\n",
       "      <td>0.0054</td>\n",
       "      <td>0.0105</td>\n",
       "      <td>0.0110</td>\n",
       "      <td>0.0015</td>\n",
       "      <td>0.0072</td>\n",
       "      <td>0.0048</td>\n",
       "      <td>0.0107</td>\n",
       "      <td>0.0094</td>\n",
       "      <td>R</td>\n",
       "    </tr>\n",
       "  </tbody>\n",
       "</table>\n",
       "<p>5 rows × 61 columns</p>\n",
       "</div>"
      ],
      "text/plain": [
       "       0       1       2       3       4       5       6       7       8   \\\n",
       "0  0.0200  0.0371  0.0428  0.0207  0.0954  0.0986  0.1539  0.1601  0.3109   \n",
       "1  0.0453  0.0523  0.0843  0.0689  0.1183  0.2583  0.2156  0.3481  0.3337   \n",
       "2  0.0262  0.0582  0.1099  0.1083  0.0974  0.2280  0.2431  0.3771  0.5598   \n",
       "3  0.0100  0.0171  0.0623  0.0205  0.0205  0.0368  0.1098  0.1276  0.0598   \n",
       "4  0.0762  0.0666  0.0481  0.0394  0.0590  0.0649  0.1209  0.2467  0.3564   \n",
       "\n",
       "       9   ...      51      52      53      54      55      56      57  \\\n",
       "0  0.2111  ...  0.0027  0.0065  0.0159  0.0072  0.0167  0.0180  0.0084   \n",
       "1  0.2872  ...  0.0084  0.0089  0.0048  0.0094  0.0191  0.0140  0.0049   \n",
       "2  0.6194  ...  0.0232  0.0166  0.0095  0.0180  0.0244  0.0316  0.0164   \n",
       "3  0.1264  ...  0.0121  0.0036  0.0150  0.0085  0.0073  0.0050  0.0044   \n",
       "4  0.4459  ...  0.0031  0.0054  0.0105  0.0110  0.0015  0.0072  0.0048   \n",
       "\n",
       "       58      59  60  \n",
       "0  0.0090  0.0032   R  \n",
       "1  0.0052  0.0044   R  \n",
       "2  0.0095  0.0078   R  \n",
       "3  0.0040  0.0117   R  \n",
       "4  0.0107  0.0094   R  \n",
       "\n",
       "[5 rows x 61 columns]"
      ]
     },
     "execution_count": 3,
     "metadata": {},
     "output_type": "execute_result"
    }
   ],
   "source": [
    "# The dataset don't hav header so we need to set header=None\n",
    "df=pd.read_csv(\"sonar_dataset.csv\", header=None)\n",
    "df.head()"
   ]
  },
  {
   "cell_type": "code",
   "execution_count": 4,
   "metadata": {},
   "outputs": [
    {
     "data": {
      "text/plain": [
       "(208, 61)"
      ]
     },
     "execution_count": 4,
     "metadata": {},
     "output_type": "execute_result"
    }
   ],
   "source": [
    "df.shape"
   ]
  },
  {
   "cell_type": "code",
   "execution_count": 5,
   "metadata": {},
   "outputs": [
    {
     "data": {
      "text/plain": [
       "0     0\n",
       "1     0\n",
       "2     0\n",
       "3     0\n",
       "4     0\n",
       "     ..\n",
       "56    0\n",
       "57    0\n",
       "58    0\n",
       "59    0\n",
       "60    0\n",
       "Length: 61, dtype: int64"
      ]
     },
     "execution_count": 5,
     "metadata": {},
     "output_type": "execute_result"
    }
   ],
   "source": [
    "# checking for null value\n",
    "df.isna().sum()"
   ]
  },
  {
   "cell_type": "code",
   "execution_count": 6,
   "metadata": {},
   "outputs": [
    {
     "data": {
      "text/plain": [
       "Index([ 0,  1,  2,  3,  4,  5,  6,  7,  8,  9, 10, 11, 12, 13, 14, 15, 16, 17,\n",
       "       18, 19, 20, 21, 22, 23, 24, 25, 26, 27, 28, 29, 30, 31, 32, 33, 34, 35,\n",
       "       36, 37, 38, 39, 40, 41, 42, 43, 44, 45, 46, 47, 48, 49, 50, 51, 52, 53,\n",
       "       54, 55, 56, 57, 58, 59, 60],\n",
       "      dtype='int64')"
      ]
     },
     "execution_count": 6,
     "metadata": {},
     "output_type": "execute_result"
    }
   ],
   "source": [
    "# Checking the total number of columns\n",
    "df.columns"
   ]
  },
  {
   "cell_type": "code",
   "execution_count": 7,
   "metadata": {},
   "outputs": [
    {
     "data": {
      "text/plain": [
       "60\n",
       "M    111\n",
       "R     97\n",
       "Name: count, dtype: int64"
      ]
     },
     "execution_count": 7,
     "metadata": {},
     "output_type": "execute_result"
    }
   ],
   "source": [
    "# column no 60 is our target column so lets check the value of that\n",
    "df[60].value_counts()"
   ]
  },
  {
   "cell_type": "code",
   "execution_count": 8,
   "metadata": {},
   "outputs": [],
   "source": [
    "x=df.drop(60,axis=\"columns\")\n",
    "y=df[60]"
   ]
  },
  {
   "cell_type": "markdown",
   "metadata": {},
   "source": [
    "I first tried LabelEncoding but that will reuslt in NumPy array so as i need pandas DataFrame so instead of LabelEncoding we'll use **One hot incoding** which will return a **pandas DataFrame** "
   ]
  },
  {
   "cell_type": "code",
   "execution_count": 9,
   "metadata": {},
   "outputs": [
    {
     "data": {
      "text/html": [
       "<div>\n",
       "<style scoped>\n",
       "    .dataframe tbody tr th:only-of-type {\n",
       "        vertical-align: middle;\n",
       "    }\n",
       "\n",
       "    .dataframe tbody tr th {\n",
       "        vertical-align: top;\n",
       "    }\n",
       "\n",
       "    .dataframe thead th {\n",
       "        text-align: right;\n",
       "    }\n",
       "</style>\n",
       "<table border=\"1\" class=\"dataframe\">\n",
       "  <thead>\n",
       "    <tr style=\"text-align: right;\">\n",
       "      <th></th>\n",
       "      <th>R</th>\n",
       "    </tr>\n",
       "  </thead>\n",
       "  <tbody>\n",
       "    <tr>\n",
       "      <th>70</th>\n",
       "      <td>1</td>\n",
       "    </tr>\n",
       "    <tr>\n",
       "      <th>197</th>\n",
       "      <td>0</td>\n",
       "    </tr>\n",
       "    <tr>\n",
       "      <th>102</th>\n",
       "      <td>0</td>\n",
       "    </tr>\n",
       "    <tr>\n",
       "      <th>177</th>\n",
       "      <td>0</td>\n",
       "    </tr>\n",
       "    <tr>\n",
       "      <th>30</th>\n",
       "      <td>1</td>\n",
       "    </tr>\n",
       "  </tbody>\n",
       "</table>\n",
       "</div>"
      ],
      "text/plain": [
       "     R\n",
       "70   1\n",
       "197  0\n",
       "102  0\n",
       "177  0\n",
       "30   1"
      ]
     },
     "execution_count": 9,
     "metadata": {},
     "output_type": "execute_result"
    }
   ],
   "source": [
    "# Converting target variable to binary categorical using one-hot encoding\n",
    "y = pd.get_dummies(y, drop_first=True, dtype=int)\n",
    "y.sample(5)"
   ]
  },
  {
   "cell_type": "code",
   "execution_count": 10,
   "metadata": {},
   "outputs": [
    {
     "data": {
      "text/plain": [
       "R\n",
       "0    111\n",
       "1     97\n",
       "Name: count, dtype: int64"
      ]
     },
     "execution_count": 10,
     "metadata": {},
     "output_type": "execute_result"
    }
   ],
   "source": [
    "y.value_counts()"
   ]
  },
  {
   "cell_type": "code",
   "execution_count": 11,
   "metadata": {},
   "outputs": [],
   "source": [
    "from sklearn.model_selection import train_test_split  # Splitting the dataset into training and testing sets\n",
    "\n",
    "x_train, x_test, y_train, y_test = train_test_split(x, y, test_size=0.25, random_state=1)  # Splitting the dataset into training and testing sets\n"
   ]
  },
  {
   "cell_type": "code",
   "execution_count": 12,
   "metadata": {},
   "outputs": [
    {
     "data": {
      "text/plain": [
       "((156, 60), (52, 60))"
      ]
     },
     "execution_count": 12,
     "metadata": {},
     "output_type": "execute_result"
    }
   ],
   "source": [
    "x_train.shape,x_test.shape"
   ]
  },
  {
   "cell_type": "code",
   "execution_count": 19,
   "metadata": {},
   "outputs": [
    {
     "name": "stdout",
     "output_type": "stream",
     "text": [
      "Epoch 1/100\n"
     ]
    },
    {
     "name": "stderr",
     "output_type": "stream",
     "text": [
      "2024-05-14 02:09:42.749421: I tensorflow/core/grappler/optimizers/custom_graph_optimizer_registry.cc:114] Plugin optimizer for device_type GPU is enabled.\n"
     ]
    },
    {
     "name": "stdout",
     "output_type": "stream",
     "text": [
      "20/20 [==============================] - 1s 16ms/step - loss: 0.7765 - accuracy: 0.4615\n",
      "Epoch 2/100\n",
      "20/20 [==============================] - 0s 11ms/step - loss: 0.7057 - accuracy: 0.5000\n",
      "Epoch 3/100\n",
      "20/20 [==============================] - 0s 12ms/step - loss: 0.6755 - accuracy: 0.5962\n",
      "Epoch 4/100\n",
      "20/20 [==============================] - 0s 11ms/step - loss: 0.6455 - accuracy: 0.6603\n",
      "Epoch 5/100\n",
      "20/20 [==============================] - 0s 10ms/step - loss: 0.6072 - accuracy: 0.7244\n",
      "Epoch 6/100\n",
      "20/20 [==============================] - 0s 10ms/step - loss: 0.5941 - accuracy: 0.6667\n",
      "Epoch 7/100\n",
      "20/20 [==============================] - 0s 10ms/step - loss: 0.5218 - accuracy: 0.7949\n",
      "Epoch 8/100\n",
      "20/20 [==============================] - 0s 10ms/step - loss: 0.5313 - accuracy: 0.7436\n",
      "Epoch 9/100\n",
      "20/20 [==============================] - 0s 10ms/step - loss: 0.5097 - accuracy: 0.7500\n",
      "Epoch 10/100\n",
      "20/20 [==============================] - 0s 10ms/step - loss: 0.4674 - accuracy: 0.8077\n",
      "Epoch 11/100\n",
      "20/20 [==============================] - 0s 10ms/step - loss: 0.4435 - accuracy: 0.8205\n",
      "Epoch 12/100\n",
      "20/20 [==============================] - 0s 10ms/step - loss: 0.4340 - accuracy: 0.8141\n",
      "Epoch 13/100\n",
      "20/20 [==============================] - 0s 10ms/step - loss: 0.4502 - accuracy: 0.8013\n",
      "Epoch 14/100\n",
      "20/20 [==============================] - 0s 9ms/step - loss: 0.4544 - accuracy: 0.8013\n",
      "Epoch 15/100\n",
      "20/20 [==============================] - 0s 9ms/step - loss: 0.4067 - accuracy: 0.8333\n",
      "Epoch 16/100\n",
      "20/20 [==============================] - 0s 10ms/step - loss: 0.3950 - accuracy: 0.8462\n",
      "Epoch 17/100\n",
      "20/20 [==============================] - 0s 10ms/step - loss: 0.4142 - accuracy: 0.8205\n",
      "Epoch 18/100\n",
      "20/20 [==============================] - 0s 10ms/step - loss: 0.4253 - accuracy: 0.8013\n",
      "Epoch 19/100\n",
      "20/20 [==============================] - 0s 10ms/step - loss: 0.4292 - accuracy: 0.8333\n",
      "Epoch 20/100\n",
      "20/20 [==============================] - 0s 10ms/step - loss: 0.3955 - accuracy: 0.8397\n",
      "Epoch 21/100\n",
      "20/20 [==============================] - 0s 10ms/step - loss: 0.3888 - accuracy: 0.8526\n",
      "Epoch 22/100\n",
      "20/20 [==============================] - 0s 10ms/step - loss: 0.3882 - accuracy: 0.8269\n",
      "Epoch 23/100\n",
      "20/20 [==============================] - 0s 10ms/step - loss: 0.4064 - accuracy: 0.8397\n",
      "Epoch 24/100\n",
      "20/20 [==============================] - 0s 10ms/step - loss: 0.3936 - accuracy: 0.8333\n",
      "Epoch 25/100\n",
      "20/20 [==============================] - 0s 10ms/step - loss: 0.3855 - accuracy: 0.8462\n",
      "Epoch 26/100\n",
      "20/20 [==============================] - 0s 9ms/step - loss: 0.3947 - accuracy: 0.8654\n",
      "Epoch 27/100\n",
      "20/20 [==============================] - 0s 9ms/step - loss: 0.3864 - accuracy: 0.8590\n",
      "Epoch 28/100\n",
      "20/20 [==============================] - 0s 10ms/step - loss: 0.4077 - accuracy: 0.8462\n",
      "Epoch 29/100\n",
      "20/20 [==============================] - 0s 10ms/step - loss: 0.3930 - accuracy: 0.8077\n",
      "Epoch 30/100\n",
      "20/20 [==============================] - 0s 10ms/step - loss: 0.4071 - accuracy: 0.8397\n",
      "Epoch 31/100\n",
      "20/20 [==============================] - 0s 10ms/step - loss: 0.3940 - accuracy: 0.8397\n",
      "Epoch 32/100\n",
      "20/20 [==============================] - 0s 10ms/step - loss: 0.3716 - accuracy: 0.8590\n",
      "Epoch 33/100\n",
      "20/20 [==============================] - 0s 11ms/step - loss: 0.3883 - accuracy: 0.8397\n",
      "Epoch 34/100\n",
      "20/20 [==============================] - 0s 11ms/step - loss: 0.3850 - accuracy: 0.8269\n",
      "Epoch 35/100\n",
      "20/20 [==============================] - 0s 9ms/step - loss: 0.3697 - accuracy: 0.8526\n",
      "Epoch 36/100\n",
      "20/20 [==============================] - 0s 10ms/step - loss: 0.3996 - accuracy: 0.8526\n",
      "Epoch 37/100\n",
      "20/20 [==============================] - 0s 9ms/step - loss: 0.3912 - accuracy: 0.8462\n",
      "Epoch 38/100\n",
      "20/20 [==============================] - 0s 9ms/step - loss: 0.3733 - accuracy: 0.8526\n",
      "Epoch 39/100\n",
      "20/20 [==============================] - 0s 9ms/step - loss: 0.3708 - accuracy: 0.8718\n",
      "Epoch 40/100\n",
      "20/20 [==============================] - 0s 10ms/step - loss: 0.3714 - accuracy: 0.8526\n",
      "Epoch 41/100\n",
      "20/20 [==============================] - 0s 10ms/step - loss: 0.3833 - accuracy: 0.8269\n",
      "Epoch 42/100\n",
      "20/20 [==============================] - 0s 10ms/step - loss: 0.4139 - accuracy: 0.8013\n",
      "Epoch 43/100\n",
      "20/20 [==============================] - 0s 9ms/step - loss: 0.3918 - accuracy: 0.8526\n",
      "Epoch 44/100\n",
      "20/20 [==============================] - 0s 9ms/step - loss: 0.3974 - accuracy: 0.8590\n",
      "Epoch 45/100\n",
      "20/20 [==============================] - 0s 9ms/step - loss: 0.3500 - accuracy: 0.9038\n",
      "Epoch 46/100\n",
      "20/20 [==============================] - 0s 9ms/step - loss: 0.3733 - accuracy: 0.8462\n",
      "Epoch 47/100\n",
      "20/20 [==============================] - 0s 9ms/step - loss: 0.3854 - accuracy: 0.8526\n",
      "Epoch 48/100\n",
      "20/20 [==============================] - 0s 10ms/step - loss: 0.3880 - accuracy: 0.8526\n",
      "Epoch 49/100\n",
      "20/20 [==============================] - 0s 9ms/step - loss: 0.3610 - accuracy: 0.8718\n",
      "Epoch 50/100\n",
      "20/20 [==============================] - 0s 9ms/step - loss: 0.3916 - accuracy: 0.8526\n",
      "Epoch 51/100\n",
      "20/20 [==============================] - 0s 10ms/step - loss: 0.4010 - accuracy: 0.8141\n",
      "Epoch 52/100\n",
      "20/20 [==============================] - 0s 10ms/step - loss: 0.3701 - accuracy: 0.8333\n",
      "Epoch 53/100\n",
      "20/20 [==============================] - 0s 9ms/step - loss: 0.4165 - accuracy: 0.8333\n",
      "Epoch 54/100\n",
      "20/20 [==============================] - 0s 9ms/step - loss: 0.4058 - accuracy: 0.8654\n",
      "Epoch 55/100\n",
      "20/20 [==============================] - 0s 10ms/step - loss: 0.3860 - accuracy: 0.8269\n",
      "Epoch 56/100\n",
      "20/20 [==============================] - 0s 9ms/step - loss: 0.3832 - accuracy: 0.8333\n",
      "Epoch 57/100\n",
      "20/20 [==============================] - 0s 9ms/step - loss: 0.3907 - accuracy: 0.8526\n",
      "Epoch 58/100\n",
      "20/20 [==============================] - 0s 9ms/step - loss: 0.3764 - accuracy: 0.8462\n",
      "Epoch 59/100\n",
      "20/20 [==============================] - 0s 9ms/step - loss: 0.3835 - accuracy: 0.8654\n",
      "Epoch 60/100\n",
      "20/20 [==============================] - 0s 9ms/step - loss: 0.4222 - accuracy: 0.8718\n",
      "Epoch 61/100\n",
      "20/20 [==============================] - 0s 10ms/step - loss: 0.3768 - accuracy: 0.8590\n",
      "Epoch 62/100\n",
      "20/20 [==============================] - 0s 10ms/step - loss: 0.3777 - accuracy: 0.8654\n",
      "Epoch 63/100\n",
      "20/20 [==============================] - 0s 9ms/step - loss: 0.4300 - accuracy: 0.8654\n",
      "Epoch 64/100\n",
      "20/20 [==============================] - 0s 9ms/step - loss: 0.4079 - accuracy: 0.8397\n",
      "Epoch 65/100\n",
      "20/20 [==============================] - 0s 9ms/step - loss: 0.4335 - accuracy: 0.8077\n",
      "Epoch 66/100\n",
      "20/20 [==============================] - 0s 9ms/step - loss: 0.4561 - accuracy: 0.8910\n",
      "Epoch 67/100\n",
      "20/20 [==============================] - 0s 9ms/step - loss: 0.3925 - accuracy: 0.8141\n",
      "Epoch 68/100\n",
      "20/20 [==============================] - 0s 9ms/step - loss: 0.4890 - accuracy: 0.8205\n",
      "Epoch 69/100\n",
      "20/20 [==============================] - 0s 9ms/step - loss: 0.4648 - accuracy: 0.8333\n",
      "Epoch 70/100\n",
      "20/20 [==============================] - 0s 9ms/step - loss: 0.4292 - accuracy: 0.8205\n",
      "Epoch 71/100\n",
      "20/20 [==============================] - 0s 9ms/step - loss: 0.4389 - accuracy: 0.8269\n",
      "Epoch 72/100\n",
      "20/20 [==============================] - 0s 10ms/step - loss: 0.5313 - accuracy: 0.8590\n",
      "Epoch 73/100\n",
      "20/20 [==============================] - 0s 9ms/step - loss: 0.3994 - accuracy: 0.8526\n",
      "Epoch 74/100\n",
      "20/20 [==============================] - 0s 10ms/step - loss: 0.4597 - accuracy: 0.8526\n",
      "Epoch 75/100\n",
      "20/20 [==============================] - 0s 10ms/step - loss: 0.4336 - accuracy: 0.7949\n",
      "Epoch 76/100\n",
      "20/20 [==============================] - 0s 9ms/step - loss: 0.4897 - accuracy: 0.8974\n",
      "Epoch 77/100\n",
      "20/20 [==============================] - 0s 9ms/step - loss: 0.4580 - accuracy: 0.8462\n",
      "Epoch 78/100\n",
      "20/20 [==============================] - 0s 9ms/step - loss: 0.3884 - accuracy: 0.8462\n",
      "Epoch 79/100\n",
      "20/20 [==============================] - 0s 9ms/step - loss: 0.4560 - accuracy: 0.8397\n",
      "Epoch 80/100\n",
      "20/20 [==============================] - 0s 9ms/step - loss: 0.4648 - accuracy: 0.8782\n",
      "Epoch 81/100\n",
      "20/20 [==============================] - 0s 10ms/step - loss: 0.4203 - accuracy: 0.7692\n",
      "Epoch 82/100\n",
      "20/20 [==============================] - 0s 10ms/step - loss: 0.5765 - accuracy: 0.7436\n",
      "Epoch 83/100\n",
      "20/20 [==============================] - 0s 9ms/step - loss: 0.5343 - accuracy: 0.7436\n",
      "Epoch 84/100\n",
      "20/20 [==============================] - 0s 9ms/step - loss: 0.5954 - accuracy: 0.7500\n",
      "Epoch 85/100\n",
      "20/20 [==============================] - 0s 10ms/step - loss: 0.4966 - accuracy: 0.8333\n",
      "Epoch 86/100\n",
      "20/20 [==============================] - 0s 9ms/step - loss: 0.4919 - accuracy: 0.8333\n",
      "Epoch 87/100\n",
      "20/20 [==============================] - 0s 9ms/step - loss: 0.4421 - accuracy: 0.8013\n",
      "Epoch 88/100\n",
      "20/20 [==============================] - 0s 9ms/step - loss: 0.4382 - accuracy: 0.8077\n",
      "Epoch 89/100\n",
      "20/20 [==============================] - 0s 10ms/step - loss: 0.4463 - accuracy: 0.8205\n",
      "Epoch 90/100\n",
      "20/20 [==============================] - 0s 9ms/step - loss: 0.4310 - accuracy: 0.8141\n",
      "Epoch 91/100\n",
      "20/20 [==============================] - 0s 9ms/step - loss: 0.4182 - accuracy: 0.8654\n",
      "Epoch 92/100\n",
      "20/20 [==============================] - 0s 10ms/step - loss: 0.5616 - accuracy: 0.8205\n",
      "Epoch 93/100\n",
      "20/20 [==============================] - 0s 9ms/step - loss: 0.4401 - accuracy: 0.7756\n",
      "Epoch 94/100\n",
      "20/20 [==============================] - 0s 9ms/step - loss: 0.5122 - accuracy: 0.8077\n",
      "Epoch 95/100\n",
      "20/20 [==============================] - 0s 9ms/step - loss: 0.4610 - accuracy: 0.7821\n",
      "Epoch 96/100\n",
      "20/20 [==============================] - 0s 9ms/step - loss: 0.5911 - accuracy: 0.7756\n",
      "Epoch 97/100\n",
      "20/20 [==============================] - 0s 9ms/step - loss: 0.5793 - accuracy: 0.7756\n",
      "Epoch 98/100\n",
      "20/20 [==============================] - 0s 9ms/step - loss: 0.9561 - accuracy: 0.7564\n",
      "Epoch 99/100\n",
      "20/20 [==============================] - 0s 9ms/step - loss: 0.4737 - accuracy: 0.8269\n",
      "Epoch 100/100\n",
      "20/20 [==============================] - 0s 9ms/step - loss: 0.4644 - accuracy: 0.7628\n"
     ]
    },
    {
     "data": {
      "text/plain": [
       "<keras.src.callbacks.History at 0x1729141f0>"
      ]
     },
     "execution_count": 19,
     "metadata": {},
     "output_type": "execute_result"
    }
   ],
   "source": [
    "# Creating a sequential neural network model\n",
    "import tensorflow as tf\n",
    "from tensorflow import keras\n",
    "\n",
    "model=keras.Sequential([\n",
    "    keras.layers.Dense(60,input_dim=60,activation=\"relu\"),\n",
    "    keras.layers.Dense(30,activation=\"relu\"),\n",
    "    keras.layers.Dense(15,activation=\"relu\"),\n",
    "    keras.layers.Dense(1,activation=\"sigmoid\")\n",
    "])\n",
    "\n",
    "model.compile(loss=\"binary_crossentropy\",optimizer=\"adam\",metrics=[\"accuracy\"])\n",
    "\n",
    "model.fit(x_train,y_train,epochs=100,batch_size=8)"
   ]
  },
  {
   "cell_type": "code",
   "execution_count": 20,
   "metadata": {},
   "outputs": [
    {
     "name": "stdout",
     "output_type": "stream",
     "text": [
      "2/2 [==============================] - 0s 64ms/step - loss: 0.6657 - accuracy: 0.7115\n"
     ]
    },
    {
     "name": "stderr",
     "output_type": "stream",
     "text": [
      "2024-05-14 02:10:20.376629: I tensorflow/core/grappler/optimizers/custom_graph_optimizer_registry.cc:114] Plugin optimizer for device_type GPU is enabled.\n"
     ]
    },
    {
     "data": {
      "text/plain": [
       "[0.6656783223152161, 0.7115384340286255]"
      ]
     },
     "execution_count": 20,
     "metadata": {},
     "output_type": "execute_result"
    }
   ],
   "source": [
    "model.evaluate(x_test,y_test)"
   ]
  },
  {
   "cell_type": "code",
   "execution_count": 23,
   "metadata": {},
   "outputs": [
    {
     "name": "stdout",
     "output_type": "stream",
     "text": [
      "2/2 [==============================] - 0s 20ms/step\n",
      "One---- [6.9841059e-05 5.9775865e-01 5.9977150e-01 4.8480867e-03 9.6170044e-01\n",
      " 7.8452790e-01 5.0818342e-01 9.2125529e-01 2.4225440e-02 9.6018046e-01]\n",
      "Two---- [0. 1. 1. 0. 1. 1. 1. 1. 0. 1.]\n"
     ]
    }
   ],
   "source": [
    "y_pred = model.predict(x_test).reshape(-1)  # Making predictions on the test set\n",
    "print(\"One----\", y_pred[:10])  # Printing the first 10 predictions\n",
    "\n",
    "y_pred = np.round(y_pred)  # Rounding the predictions to convert probabilities to binary values\n",
    "print(\"Two----\", y_pred[:10])  # Printing the first 10 rounded predictions\n"
   ]
  },
  {
   "cell_type": "code",
   "execution_count": 25,
   "metadata": {},
   "outputs": [
    {
     "data": {
      "text/html": [
       "<div>\n",
       "<style scoped>\n",
       "    .dataframe tbody tr th:only-of-type {\n",
       "        vertical-align: middle;\n",
       "    }\n",
       "\n",
       "    .dataframe tbody tr th {\n",
       "        vertical-align: top;\n",
       "    }\n",
       "\n",
       "    .dataframe thead th {\n",
       "        text-align: right;\n",
       "    }\n",
       "</style>\n",
       "<table border=\"1\" class=\"dataframe\">\n",
       "  <thead>\n",
       "    <tr style=\"text-align: right;\">\n",
       "      <th></th>\n",
       "      <th>R</th>\n",
       "    </tr>\n",
       "  </thead>\n",
       "  <tbody>\n",
       "    <tr>\n",
       "      <th>186</th>\n",
       "      <td>0</td>\n",
       "    </tr>\n",
       "    <tr>\n",
       "      <th>155</th>\n",
       "      <td>0</td>\n",
       "    </tr>\n",
       "    <tr>\n",
       "      <th>165</th>\n",
       "      <td>0</td>\n",
       "    </tr>\n",
       "    <tr>\n",
       "      <th>200</th>\n",
       "      <td>0</td>\n",
       "    </tr>\n",
       "    <tr>\n",
       "      <th>58</th>\n",
       "      <td>1</td>\n",
       "    </tr>\n",
       "    <tr>\n",
       "      <th>34</th>\n",
       "      <td>1</td>\n",
       "    </tr>\n",
       "    <tr>\n",
       "      <th>151</th>\n",
       "      <td>0</td>\n",
       "    </tr>\n",
       "    <tr>\n",
       "      <th>18</th>\n",
       "      <td>1</td>\n",
       "    </tr>\n",
       "    <tr>\n",
       "      <th>202</th>\n",
       "      <td>0</td>\n",
       "    </tr>\n",
       "    <tr>\n",
       "      <th>62</th>\n",
       "      <td>1</td>\n",
       "    </tr>\n",
       "  </tbody>\n",
       "</table>\n",
       "</div>"
      ],
      "text/plain": [
       "     R\n",
       "186  0\n",
       "155  0\n",
       "165  0\n",
       "200  0\n",
       "58   1\n",
       "34   1\n",
       "151  0\n",
       "18   1\n",
       "202  0\n",
       "62   1"
      ]
     },
     "execution_count": 25,
     "metadata": {},
     "output_type": "execute_result"
    }
   ],
   "source": [
    "# comparing predictions with actual value\n",
    "y_test[:10]"
   ]
  },
  {
   "cell_type": "markdown",
   "metadata": {},
   "source": [
    "**^ Above** We can see that the model working well but make some mistakes"
   ]
  },
  {
   "cell_type": "code",
   "execution_count": 29,
   "metadata": {},
   "outputs": [
    {
     "name": "stdout",
     "output_type": "stream",
     "text": [
      "              precision    recall  f1-score   support\n",
      "\n",
      "           0       0.67      0.89      0.76        27\n",
      "           1       0.81      0.52      0.63        25\n",
      "\n",
      "    accuracy                           0.71        52\n",
      "   macro avg       0.74      0.70      0.70        52\n",
      "weighted avg       0.74      0.71      0.70        52\n",
      "\n"
     ]
    }
   ],
   "source": [
    "from sklearn.metrics import confusion_matrix, classification_report\n",
    "\n",
    "print(classification_report(y_test,y_pred))"
   ]
  },
  {
   "cell_type": "code",
   "execution_count": 31,
   "metadata": {},
   "outputs": [
    {
     "name": "stdout",
     "output_type": "stream",
     "text": [
      "Epoch 1/100\n"
     ]
    },
    {
     "name": "stderr",
     "output_type": "stream",
     "text": [
      "2024-05-14 02:27:38.647255: I tensorflow/core/grappler/optimizers/custom_graph_optimizer_registry.cc:114] Plugin optimizer for device_type GPU is enabled.\n"
     ]
    },
    {
     "name": "stdout",
     "output_type": "stream",
     "text": [
      "20/20 [==============================] - 1s 24ms/step - loss: 0.9989 - accuracy: 0.5256\n",
      "Epoch 2/100\n",
      "20/20 [==============================] - 0s 13ms/step - loss: 0.7570 - accuracy: 0.6090\n",
      "Epoch 3/100\n",
      "20/20 [==============================] - 0s 12ms/step - loss: 0.9483 - accuracy: 0.4744\n",
      "Epoch 4/100\n",
      "20/20 [==============================] - 0s 13ms/step - loss: 0.7722 - accuracy: 0.5192\n",
      "Epoch 5/100\n",
      "20/20 [==============================] - 0s 11ms/step - loss: 0.7328 - accuracy: 0.5513\n",
      "Epoch 6/100\n",
      "20/20 [==============================] - 0s 11ms/step - loss: 0.7490 - accuracy: 0.5321\n",
      "Epoch 7/100\n",
      "20/20 [==============================] - 0s 13ms/step - loss: 0.6982 - accuracy: 0.6090\n",
      "Epoch 8/100\n",
      "20/20 [==============================] - 0s 12ms/step - loss: 0.7110 - accuracy: 0.5769\n",
      "Epoch 9/100\n",
      "20/20 [==============================] - 0s 11ms/step - loss: 0.7223 - accuracy: 0.6090\n",
      "Epoch 10/100\n",
      "20/20 [==============================] - 0s 11ms/step - loss: 0.7179 - accuracy: 0.5705\n",
      "Epoch 11/100\n",
      "20/20 [==============================] - 0s 12ms/step - loss: 0.6707 - accuracy: 0.6090\n",
      "Epoch 12/100\n",
      "20/20 [==============================] - 0s 11ms/step - loss: 0.6411 - accuracy: 0.6538\n",
      "Epoch 13/100\n",
      "20/20 [==============================] - 0s 11ms/step - loss: 0.6576 - accuracy: 0.6154\n",
      "Epoch 14/100\n",
      "20/20 [==============================] - 0s 11ms/step - loss: 0.6793 - accuracy: 0.6154\n",
      "Epoch 15/100\n",
      "20/20 [==============================] - 0s 11ms/step - loss: 0.6352 - accuracy: 0.6538\n",
      "Epoch 16/100\n",
      "20/20 [==============================] - 0s 12ms/step - loss: 0.6731 - accuracy: 0.5641\n",
      "Epoch 17/100\n",
      "20/20 [==============================] - 0s 11ms/step - loss: 0.6234 - accuracy: 0.6410\n",
      "Epoch 18/100\n",
      "20/20 [==============================] - 0s 11ms/step - loss: 0.6665 - accuracy: 0.5897\n",
      "Epoch 19/100\n",
      "20/20 [==============================] - 0s 11ms/step - loss: 0.6295 - accuracy: 0.6410\n",
      "Epoch 20/100\n",
      "20/20 [==============================] - 0s 11ms/step - loss: 0.5532 - accuracy: 0.7179\n",
      "Epoch 21/100\n",
      "20/20 [==============================] - 0s 11ms/step - loss: 0.5877 - accuracy: 0.6603\n",
      "Epoch 22/100\n",
      "20/20 [==============================] - 0s 12ms/step - loss: 0.5694 - accuracy: 0.6795\n",
      "Epoch 23/100\n",
      "20/20 [==============================] - 0s 12ms/step - loss: 0.5741 - accuracy: 0.6923\n",
      "Epoch 24/100\n",
      "20/20 [==============================] - 0s 12ms/step - loss: 0.5863 - accuracy: 0.6795\n",
      "Epoch 25/100\n",
      "20/20 [==============================] - 0s 12ms/step - loss: 0.5259 - accuracy: 0.7308\n",
      "Epoch 26/100\n",
      "20/20 [==============================] - 0s 11ms/step - loss: 0.5563 - accuracy: 0.7308\n",
      "Epoch 27/100\n",
      "20/20 [==============================] - 0s 11ms/step - loss: 0.5561 - accuracy: 0.7308\n",
      "Epoch 28/100\n",
      "20/20 [==============================] - 0s 11ms/step - loss: 0.5791 - accuracy: 0.6923\n",
      "Epoch 29/100\n",
      "20/20 [==============================] - 0s 11ms/step - loss: 0.5272 - accuracy: 0.7115\n",
      "Epoch 30/100\n",
      "20/20 [==============================] - 0s 11ms/step - loss: 0.4686 - accuracy: 0.7756\n",
      "Epoch 31/100\n",
      "20/20 [==============================] - 0s 11ms/step - loss: 0.4892 - accuracy: 0.7949\n",
      "Epoch 32/100\n",
      "20/20 [==============================] - 0s 11ms/step - loss: 0.4796 - accuracy: 0.7500\n",
      "Epoch 33/100\n",
      "20/20 [==============================] - 0s 11ms/step - loss: 0.5231 - accuracy: 0.7821\n",
      "Epoch 34/100\n",
      "20/20 [==============================] - 0s 11ms/step - loss: 0.5313 - accuracy: 0.7692\n",
      "Epoch 35/100\n",
      "20/20 [==============================] - 0s 11ms/step - loss: 0.5039 - accuracy: 0.7692\n",
      "Epoch 36/100\n",
      "20/20 [==============================] - 0s 13ms/step - loss: 0.5167 - accuracy: 0.8013\n",
      "Epoch 37/100\n",
      "20/20 [==============================] - 0s 11ms/step - loss: 0.4915 - accuracy: 0.7308\n",
      "Epoch 38/100\n",
      "20/20 [==============================] - 0s 14ms/step - loss: 0.5070 - accuracy: 0.7821\n",
      "Epoch 39/100\n",
      "20/20 [==============================] - 0s 11ms/step - loss: 0.4728 - accuracy: 0.7756\n",
      "Epoch 40/100\n",
      "20/20 [==============================] - 0s 12ms/step - loss: 0.4575 - accuracy: 0.8205\n",
      "Epoch 41/100\n",
      "20/20 [==============================] - 0s 11ms/step - loss: 0.4463 - accuracy: 0.8205\n",
      "Epoch 42/100\n",
      "20/20 [==============================] - 0s 11ms/step - loss: 0.4550 - accuracy: 0.7692\n",
      "Epoch 43/100\n",
      "20/20 [==============================] - 0s 11ms/step - loss: 0.4565 - accuracy: 0.7756\n",
      "Epoch 44/100\n",
      "20/20 [==============================] - 0s 11ms/step - loss: 0.4285 - accuracy: 0.7821\n",
      "Epoch 45/100\n",
      "20/20 [==============================] - 0s 11ms/step - loss: 0.4796 - accuracy: 0.7564\n",
      "Epoch 46/100\n",
      "20/20 [==============================] - 0s 11ms/step - loss: 0.4757 - accuracy: 0.7692\n",
      "Epoch 47/100\n",
      "20/20 [==============================] - 0s 11ms/step - loss: 0.4197 - accuracy: 0.7949\n",
      "Epoch 48/100\n",
      "20/20 [==============================] - 0s 11ms/step - loss: 0.4681 - accuracy: 0.7885\n",
      "Epoch 49/100\n",
      "20/20 [==============================] - 0s 12ms/step - loss: 0.4107 - accuracy: 0.8205\n",
      "Epoch 50/100\n",
      "20/20 [==============================] - 0s 11ms/step - loss: 0.4398 - accuracy: 0.8141\n",
      "Epoch 51/100\n",
      "20/20 [==============================] - 0s 11ms/step - loss: 0.4472 - accuracy: 0.7692\n",
      "Epoch 52/100\n",
      "20/20 [==============================] - 0s 12ms/step - loss: 0.4457 - accuracy: 0.7885\n",
      "Epoch 53/100\n",
      "20/20 [==============================] - 0s 11ms/step - loss: 0.4517 - accuracy: 0.7756\n",
      "Epoch 54/100\n",
      "20/20 [==============================] - 0s 11ms/step - loss: 0.4791 - accuracy: 0.7821\n",
      "Epoch 55/100\n",
      "20/20 [==============================] - 0s 11ms/step - loss: 0.4369 - accuracy: 0.7821\n",
      "Epoch 56/100\n",
      "20/20 [==============================] - 0s 11ms/step - loss: 0.4466 - accuracy: 0.8333\n",
      "Epoch 57/100\n",
      "20/20 [==============================] - 0s 11ms/step - loss: 0.4146 - accuracy: 0.7885\n",
      "Epoch 58/100\n",
      "20/20 [==============================] - 0s 11ms/step - loss: 0.4264 - accuracy: 0.8141\n",
      "Epoch 59/100\n",
      "20/20 [==============================] - 0s 10ms/step - loss: 0.4334 - accuracy: 0.8269\n",
      "Epoch 60/100\n",
      "20/20 [==============================] - 0s 11ms/step - loss: 0.3994 - accuracy: 0.8077\n",
      "Epoch 61/100\n",
      "20/20 [==============================] - 0s 11ms/step - loss: 0.4401 - accuracy: 0.8077\n",
      "Epoch 62/100\n",
      "20/20 [==============================] - 0s 11ms/step - loss: 0.4214 - accuracy: 0.7949\n",
      "Epoch 63/100\n",
      "20/20 [==============================] - 0s 12ms/step - loss: 0.4403 - accuracy: 0.7885\n",
      "Epoch 64/100\n",
      "20/20 [==============================] - 0s 11ms/step - loss: 0.4259 - accuracy: 0.7949\n",
      "Epoch 65/100\n",
      "20/20 [==============================] - 0s 13ms/step - loss: 0.4252 - accuracy: 0.8205\n",
      "Epoch 66/100\n",
      "20/20 [==============================] - 0s 12ms/step - loss: 0.4192 - accuracy: 0.8333\n",
      "Epoch 67/100\n",
      "20/20 [==============================] - 0s 11ms/step - loss: 0.4949 - accuracy: 0.7564\n",
      "Epoch 68/100\n",
      "20/20 [==============================] - 0s 12ms/step - loss: 0.4404 - accuracy: 0.7949\n",
      "Epoch 69/100\n",
      "20/20 [==============================] - 0s 11ms/step - loss: 0.4241 - accuracy: 0.8333\n",
      "Epoch 70/100\n",
      "20/20 [==============================] - 0s 13ms/step - loss: 0.4287 - accuracy: 0.7756\n",
      "Epoch 71/100\n",
      "20/20 [==============================] - 0s 12ms/step - loss: 0.4610 - accuracy: 0.7885\n",
      "Epoch 72/100\n",
      "20/20 [==============================] - 0s 12ms/step - loss: 0.4362 - accuracy: 0.7885\n",
      "Epoch 73/100\n",
      "20/20 [==============================] - 0s 12ms/step - loss: 0.3757 - accuracy: 0.8526\n",
      "Epoch 74/100\n",
      "20/20 [==============================] - 0s 12ms/step - loss: 0.4536 - accuracy: 0.7885\n",
      "Epoch 75/100\n",
      "20/20 [==============================] - 0s 12ms/step - loss: 0.4216 - accuracy: 0.8141\n",
      "Epoch 76/100\n",
      "20/20 [==============================] - 0s 12ms/step - loss: 0.4593 - accuracy: 0.7885\n",
      "Epoch 77/100\n",
      "20/20 [==============================] - 0s 11ms/step - loss: 0.3961 - accuracy: 0.8205\n",
      "Epoch 78/100\n",
      "20/20 [==============================] - 0s 12ms/step - loss: 0.4582 - accuracy: 0.8077\n",
      "Epoch 79/100\n",
      "20/20 [==============================] - 0s 11ms/step - loss: 0.3581 - accuracy: 0.8397\n",
      "Epoch 80/100\n",
      "20/20 [==============================] - 0s 11ms/step - loss: 0.4393 - accuracy: 0.8077\n",
      "Epoch 81/100\n",
      "20/20 [==============================] - 0s 11ms/step - loss: 0.4568 - accuracy: 0.8141\n",
      "Epoch 82/100\n",
      "20/20 [==============================] - 0s 12ms/step - loss: 0.4366 - accuracy: 0.7821\n",
      "Epoch 83/100\n",
      "20/20 [==============================] - 0s 12ms/step - loss: 0.4157 - accuracy: 0.8205\n",
      "Epoch 84/100\n",
      "20/20 [==============================] - 0s 11ms/step - loss: 0.4237 - accuracy: 0.8269\n",
      "Epoch 85/100\n",
      "20/20 [==============================] - 0s 12ms/step - loss: 0.4534 - accuracy: 0.7949\n",
      "Epoch 86/100\n",
      "20/20 [==============================] - 0s 13ms/step - loss: 0.4632 - accuracy: 0.8205\n",
      "Epoch 87/100\n",
      "20/20 [==============================] - 0s 12ms/step - loss: 0.4224 - accuracy: 0.8141\n",
      "Epoch 88/100\n",
      "20/20 [==============================] - 0s 12ms/step - loss: 0.4251 - accuracy: 0.8141\n",
      "Epoch 89/100\n",
      "20/20 [==============================] - 0s 11ms/step - loss: 0.4349 - accuracy: 0.8141\n",
      "Epoch 90/100\n",
      "20/20 [==============================] - 0s 13ms/step - loss: 0.3989 - accuracy: 0.8077\n",
      "Epoch 91/100\n",
      "20/20 [==============================] - 0s 12ms/step - loss: 0.3473 - accuracy: 0.8590\n",
      "Epoch 92/100\n",
      "20/20 [==============================] - 0s 11ms/step - loss: 0.4358 - accuracy: 0.8013\n",
      "Epoch 93/100\n",
      "20/20 [==============================] - 0s 11ms/step - loss: 0.4668 - accuracy: 0.7756\n",
      "Epoch 94/100\n",
      "20/20 [==============================] - 0s 11ms/step - loss: 0.4236 - accuracy: 0.8205\n",
      "Epoch 95/100\n",
      "20/20 [==============================] - 0s 11ms/step - loss: 0.5363 - accuracy: 0.7821\n",
      "Epoch 96/100\n",
      "20/20 [==============================] - 0s 12ms/step - loss: 0.4140 - accuracy: 0.7885\n",
      "Epoch 97/100\n",
      "20/20 [==============================] - 0s 13ms/step - loss: 0.4231 - accuracy: 0.8141\n",
      "Epoch 98/100\n",
      "20/20 [==============================] - 0s 12ms/step - loss: 0.3415 - accuracy: 0.8526\n",
      "Epoch 99/100\n",
      "20/20 [==============================] - 0s 12ms/step - loss: 0.4252 - accuracy: 0.7949\n",
      "Epoch 100/100\n",
      "20/20 [==============================] - 0s 11ms/step - loss: 0.4798 - accuracy: 0.7628\n"
     ]
    },
    {
     "data": {
      "text/plain": [
       "<keras.src.callbacks.History at 0x1190d0430>"
      ]
     },
     "execution_count": 31,
     "metadata": {},
     "output_type": "execute_result"
    }
   ],
   "source": [
    "# Here i implemented Dropout Regularization\n",
    "# The Usual practice is to put dropout layer after hidden layer\n",
    "import tensorflow as tf\n",
    "from tensorflow import keras\n",
    "\n",
    "modeld=keras.Sequential([\n",
    "    keras.layers.Dense(60,input_dim=60,activation=\"relu\"),\n",
    "    keras.layers.Dropout(0.5),\n",
    "    keras.layers.Dense(30,activation=\"relu\"),\n",
    "    keras.layers.Dropout(0.5),\n",
    "    keras.layers.Dense(15,activation=\"relu\"),\n",
    "    keras.layers.Dropout(0.5),\n",
    "    keras.layers.Dense(1,activation=\"sigmoid\")\n",
    "])\n",
    "\n",
    "modeld.compile(loss=\"binary_crossentropy\",optimizer=\"adam\",metrics=[\"accuracy\"])\n",
    "\n",
    "modeld.fit(x_train,y_train,epochs=100,batch_size=8)"
   ]
  },
  {
   "cell_type": "code",
   "execution_count": 32,
   "metadata": {},
   "outputs": [
    {
     "name": "stdout",
     "output_type": "stream",
     "text": [
      "2/2 [==============================] - 0s 66ms/step - loss: 0.4948 - accuracy: 0.7500\n"
     ]
    },
    {
     "name": "stderr",
     "output_type": "stream",
     "text": [
      "2024-05-14 02:28:05.840943: I tensorflow/core/grappler/optimizers/custom_graph_optimizer_registry.cc:114] Plugin optimizer for device_type GPU is enabled.\n"
     ]
    },
    {
     "data": {
      "text/plain": [
       "[0.49480336904525757, 0.75]"
      ]
     },
     "execution_count": 32,
     "metadata": {},
     "output_type": "execute_result"
    }
   ],
   "source": [
    "modeld.evaluate(x_test,y_test)"
   ]
  },
  {
   "cell_type": "markdown",
   "metadata": {},
   "source": [
    "So after **Dropout Regularization** the accuracy for train set was same(in some cases it can be lower) but for the test set we got higher accuracy"
   ]
  },
  {
   "cell_type": "code",
   "execution_count": 36,
   "metadata": {},
   "outputs": [
    {
     "name": "stdout",
     "output_type": "stream",
     "text": [
      "2/2 [==============================] - 0s 8ms/step\n"
     ]
    },
    {
     "name": "stderr",
     "output_type": "stream",
     "text": [
      "2024-05-14 02:48:26.855687: I tensorflow/core/grappler/optimizers/custom_graph_optimizer_registry.cc:114] Plugin optimizer for device_type GPU is enabled.\n"
     ]
    }
   ],
   "source": [
    "y_predb = modeld.predict(x_test).reshape(-1)  # Making predictions on the test set\n",
    "y_predb = np.round(y_predb)  # Rounding the predictions to convert probabilities to binary values"
   ]
  },
  {
   "cell_type": "code",
   "execution_count": 37,
   "metadata": {},
   "outputs": [
    {
     "name": "stdout",
     "output_type": "stream",
     "text": [
      "              precision    recall  f1-score   support\n",
      "\n",
      "           0       0.77      0.74      0.75        27\n",
      "           1       0.73      0.76      0.75        25\n",
      "\n",
      "    accuracy                           0.75        52\n",
      "   macro avg       0.75      0.75      0.75        52\n",
      "weighted avg       0.75      0.75      0.75        52\n",
      "\n"
     ]
    }
   ],
   "source": [
    "from sklearn.metrics import confusion_matrix,classification_report\n",
    "\n",
    "print(classification_report(y_test,y_predb))"
   ]
  },
  {
   "cell_type": "markdown",
   "metadata": {},
   "source": [
    "So after Dropout Regularization the things like precision, recall, f1-score - get Improved little bit. Actually, they get balanced in both 0 and 1 class."
   ]
  }
 ],
 "metadata": {
  "kernelspec": {
   "display_name": "tensorflow-test",
   "language": "python",
   "name": "tensorflow-test"
  },
  "language_info": {
   "codemirror_mode": {
    "name": "ipython",
    "version": 3
   },
   "file_extension": ".py",
   "mimetype": "text/x-python",
   "name": "python",
   "nbconvert_exporter": "python",
   "pygments_lexer": "ipython3",
   "version": "3.8.16"
  }
 },
 "nbformat": 4,
 "nbformat_minor": 2
}
