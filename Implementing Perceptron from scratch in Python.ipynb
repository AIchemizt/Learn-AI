{
 "cells": [
  {
   "cell_type": "code",
   "execution_count": 57,
   "metadata": {},
   "outputs": [],
   "source": [
    "import numpy as np"
   ]
  },
  {
   "cell_type": "markdown",
   "metadata": {},
   "source": [
    "![alt text](<Representation of a Perceptron.png>)"
   ]
  },
  {
   "cell_type": "code",
   "execution_count": 58,
   "metadata": {},
   "outputs": [],
   "source": [
    "# Building Sigmoid Perceptron class\n",
    "class SigmoidPerceptron():\n",
    "\n",
    "    def __init__(self,input_size):\n",
    "        # Initialize weights with random values from a normal distribution\n",
    "        self.weights=np.random.randn(input_size) # Generate random weights equal to input_size\n",
    "        # Initialize bias with a random value from a normal distribution\n",
    "        self.bias=np.random.randn(1) # Bias is a single scalar value\n",
    "        \n",
    "    def sigmoid(self,z):\n",
    "        # Sigmoid Activation function\n",
    "        return 1/(1+np.exp(-z)) \n",
    "    \n",
    "    def predict(self,inputs):\n",
    "        # Calculate the weighted sum of inputs and weights, then add bias\n",
    "        weighted_sum=np.dot(inputs,self.weights)+self.bias # Summation of Inputs and Weights, which will be passed to the sigmoid function\n",
    "        # Pass the weighted sum through the sigmoid activation function and return the result\n",
    "        return self.sigmoid(weighted_sum) # Given to the sigmoid function\n",
    "\n",
    "    def fit(self,inputs,targets,learning_rate, num_epochs):\n",
    "        # Get the number of examples in the input data\n",
    "        num_example=inputs.shape[0]\n",
    "\n",
    "        # Iterate over the specified number of epochs\n",
    "        for epoch in range(num_epochs):\n",
    "            # Iterate over each example in the dataset\n",
    "            for i in range(num_example):\n",
    "                # Extract input vector and target for the current example\n",
    "                input_vector=inputs[i]\n",
    "                target=targets[i]\n",
    "\n",
    "                # Predict the output for the current input vector\n",
    "                prediction=self.predict(input_vector)\n",
    "\n",
    "                # Calculate the error between the prediction and the target\n",
    "                error=target-prediction\n",
    "\n",
    "                # Update weights based on the gradient of the error with respect to weights\n",
    "                gradient_weights = error * prediction * (1-prediction) * input_vector\n",
    "                self.weights += learning_rate * gradient_weights\n",
    "\n",
    "                # Update bias based on the gradient of the error with respect to bias\n",
    "                gradient_bias = error * prediction * (1-prediction)\n",
    "                self.bias += learning_rate * gradient_bias\n",
    "\n",
    "    def evaluate(self,inputs,targets):\n",
    "        # Initialize the counter for correct predictions\n",
    "        correct=0\n",
    "\n",
    "        # Iterate over each input-target pair in the dataset\n",
    "        for input_vector,target in zip(inputs,targets):\n",
    "            # Predict the output for the current input vector\n",
    "            prediction=self.predict(input_vector)\n",
    "\n",
    "            # Determine the predicted class based on the prediction threshold (0.5)\n",
    "            if prediction >= 0.5:\n",
    "                predicted_class = 1\n",
    "            else:\n",
    "                predicted_class = 0\n",
    "\n",
    "            # Check if the predicted class matches the target class\n",
    "            if predicted_class == target:\n",
    "                correct += 1\n",
    "            \n",
    "        # Calculate accuracy as the ratio of correct predictions to the total number of examples\n",
    "        accuracy = correct / len(inputs)\n",
    "        return accuracy"
   ]
  },
  {
   "cell_type": "code",
   "execution_count": 59,
   "metadata": {},
   "outputs": [],
   "source": [
    "import pandas as pd\n",
    "from sklearn.model_selection import train_test_split\n",
    "from sklearn.preprocessing import StandardScaler"
   ]
  },
  {
   "cell_type": "code",
   "execution_count": 60,
   "metadata": {},
   "outputs": [
    {
     "data": {
      "text/html": [
       "<div>\n",
       "<style scoped>\n",
       "    .dataframe tbody tr th:only-of-type {\n",
       "        vertical-align: middle;\n",
       "    }\n",
       "\n",
       "    .dataframe tbody tr th {\n",
       "        vertical-align: top;\n",
       "    }\n",
       "\n",
       "    .dataframe thead th {\n",
       "        text-align: right;\n",
       "    }\n",
       "</style>\n",
       "<table border=\"1\" class=\"dataframe\">\n",
       "  <thead>\n",
       "    <tr style=\"text-align: right;\">\n",
       "      <th></th>\n",
       "      <th>Pregnancies</th>\n",
       "      <th>Glucose</th>\n",
       "      <th>BloodPressure</th>\n",
       "      <th>SkinThickness</th>\n",
       "      <th>Insulin</th>\n",
       "      <th>BMI</th>\n",
       "      <th>DiabetesPedigreeFunction</th>\n",
       "      <th>Age</th>\n",
       "      <th>Outcome</th>\n",
       "    </tr>\n",
       "  </thead>\n",
       "  <tbody>\n",
       "    <tr>\n",
       "      <th>0</th>\n",
       "      <td>6</td>\n",
       "      <td>148</td>\n",
       "      <td>72</td>\n",
       "      <td>35</td>\n",
       "      <td>0</td>\n",
       "      <td>33.6</td>\n",
       "      <td>0.627</td>\n",
       "      <td>50</td>\n",
       "      <td>1</td>\n",
       "    </tr>\n",
       "    <tr>\n",
       "      <th>1</th>\n",
       "      <td>1</td>\n",
       "      <td>85</td>\n",
       "      <td>66</td>\n",
       "      <td>29</td>\n",
       "      <td>0</td>\n",
       "      <td>26.6</td>\n",
       "      <td>0.351</td>\n",
       "      <td>31</td>\n",
       "      <td>0</td>\n",
       "    </tr>\n",
       "    <tr>\n",
       "      <th>2</th>\n",
       "      <td>8</td>\n",
       "      <td>183</td>\n",
       "      <td>64</td>\n",
       "      <td>0</td>\n",
       "      <td>0</td>\n",
       "      <td>23.3</td>\n",
       "      <td>0.672</td>\n",
       "      <td>32</td>\n",
       "      <td>1</td>\n",
       "    </tr>\n",
       "    <tr>\n",
       "      <th>3</th>\n",
       "      <td>1</td>\n",
       "      <td>89</td>\n",
       "      <td>66</td>\n",
       "      <td>23</td>\n",
       "      <td>94</td>\n",
       "      <td>28.1</td>\n",
       "      <td>0.167</td>\n",
       "      <td>21</td>\n",
       "      <td>0</td>\n",
       "    </tr>\n",
       "    <tr>\n",
       "      <th>4</th>\n",
       "      <td>0</td>\n",
       "      <td>137</td>\n",
       "      <td>40</td>\n",
       "      <td>35</td>\n",
       "      <td>168</td>\n",
       "      <td>43.1</td>\n",
       "      <td>2.288</td>\n",
       "      <td>33</td>\n",
       "      <td>1</td>\n",
       "    </tr>\n",
       "  </tbody>\n",
       "</table>\n",
       "</div>"
      ],
      "text/plain": [
       "   Pregnancies  Glucose  BloodPressure  SkinThickness  Insulin   BMI  \\\n",
       "0            6      148             72             35        0  33.6   \n",
       "1            1       85             66             29        0  26.6   \n",
       "2            8      183             64              0        0  23.3   \n",
       "3            1       89             66             23       94  28.1   \n",
       "4            0      137             40             35      168  43.1   \n",
       "\n",
       "   DiabetesPedigreeFunction  Age  Outcome  \n",
       "0                     0.627   50        1  \n",
       "1                     0.351   31        0  \n",
       "2                     0.672   32        1  \n",
       "3                     0.167   21        0  \n",
       "4                     2.288   33        1  "
      ]
     },
     "execution_count": 60,
     "metadata": {},
     "output_type": "execute_result"
    }
   ],
   "source": [
    "df=pd.read_csv(\"diabetes.csv\")\n",
    "\n",
    "df.head()"
   ]
  },
  {
   "cell_type": "code",
   "execution_count": 61,
   "metadata": {},
   "outputs": [
    {
     "data": {
      "text/plain": [
       "Outcome\n",
       "0    500\n",
       "1    268\n",
       "Name: count, dtype: int64"
      ]
     },
     "execution_count": 61,
     "metadata": {},
     "output_type": "execute_result"
    }
   ],
   "source": [
    "df[\"Outcome\"].value_counts()"
   ]
  },
  {
   "cell_type": "markdown",
   "metadata": {},
   "source": [
    "From the above Outcome Distribution we can see Imbalance in Dataset\n",
    "\n",
    "So we will do under sampling for the class 0"
   ]
  },
  {
   "cell_type": "code",
   "execution_count": 62,
   "metadata": {},
   "outputs": [],
   "source": [
    "# doing under sampling\n",
    "\n",
    "class_0_df=df[df[\"Outcome\"]==0]\n",
    "class_1_df=df[df[\"Outcome\"]==1]\n",
    "\n",
    "class_0_df=class_0_df.sample(268)\n",
    "\n",
    "data=pd.concat([class_0_df,class_1_df])"
   ]
  },
  {
   "cell_type": "code",
   "execution_count": 63,
   "metadata": {},
   "outputs": [
    {
     "data": {
      "text/plain": [
       "Outcome\n",
       "0    268\n",
       "1    268\n",
       "Name: count, dtype: int64"
      ]
     },
     "execution_count": 63,
     "metadata": {},
     "output_type": "execute_result"
    }
   ],
   "source": [
    "# Verifying the under sampling\n",
    "\n",
    "data[\"Outcome\"].value_counts()"
   ]
  },
  {
   "cell_type": "code",
   "execution_count": 64,
   "metadata": {},
   "outputs": [
    {
     "data": {
      "text/plain": [
       "pandas.core.frame.DataFrame"
      ]
     },
     "execution_count": 64,
     "metadata": {},
     "output_type": "execute_result"
    }
   ],
   "source": [
    "x=data.drop(\"Outcome\",axis=1)\n",
    "y=data[\"Outcome\"]\n",
    "\n",
    "type(x)"
   ]
  },
  {
   "cell_type": "code",
   "execution_count": null,
   "metadata": {},
   "outputs": [],
   "source": []
  },
  {
   "cell_type": "markdown",
   "metadata": {},
   "source": [
    "Above code create pandas Dataframe but But numpy array work better in most cases so we'll convert this into numpy"
   ]
  },
  {
   "cell_type": "code",
   "execution_count": 65,
   "metadata": {},
   "outputs": [
    {
     "data": {
      "text/plain": [
       "numpy.ndarray"
      ]
     },
     "execution_count": 65,
     "metadata": {},
     "output_type": "execute_result"
    }
   ],
   "source": [
    "# Converting to Numpy Array\n",
    "x=x.values\n",
    "y=y.values\n",
    "\n",
    "type(x)"
   ]
  },
  {
   "cell_type": "markdown",
   "metadata": {},
   "source": [
    "**Train Test split**"
   ]
  },
  {
   "cell_type": "markdown",
   "metadata": {},
   "source": [
    "*stratify*, it makes sure that when you split your data into training and testing sets, both sets have similar proportions of different categories (like classes or labels). This helps your model learn better, especially if some categories are rare in your data.\n",
    "\n",
    "So it does Uniform distribution of Data"
   ]
  },
  {
   "cell_type": "code",
   "execution_count": 66,
   "metadata": {},
   "outputs": [],
   "source": [
    "x_train, x_test, y_train, y_test=train_test_split(x,y,test_size=0.2,stratify=y, random_state=42)"
   ]
  },
  {
   "cell_type": "code",
   "execution_count": 67,
   "metadata": {},
   "outputs": [],
   "source": [
    "scaler=StandardScaler()\n",
    "x_train_scaled=scaler.fit_transform(x_train)\n",
    "x_test_scaled=scaler.transform(x_test)"
   ]
  },
  {
   "cell_type": "markdown",
   "metadata": {},
   "source": [
    "**Model Train**"
   ]
  },
  {
   "cell_type": "code",
   "execution_count": 68,
   "metadata": {},
   "outputs": [],
   "source": [
    "# Sigmoid Perceptron\n",
    "preceptron =SigmoidPerceptron(input_size=x_train_scaled.shape[1])"
   ]
  },
  {
   "cell_type": "code",
   "execution_count": 69,
   "metadata": {},
   "outputs": [],
   "source": [
    "# Train the Perceptron model\n",
    "preceptron.fit(inputs=x_train_scaled,targets=y_train,learning_rate=0.1, num_epochs=100)"
   ]
  },
  {
   "cell_type": "markdown",
   "metadata": {},
   "source": [
    "**Model Evaluation**"
   ]
  },
  {
   "cell_type": "code",
   "execution_count": 80,
   "metadata": {},
   "outputs": [
    {
     "name": "stdout",
     "output_type": "stream",
     "text": [
      "Training Data Accuracy = 72.43 %\n"
     ]
    }
   ],
   "source": [
    "# Evaluate the model for training data\n",
    "\n",
    "accuracy=preceptron.evaluate(x_train_scaled,y_train)\n",
    "accuracy=round(accuracy*100,2)\n",
    "print(\"Training Data Accuracy =\",accuracy,\"%\")"
   ]
  },
  {
   "cell_type": "code",
   "execution_count": 82,
   "metadata": {},
   "outputs": [
    {
     "name": "stdout",
     "output_type": "stream",
     "text": [
      "Test Data Accuracy = 76.85 %\n"
     ]
    }
   ],
   "source": [
    "# Evaluate the model for test data\n",
    "\n",
    "accuracy=preceptron.evaluate(x_test_scaled,y_test)\n",
    "accuracy=round(accuracy*100,2)\n",
    "print(\"Test Data Accuracy =\", accuracy,\"%\")"
   ]
  },
  {
   "cell_type": "markdown",
   "metadata": {},
   "source": [
    "**Out of scope**"
   ]
  },
  {
   "cell_type": "code",
   "execution_count": 70,
   "metadata": {},
   "outputs": [
    {
     "name": "stdout",
     "output_type": "stream",
     "text": [
      "[-0.30757676]\n"
     ]
    }
   ],
   "source": [
    "# random.randn Generate random number in given range\n",
    "\n",
    "import numpy as np\n",
    "array = np.random.randn(1)\n",
    "print(array)\n"
   ]
  },
  {
   "cell_type": "code",
   "execution_count": 71,
   "metadata": {},
   "outputs": [
    {
     "name": "stdout",
     "output_type": "stream",
     "text": [
      "1 4\n",
      "2 5\n",
      "3 6\n"
     ]
    }
   ],
   "source": [
    "# zip Create Combined iterator\n",
    "\n",
    "a=[1,2,3]\n",
    "b=[4,5,6]\n",
    "\n",
    "for val1,val2 in zip(a,b):\n",
    "    print(val1,val2)"
   ]
  },
  {
   "cell_type": "code",
   "execution_count": null,
   "metadata": {},
   "outputs": [],
   "source": []
  }
 ],
 "metadata": {
  "kernelspec": {
   "display_name": "tensorflow-test",
   "language": "python",
   "name": "tensorflow-test"
  },
  "language_info": {
   "codemirror_mode": {
    "name": "ipython",
    "version": 3
   },
   "file_extension": ".py",
   "mimetype": "text/x-python",
   "name": "python",
   "nbconvert_exporter": "python",
   "pygments_lexer": "ipython3",
   "version": "3.8.16"
  }
 },
 "nbformat": 4,
 "nbformat_minor": 2
}
