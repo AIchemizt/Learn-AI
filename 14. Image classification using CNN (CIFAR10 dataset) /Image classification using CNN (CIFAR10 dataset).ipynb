{
 "cells": [
  {
   "cell_type": "markdown",
   "metadata": {},
   "source": [
    "In this notebook, we will classify small images cifar10 dataset from tensorflow keras datasets. There are total 10 classes as shown below. We will use CNN for classification"
   ]
  },
  {
   "cell_type": "markdown",
   "metadata": {},
   "source": [
    "<img src=\"small_images.jpg\" alt=\"alt text\" style=\"width:400px;height:350px;\">"
   ]
  },
  {
   "cell_type": "code",
   "execution_count": 3,
   "metadata": {},
   "outputs": [],
   "source": [
    "# Importing library\n",
    "import tensorflow as tf\n",
    "from tensorflow.keras import datasets, layers,models\n",
    "import matplotlib.pyplot as plt\n",
    "import numpy as np\n",
    "from tensorflow import keras "
   ]
  },
  {
   "cell_type": "code",
   "execution_count": 4,
   "metadata": {},
   "outputs": [
    {
     "data": {
      "text/plain": [
       "(50000, 32, 32, 3)"
      ]
     },
     "execution_count": 4,
     "metadata": {},
     "output_type": "execute_result"
    }
   ],
   "source": [
    "# Loading dataset\n",
    "(x_train,y_train),(x_test,y_test)=datasets.cifar10.load_data()\n",
    "\n",
    "x_train.shape"
   ]
  },
  {
   "cell_type": "code",
   "execution_count": 5,
   "metadata": {},
   "outputs": [
    {
     "data": {
      "text/plain": [
       "(10000, 32, 32, 3)"
      ]
     },
     "execution_count": 5,
     "metadata": {},
     "output_type": "execute_result"
    }
   ],
   "source": [
    "x_test.shape"
   ]
  },
  {
   "cell_type": "code",
   "execution_count": 6,
   "metadata": {},
   "outputs": [
    {
     "data": {
      "text/plain": [
       "array([[6],\n",
       "       [9],\n",
       "       [9],\n",
       "       [4],\n",
       "       [1]], dtype=uint8)"
      ]
     },
     "execution_count": 6,
     "metadata": {},
     "output_type": "execute_result"
    }
   ],
   "source": [
    "y_train[:5]"
   ]
  },
  {
   "cell_type": "code",
   "execution_count": 7,
   "metadata": {},
   "outputs": [
    {
     "data": {
      "text/plain": [
       "array([6, 9, 9, 4, 1], dtype=uint8)"
      ]
     },
     "execution_count": 7,
     "metadata": {},
     "output_type": "execute_result"
    }
   ],
   "source": [
    "''' .reshape() fun shapes an array without changing the data of the array.\n",
    "Using -1 in the reshape method of numpy tells the function to automatically \n",
    "calculate the dimension for that position based on the other dimensions and \n",
    "the total number of elements.\n",
    "For example, if you have an array y_train and you use y_train.reshape(-1), \n",
    "it will flatten the array into a one-dimensional array.'''\n",
    "\n",
    "y_train=y_train.reshape(-1)\n",
    "y_train[:5]"
   ]
  },
  {
   "cell_type": "code",
   "execution_count": 8,
   "metadata": {},
   "outputs": [],
   "source": [
    "# List of classes in CIFAR-10 dataset\n",
    "\n",
    "classes = [\"airplane\",\"automobile\",\"bird\",\"cat\",\"deer\",\"dog\",\"frog\",\"horse\",\"ship\",\"truck\"]"
   ]
  },
  {
   "cell_type": "code",
   "execution_count": 9,
   "metadata": {},
   "outputs": [
    {
     "data": {
      "image/png": "[encoded data removed]",
      "text/plain": [
       "<Figure size 1500x200 with 1 Axes>"
      ]
     },
     "metadata": {},
     "output_type": "display_data"
    }
   ],
   "source": [
    "#ploting first image\n",
    "\n",
    "#plt.imshow(x_train[0])\n",
    "\n",
    "def plot_sample(x,y,index):\n",
    "    plt.figure(figsize=(15,2))\n",
    "    plt.imshow(x[index])\n",
    "    plt.xlabel(classes[y[index]])\n",
    "\n",
    "plot_sample(x_train, y_train, 0)"
   ]
  },
  {
   "cell_type": "code",
   "execution_count": 10,
   "metadata": {},
   "outputs": [],
   "source": [
    "'''Here we'll do normalization, where the pixel values of images are scaled \n",
    "to a range between 0 and 1. In image data, pixel values typically range \n",
    "from 0 to 255 (for grayscale images), where 0 represents black \n",
    "and 255 represents white'''\n",
    "\n",
    "x_train = x_train / 255  # Normalizing training data\n",
    "x_test = x_test / 255  # Normalizing testing data\n"
   ]
  },
  {
   "cell_type": "code",
   "execution_count": 50,
   "metadata": {},
   "outputs": [
    {
     "name": "stdout",
     "output_type": "stream",
     "text": [
      "Epoch 1/5\n"
     ]
    },
    {
     "name": "stderr",
     "output_type": "stream",
     "text": [
      "2024-05-18 01:19:57.353345: I tensorflow/core/grappler/optimizers/custom_graph_optimizer_registry.cc:114] Plugin optimizer for device_type GPU is enabled.\n"
     ]
    },
    {
     "name": "stdout",
     "output_type": "stream",
     "text": [
      "1563/1563 [==============================] - 19s 11ms/step - loss: 1.9592 - accuracy: 0.3053\n",
      "Epoch 2/5\n",
      "1563/1563 [==============================] - 20s 13ms/step - loss: 1.9879 - accuracy: 0.3154\n",
      "Epoch 3/5\n",
      "1563/1563 [==============================] - 22s 14ms/step - loss: 2.7094 - accuracy: 0.2652\n",
      "Epoch 4/5\n",
      "1563/1563 [==============================] - 19s 12ms/step - loss: 3.5538 - accuracy: 0.2471\n",
      "Epoch 5/5\n",
      "1563/1563 [==============================] - 21s 14ms/step - loss: 4.4413 - accuracy: 0.2368\n"
     ]
    },
    {
     "data": {
      "text/plain": [
       "<keras.src.callbacks.History at 0x174971a00>"
      ]
     },
     "execution_count": 50,
     "metadata": {},
     "output_type": "execute_result"
    }
   ],
   "source": [
    "ann = keras.Sequential([\n",
    "    keras.layers.Flatten(input_shape=(32, 32, 3)),  # Flattening input layer\n",
    "    keras.layers.Dense(3000, activation=\"relu\"),  # Dense layer with ReLU activation\n",
    "    keras.layers.Dense(1000, activation=\"relu\"),  # Dense layer with ReLU activation\n",
    "    keras.layers.Dense(10, activation=\"sigmoid\")  # Output layer with sigmoid activation\n",
    "])\n",
    "\n",
    "# Compiling the model\n",
    "ann.compile(optimizer=\"SGD\",\n",
    "              loss=\"sparse_categorical_crossentropy\",\n",
    "              metrics=[\"accuracy\"])\n",
    "\n",
    "# Fitting the model on training data\n",
    "ann.fit(x_train, y_train, epochs=5)"
   ]
  },
  {
   "cell_type": "code",
   "execution_count": 51,
   "metadata": {},
   "outputs": [
    {
     "name": "stdout",
     "output_type": "stream",
     "text": [
      "  1/313 [..............................] - ETA: 1:23 - loss: 4.4104 - accuracy: 0.2188"
     ]
    },
    {
     "name": "stderr",
     "output_type": "stream",
     "text": [
      "2024-05-18 01:22:10.791064: I tensorflow/core/grappler/optimizers/custom_graph_optimizer_registry.cc:114] Plugin optimizer for device_type GPU is enabled.\n"
     ]
    },
    {
     "name": "stdout",
     "output_type": "stream",
     "text": [
      "313/313 [==============================] - 2s 7ms/step - loss: 6.3635 - accuracy: 0.2177\n"
     ]
    },
    {
     "data": {
      "text/plain": [
       "[6.363465785980225, 0.21770000457763672]"
      ]
     },
     "execution_count": 51,
     "metadata": {},
     "output_type": "execute_result"
    }
   ],
   "source": [
    "ann.evaluate(x_test,y_test)"
   ]
  },
  {
   "cell_type": "code",
   "execution_count": 52,
   "metadata": {},
   "outputs": [
    {
     "name": "stdout",
     "output_type": "stream",
     "text": [
      " 29/313 [=>............................] - ETA: 1s"
     ]
    },
    {
     "name": "stderr",
     "output_type": "stream",
     "text": [
      "2024-05-18 01:22:20.572151: I tensorflow/core/grappler/optimizers/custom_graph_optimizer_registry.cc:114] Plugin optimizer for device_type GPU is enabled.\n"
     ]
    },
    {
     "name": "stdout",
     "output_type": "stream",
     "text": [
      "313/313 [==============================] - 1s 4ms/step\n",
      "Classification Report: \n",
      "               precision    recall  f1-score   support\n",
      "\n",
      "           0       0.23      0.35      0.28      1000\n",
      "           1       0.18      0.53      0.26      1000\n",
      "           2       0.00      0.00      0.00      1000\n",
      "           3       0.24      0.04      0.08      1000\n",
      "           4       0.09      0.03      0.05      1000\n",
      "           5       0.22      0.40      0.28      1000\n",
      "           6       0.35      0.14      0.20      1000\n",
      "           7       0.20      0.35      0.25      1000\n",
      "           8       0.33      0.31      0.32      1000\n",
      "           9       0.24      0.00      0.01      1000\n",
      "\n",
      "    accuracy                           0.22     10000\n",
      "   macro avg       0.21      0.22      0.17     10000\n",
      "weighted avg       0.21      0.22      0.17     10000\n",
      "\n"
     ]
    },
    {
     "name": "stderr",
     "output_type": "stream",
     "text": [
      "/Users/abhishek/tensorflow-test/env/lib/python3.8/site-packages/sklearn/metrics/_classification.py:1469: UndefinedMetricWarning: Precision and F-score are ill-defined and being set to 0.0 in labels with no predicted samples. Use `zero_division` parameter to control this behavior.\n",
      "  _warn_prf(average, modifier, msg_start, len(result))\n",
      "/Users/abhishek/tensorflow-test/env/lib/python3.8/site-packages/sklearn/metrics/_classification.py:1469: UndefinedMetricWarning: Precision and F-score are ill-defined and being set to 0.0 in labels with no predicted samples. Use `zero_division` parameter to control this behavior.\n",
      "  _warn_prf(average, modifier, msg_start, len(result))\n",
      "/Users/abhishek/tensorflow-test/env/lib/python3.8/site-packages/sklearn/metrics/_classification.py:1469: UndefinedMetricWarning: Precision and F-score are ill-defined and being set to 0.0 in labels with no predicted samples. Use `zero_division` parameter to control this behavior.\n",
      "  _warn_prf(average, modifier, msg_start, len(result))\n"
     ]
    }
   ],
   "source": [
    "from sklearn.metrics import confusion_matrix,classification_report\n",
    "import numpy as np\n",
    "y_pred=ann.predict(x_test)\n",
    "y_pred_classes=[np.argmax(element) for element in y_pred]\n",
    "\n",
    "print(\"Classification Report: \\n\",classification_report(y_test,y_pred_classes))"
   ]
  },
  {
   "cell_type": "markdown",
   "metadata": {},
   "source": [
    "Our model perform very bad above, so to improve the performance we'll use the CNN.\n",
    "\n",
    "For this will add convolution relu pooling layers.\n",
    "\n",
    "It'll be like **Image data -> convolution -> relu -> pooling -> Dence NN**"
   ]
  },
  {
   "cell_type": "markdown",
   "metadata": {},
   "source": [
    "**layers.Conv2D:** This adds a 2D convolutional layer to the model.(layer to detect the feature of Image )\n",
    "\n",
    "**filters=32:** This specifies that the layer has 32 filters (also known as kernels). Each filter will detect different features in the input image.\n",
    "\n",
    "**kernel_size=(3, 3):** This defines the size of each filter as 3x3 pixels.\n",
    "\n",
    "**activation=\"relu\":** This sets the activation function to ReLU (Rectified Linear Unit), which introduces non-linearity to the model and helps it learn complex patterns.\n",
    "\n",
    "**input_shape=(32, 32, 3):** This specifies the shape of the input data to this layer. Here, each input image is 32x32 pixels with 3 color channels (RGB). This argument is only required for the first layer in the model, as subsequent layers can infer their input shape from the previous layer."
   ]
  },
  {
   "cell_type": "markdown",
   "metadata": {},
   "source": [
    "The main purpose of pooling is to reduce the size of feature maps.\n",
    "\n",
    "![alt text](Screenshot-2019-07-21-at-2.57.13-AM.png)"
   ]
  },
  {
   "cell_type": "code",
   "execution_count": 22,
   "metadata": {},
   "outputs": [],
   "source": [
    "cnn=models.Sequential([\n",
    "    # Convolutional layers\n",
    "    \n",
    "    layers.Conv2D(filters=32,kernel_size=(3,3),activation=\"relu\",input_shape=(32,32,3)),\n",
    "    layers.MaxPooling2D((2,2)),\n",
    "    \n",
    "    layers.Conv2D(filters=64,kernel_size=(3,3),activation=\"relu\"),\n",
    "    layers.MaxPooling2D((2,2)),\n",
    "\n",
    "    # Flatten layer\n",
    "    keras.layers.Flatten(),\n",
    "    # Dense layers\n",
    "    keras.layers.Dense(64, activation=\"relu\"),\n",
    "    keras.layers.Dense(10, activation=\"softmax\")\n",
    "])"
   ]
  },
  {
   "cell_type": "code",
   "execution_count": 24,
   "metadata": {},
   "outputs": [],
   "source": [
    "cnn.compile(optimizer=\"adam\",\n",
    "              loss=\"sparse_categorical_crossentropy\",\n",
    "              metrics=[\"accuracy\"]              \n",
    "              )"
   ]
  },
  {
   "cell_type": "code",
   "execution_count": 26,
   "metadata": {},
   "outputs": [
    {
     "name": "stdout",
     "output_type": "stream",
     "text": [
      "Model: \"sequential_4\"\n",
      "_________________________________________________________________\n",
      " Layer (type)                Output Shape              Param #   \n",
      "=================================================================\n",
      " conv2d_6 (Conv2D)           (None, 30, 30, 32)        896       \n",
      "                                                                 \n",
      " max_pooling2d_6 (MaxPoolin  (None, 15, 15, 32)        0         \n",
      " g2D)                                                            \n",
      "                                                                 \n",
      " conv2d_7 (Conv2D)           (None, 13, 13, 64)        18496     \n",
      "                                                                 \n",
      " max_pooling2d_7 (MaxPoolin  (None, 6, 6, 64)          0         \n",
      " g2D)                                                            \n",
      "                                                                 \n",
      " flatten_4 (Flatten)         (None, 2304)              0         \n",
      "                                                                 \n",
      " dense_9 (Dense)             (None, 64)                147520    \n",
      "                                                                 \n",
      " dense_10 (Dense)            (None, 10)                650       \n",
      "                                                                 \n",
      "=================================================================\n",
      "Total params: 167562 (654.54 KB)\n",
      "Trainable params: 167562 (654.54 KB)\n",
      "Non-trainable params: 0 (0.00 Byte)\n",
      "_________________________________________________________________\n"
     ]
    }
   ],
   "source": [
    "cnn.summary()"
   ]
  },
  {
   "cell_type": "code",
   "execution_count": 25,
   "metadata": {},
   "outputs": [
    {
     "name": "stdout",
     "output_type": "stream",
     "text": [
      "Epoch 1/10\n"
     ]
    },
    {
     "name": "stderr",
     "output_type": "stream",
     "text": [
      "2024-05-18 00:56:00.443164: I tensorflow/core/grappler/optimizers/custom_graph_optimizer_registry.cc:114] Plugin optimizer for device_type GPU is enabled.\n"
     ]
    },
    {
     "name": "stdout",
     "output_type": "stream",
     "text": [
      "1563/1563 [==============================] - 18s 11ms/step - loss: 1.5181 - accuracy: 0.4517\n",
      "Epoch 2/10\n",
      "1563/1563 [==============================] - 16s 10ms/step - loss: 1.2684 - accuracy: 0.5607\n",
      "Epoch 3/10\n",
      "1563/1563 [==============================] - 16s 10ms/step - loss: 1.3588 - accuracy: 0.5587\n",
      "Epoch 4/10\n",
      "1563/1563 [==============================] - 16s 10ms/step - loss: 1.5832 - accuracy: 0.5462\n",
      "Epoch 5/10\n",
      "1563/1563 [==============================] - 17s 11ms/step - loss: 2.1527 - accuracy: 0.5197\n",
      "Epoch 6/10\n",
      "1563/1563 [==============================] - 18s 12ms/step - loss: 2.7378 - accuracy: 0.5086\n",
      "Epoch 7/10\n",
      "1563/1563 [==============================] - 19s 12ms/step - loss: 3.3687 - accuracy: 0.5009\n",
      "Epoch 8/10\n",
      "1563/1563 [==============================] - 15s 10ms/step - loss: 4.4175 - accuracy: 0.4861\n",
      "Epoch 9/10\n",
      "1563/1563 [==============================] - 16s 10ms/step - loss: 6.0780 - accuracy: 0.4760\n",
      "Epoch 10/10\n",
      "1563/1563 [==============================] - 17s 11ms/step - loss: 8.9752 - accuracy: 0.4556\n"
     ]
    },
    {
     "data": {
      "text/plain": [
       "<keras.src.callbacks.History at 0x149a7b100>"
      ]
     },
     "execution_count": 25,
     "metadata": {},
     "output_type": "execute_result"
    }
   ],
   "source": [
    "cnn.fit(x_train,y_train,epochs=10)"
   ]
  },
  {
   "cell_type": "code",
   "execution_count": 27,
   "metadata": {},
   "outputs": [
    {
     "name": "stdout",
     "output_type": "stream",
     "text": [
      "  1/313 [..............................] - ETA: 1:37 - loss: 8.7420 - accuracy: 0.4688"
     ]
    },
    {
     "name": "stderr",
     "output_type": "stream",
     "text": [
      "2024-05-18 00:59:13.848751: I tensorflow/core/grappler/optimizers/custom_graph_optimizer_registry.cc:114] Plugin optimizer for device_type GPU is enabled.\n"
     ]
    },
    {
     "name": "stdout",
     "output_type": "stream",
     "text": [
      "313/313 [==============================] - 2s 6ms/step - loss: 13.1633 - accuracy: 0.4005\n"
     ]
    },
    {
     "data": {
      "text/plain": [
       "[13.163301467895508, 0.40049999952316284]"
      ]
     },
     "execution_count": 27,
     "metadata": {},
     "output_type": "execute_result"
    }
   ],
   "source": [
    "cnn.evaluate(x_test,y_test)"
   ]
  },
  {
   "cell_type": "markdown",
   "metadata": {},
   "source": [
    "So after applying CNN our model's accuracy got doubled from 20 to 40"
   ]
  },
  {
   "cell_type": "code",
   "execution_count": 31,
   "metadata": {},
   "outputs": [
    {
     "data": {
      "image/png": "[encoded data removed]",
      "text/plain": [
       "<Figure size 1500x200 with 1 Axes>"
      ]
     },
     "metadata": {},
     "output_type": "display_data"
    }
   ],
   "source": [
    "# Reshaping the y_test\n",
    "y_test=y_test.reshape(-1,)\n",
    "plot_sample(x_test,y_test,1)"
   ]
  },
  {
   "cell_type": "code",
   "execution_count": 32,
   "metadata": {},
   "outputs": [
    {
     "name": "stdout",
     "output_type": "stream",
     "text": [
      "  2/313 [..............................] - ETA: 24s"
     ]
    },
    {
     "name": "stderr",
     "output_type": "stream",
     "text": [
      "2024-05-18 01:07:34.058345: I tensorflow/core/grappler/optimizers/custom_graph_optimizer_registry.cc:114] Plugin optimizer for device_type GPU is enabled.\n"
     ]
    },
    {
     "name": "stdout",
     "output_type": "stream",
     "text": [
      "313/313 [==============================] - 1s 3ms/step\n"
     ]
    },
    {
     "data": {
      "text/plain": [
       "array([[2.09225313e-25, 3.76120107e-28, 1.12655414e-07, 1.57571981e-14,\n",
       "        8.44943024e-20, 9.99999881e-01, 3.35611903e-14, 5.19368301e-27,\n",
       "        1.58873478e-19, 0.00000000e+00],\n",
       "       [4.30502369e-20, 1.07349031e-07, 0.00000000e+00, 0.00000000e+00,\n",
       "        6.19962691e-38, 3.73945646e-35, 0.00000000e+00, 0.00000000e+00,\n",
       "        9.99999881e-01, 6.69290049e-21],\n",
       "       [8.61800320e-09, 9.23227361e-08, 8.37264704e-21, 1.07635544e-24,\n",
       "        1.98821376e-15, 8.19420691e-08, 4.15630919e-18, 5.94755434e-18,\n",
       "        9.99999881e-01, 1.63858947e-14],\n",
       "       [1.46835635e-04, 1.66795695e-13, 5.53553277e-14, 2.24302046e-33,\n",
       "        3.91353269e-12, 1.15681270e-10, 1.51596693e-19, 7.04848954e-24,\n",
       "        9.99853134e-01, 1.02304628e-27],\n",
       "       [1.33888986e-26, 1.06689309e-28, 4.33150803e-13, 1.60170158e-11,\n",
       "        9.99930501e-01, 5.90479540e-05, 1.05206900e-05, 2.27824482e-15,\n",
       "        4.93211186e-22, 0.00000000e+00]], dtype=float32)"
      ]
     },
     "execution_count": 32,
     "metadata": {},
     "output_type": "execute_result"
    }
   ],
   "source": [
    "# Predicting classes for testing data using CNN model\n",
    "y_pred=cnn.predict(x_test)\n",
    "y_pred[:5]"
   ]
  },
  {
   "cell_type": "markdown",
   "metadata": {},
   "source": [
    "[[2.09225313e-25, 3.76120107e-28, 1.12655414e-07, 1.57571981e-14,\n",
    "        8.44943024e-20, 9.99999881e-01, 3.35611903e-14, 5.19368301e-27,\n",
    "        1.58873478e-19, 0.00000000e+00],\n",
    " \n",
    " This is the prediction of our first image, & value in each of these elements is Probability distribution b/w 0 & 1 as we used softmax.\n",
    "\n",
    " This find which element is MAX, we'll use argmax fucntion, which give the index of max value"
   ]
  },
  {
   "cell_type": "code",
   "execution_count": 33,
   "metadata": {},
   "outputs": [
    {
     "data": {
      "text/plain": [
       "[5, 8, 8, 8, 4]"
      ]
     },
     "execution_count": 33,
     "metadata": {},
     "output_type": "execute_result"
    }
   ],
   "source": [
    "y_classes=[np.argmax(element) for element in y_pred]\n",
    "y_classes[:5]"
   ]
  },
  {
   "cell_type": "markdown",
   "metadata": {},
   "source": [
    "This is our prediction"
   ]
  },
  {
   "cell_type": "code",
   "execution_count": 35,
   "metadata": {},
   "outputs": [
    {
     "data": {
      "text/plain": [
       "array([3, 8, 8, 0, 6], dtype=uint8)"
      ]
     },
     "execution_count": 35,
     "metadata": {},
     "output_type": "execute_result"
    }
   ],
   "source": [
    "# True lable\n",
    "y_test[:5]"
   ]
  },
  {
   "cell_type": "markdown",
   "metadata": {},
   "source": [
    "So 2nd & 3rd are correct predcition"
   ]
  },
  {
   "cell_type": "markdown",
   "metadata": {},
   "source": [
    "#### Checking With Image"
   ]
  },
  {
   "cell_type": "code",
   "execution_count": 47,
   "metadata": {},
   "outputs": [
    {
     "data": {
      "image/png": "[encoded data removed]",
      "text/plain": [
       "<Figure size 1500x200 with 1 Axes>"
      ]
     },
     "metadata": {},
     "output_type": "display_data"
    }
   ],
   "source": [
    "plot_sample(x_test,y_test,1)"
   ]
  },
  {
   "cell_type": "code",
   "execution_count": 46,
   "metadata": {},
   "outputs": [
    {
     "data": {
      "text/plain": [
       "'ship'"
      ]
     },
     "execution_count": 46,
     "metadata": {},
     "output_type": "execute_result"
    }
   ],
   "source": [
    "classes[y_classes[1]]"
   ]
  },
  {
   "cell_type": "code",
   "execution_count": 49,
   "metadata": {},
   "outputs": [
    {
     "name": "stdout",
     "output_type": "stream",
     "text": [
      "classification_report: \n",
      "               precision    recall  f1-score   support\n",
      "\n",
      "           0       0.71      0.32      0.44      1000\n",
      "           1       0.60      0.56      0.58      1000\n",
      "           2       0.35      0.18      0.24      1000\n",
      "           3       0.49      0.02      0.05      1000\n",
      "           4       0.39      0.48      0.43      1000\n",
      "           5       0.23      0.83      0.36      1000\n",
      "           6       0.62      0.41      0.50      1000\n",
      "           7       0.54      0.39      0.45      1000\n",
      "           8       0.44      0.76      0.56      1000\n",
      "           9       0.85      0.05      0.09      1000\n",
      "\n",
      "    accuracy                           0.40     10000\n",
      "   macro avg       0.52      0.40      0.37     10000\n",
      "weighted avg       0.52      0.40      0.37     10000\n",
      "\n"
     ]
    }
   ],
   "source": [
    "print(\"classification_report: \\n\", classification_report(y_test,y_classes))"
   ]
  }
 ],
 "metadata": {
  "kernelspec": {
   "display_name": "tensorflow-test",
   "language": "python",
   "name": "tensorflow-test"
  },
  "language_info": {
   "codemirror_mode": {
    "name": "ipython",
    "version": 3
   },
   "file_extension": ".py",
   "mimetype": "text/x-python",
   "name": "python",
   "nbconvert_exporter": "python",
   "pygments_lexer": "ipython3",
   "version": "3.8.16"
  }
 },
 "nbformat": 4,
 "nbformat_minor": 2
}
