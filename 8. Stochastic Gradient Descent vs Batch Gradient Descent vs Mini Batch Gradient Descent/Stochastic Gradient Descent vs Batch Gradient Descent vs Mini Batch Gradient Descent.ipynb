{
 "cells": [
  {
   "cell_type": "code",
   "execution_count": 151,
   "metadata": {},
   "outputs": [],
   "source": [
    "import pandas as pd\n",
    "import numpy as np\n",
    "from matplotlib import pyplot as plt"
   ]
  },
  {
   "cell_type": "code",
   "execution_count": 152,
   "metadata": {},
   "outputs": [
    {
     "data": {
      "text/html": [
       "<div>\n",
       "<style scoped>\n",
       "    .dataframe tbody tr th:only-of-type {\n",
       "        vertical-align: middle;\n",
       "    }\n",
       "\n",
       "    .dataframe tbody tr th {\n",
       "        vertical-align: top;\n",
       "    }\n",
       "\n",
       "    .dataframe thead th {\n",
       "        text-align: right;\n",
       "    }\n",
       "</style>\n",
       "<table border=\"1\" class=\"dataframe\">\n",
       "  <thead>\n",
       "    <tr style=\"text-align: right;\">\n",
       "      <th></th>\n",
       "      <th>area</th>\n",
       "      <th>bedrooms</th>\n",
       "      <th>price</th>\n",
       "    </tr>\n",
       "  </thead>\n",
       "  <tbody>\n",
       "    <tr>\n",
       "      <th>0</th>\n",
       "      <td>1056</td>\n",
       "      <td>2</td>\n",
       "      <td>39.07</td>\n",
       "    </tr>\n",
       "    <tr>\n",
       "      <th>1</th>\n",
       "      <td>2600</td>\n",
       "      <td>4</td>\n",
       "      <td>120.00</td>\n",
       "    </tr>\n",
       "    <tr>\n",
       "      <th>2</th>\n",
       "      <td>1440</td>\n",
       "      <td>3</td>\n",
       "      <td>62.00</td>\n",
       "    </tr>\n",
       "    <tr>\n",
       "      <th>3</th>\n",
       "      <td>1521</td>\n",
       "      <td>3</td>\n",
       "      <td>75.00</td>\n",
       "    </tr>\n",
       "    <tr>\n",
       "      <th>4</th>\n",
       "      <td>1200</td>\n",
       "      <td>2</td>\n",
       "      <td>51.00</td>\n",
       "    </tr>\n",
       "  </tbody>\n",
       "</table>\n",
       "</div>"
      ],
      "text/plain": [
       "   area  bedrooms   price\n",
       "0  1056         2   39.07\n",
       "1  2600         4  120.00\n",
       "2  1440         3   62.00\n",
       "3  1521         3   75.00\n",
       "4  1200         2   51.00"
      ]
     },
     "execution_count": 152,
     "metadata": {},
     "output_type": "execute_result"
    }
   ],
   "source": [
    "df=pd.read_csv(\"homeprices_banglore.csv\")\n",
    "df.head()"
   ]
  },
  {
   "cell_type": "code",
   "execution_count": 153,
   "metadata": {},
   "outputs": [
    {
     "data": {
      "text/plain": [
       "array([[0.08827586, 0.25      ],\n",
       "       [0.62068966, 0.75      ],\n",
       "       [0.22068966, 0.5       ],\n",
       "       [0.24862069, 0.5       ],\n",
       "       [0.13793103, 0.25      ],\n",
       "       [0.12758621, 0.25      ],\n",
       "       [0.6662069 , 0.75      ],\n",
       "       [0.86206897, 0.75      ],\n",
       "       [0.17586207, 0.5       ],\n",
       "       [1.        , 1.        ],\n",
       "       [0.34482759, 0.5       ],\n",
       "       [0.68448276, 0.75      ],\n",
       "       [0.06896552, 0.25      ],\n",
       "       [0.10344828, 0.25      ],\n",
       "       [0.5       , 0.5       ],\n",
       "       [0.12931034, 0.25      ],\n",
       "       [0.13103448, 0.5       ],\n",
       "       [0.25517241, 0.5       ],\n",
       "       [0.67931034, 0.5       ],\n",
       "       [0.        , 0.        ]])"
      ]
     },
     "execution_count": 153,
     "metadata": {},
     "output_type": "execute_result"
    }
   ],
   "source": [
    "from sklearn import preprocessing\n",
    "\n",
    "sx=preprocessing.MinMaxScaler()\n",
    "sy=preprocessing.MinMaxScaler()\n",
    "\n",
    "scaled_x=sx.fit_transform(df.drop(\"price\",axis=\"columns\"))\n",
    "scaled_x"
   ]
  },
  {
   "cell_type": "markdown",
   "metadata": {},
   "source": [
    "👇 in below code \n",
    "\n",
    "The .values.reshape(df.shape[0], 1) part is used to reshape the values of the column \"price\" into a 2D array before passing it to the MinMaxScaler\n",
    "\n",
    "The reason for reshaping to a 2D array is that many scikit-learn functions, including MinMaxScaler, expect input data to be in a 2D array format, where each row represents a sample and each column represents a feature. Even if you have only one feature (one column), scikit-learn expects it to be in 2D format."
   ]
  },
  {
   "cell_type": "code",
   "execution_count": 154,
   "metadata": {},
   "outputs": [
    {
     "data": {
      "text/plain": [
       "array([[0.05237037],\n",
       "       [0.65185185],\n",
       "       [0.22222222],\n",
       "       [0.31851852],\n",
       "       [0.14074074],\n",
       "       [0.04444444],\n",
       "       [0.76296296],\n",
       "       [0.91111111],\n",
       "       [0.13333333],\n",
       "       [1.        ],\n",
       "       [0.37037037],\n",
       "       [0.8       ],\n",
       "       [0.04444444],\n",
       "       [0.05925926],\n",
       "       [0.51111111],\n",
       "       [0.07407407],\n",
       "       [0.11851852],\n",
       "       [0.20740741],\n",
       "       [0.51851852],\n",
       "       [0.        ]])"
      ]
     },
     "execution_count": 154,
     "metadata": {},
     "output_type": "execute_result"
    }
   ],
   "source": [
    "scaled_y=sy.fit_transform(df[\"price\"].values.reshape(df.shape[0],1))\n",
    "scaled_y"
   ]
  },
  {
   "cell_type": "markdown",
   "metadata": {},
   "source": [
    "**V Bleow**\n",
    "\n",
    "in Line 9, scaled_x.T: Here, scaled_x represents the input features matrix, where each row corresponds to a sample and each column corresponds to a feature. .T is the transpose operation, which flips the matrix over its diagonal, exchanging the rows and columns. This is done because the dot product operation expects the second array to have the same number of dimensions as the number of dimensions of the first array's last axis."
   ]
  },
  {
   "cell_type": "code",
   "execution_count": null,
   "metadata": {},
   "outputs": [],
   "source": []
  },
  {
   "cell_type": "code",
   "execution_count": 163,
   "metadata": {},
   "outputs": [
    {
     "data": {
      "text/plain": [
       "(array([0.70712464, 0.67456527]), -0.23034857438407427, 0.0068641890429808105)"
      ]
     },
     "execution_count": 163,
     "metadata": {},
     "output_type": "execute_result"
    }
   ],
   "source": [
    "# Define a function for batch gradient descent algorithm\n",
    "def batch_gradient_descent(x, y_true, epochs, learning_rate=0.01):\n",
    "\n",
    "    # Calculate the number of features in the input data\n",
    "    number_of_feature = x.shape[1]\n",
    "\n",
    "    # Initialize the weights as an array of ones with the same number of features\n",
    "    w = np.ones(shape=(number_of_feature))\n",
    "\n",
    "    # Initialize the bias parameter to 0\n",
    "    b = 0\n",
    "\n",
    "    # Get the total number of samples in the input data\n",
    "    total_samples = x.shape[0]\n",
    "\n",
    "    # Initialize empty lists to store the cost and epoch values\n",
    "    cost_list = []\n",
    "    epoch_list = []\n",
    "\n",
    "    # Iterate over the specified number of epochs\n",
    "    for i in range(epochs):\n",
    "        # Predict the output values using the current weights and bias\n",
    "        y_predicted = np.dot(w, scaled_x.T) + b  # w1 * feature1 + w2 * feature2 + ... + bias\n",
    "\n",
    "        # Calculate the gradients for weights and bias using the gradient descent formula\n",
    "        w_grad = -(2 / total_samples) * (x.T.dot(y_true - y_predicted))\n",
    "        b_grad = -(2 / total_samples) * np.sum(y_true - y_predicted)\n",
    "\n",
    "        # Update the weights and bias using the learning rate and gradients\n",
    "        w = w - learning_rate * w_grad\n",
    "        b = b - learning_rate * b_grad\n",
    "\n",
    "        # Calculate the cost, which is the mean squared error\n",
    "        cost = np.mean(np.square(y_true - y_predicted))\n",
    "\n",
    "        # Record the value of cost & epochs at intervals of 10 to draw their graph\n",
    "        if i % 10 == 0:\n",
    "            cost_list.append(cost)\n",
    "            epoch_list.append(i)\n",
    "\n",
    "    # Return the updated weights, bias, cost, cost list, and epoch list\n",
    "    return w, b, cost, cost_list, epoch_list\n",
    "\n",
    "# Call the batch_gradient_descent function with input data and parameters\n",
    "w, b, cost, cost_list, epoch_list = batch_gradient_descent(scaled_x, scaled_y.reshape(scaled_y.shape[0],), 500)\n",
    "\n",
    "# Print the final values of weights, bias, and cost\n",
    "w, b, cost"
   ]
  },
  {
   "cell_type": "code",
   "execution_count": 164,
   "metadata": {},
   "outputs": [
    {
     "data": {
      "text/plain": [
       "[<matplotlib.lines.Line2D at 0x1142000a0>]"
      ]
     },
     "execution_count": 164,
     "metadata": {},
     "output_type": "execute_result"
    },
    {
     "data": {
      "image/png": "[encoded data removed]",
      "text/plain": [
       "<Figure size 640x480 with 1 Axes>"
      ]
     },
     "metadata": {},
     "output_type": "display_data"
    }
   ],
   "source": [
    "# plotting chart to see how my Cost reduce with number of epoch\n",
    "plt.xlabel(\"epoch\")\n",
    "plt.ylabel(\"cost\")\n",
    "plt.plot(epoch_list,cost_list)"
   ]
  },
  {
   "cell_type": "code",
   "execution_count": 166,
   "metadata": {},
   "outputs": [
    {
     "name": "stderr",
     "output_type": "stream",
     "text": [
      "/Users/abhishek/tensorflow-test/env/lib/python3.8/site-packages/sklearn/base.py:464: UserWarning: X does not have valid feature names, but MinMaxScaler was fitted with feature names\n",
      "  warnings.warn(\n"
     ]
    },
    {
     "data": {
      "text/plain": [
       "128.45484403267596"
      ]
     },
     "execution_count": 166,
     "metadata": {},
     "output_type": "execute_result"
    }
   ],
   "source": [
    "def predict(area, bedroom, w, b):\n",
    "    # Scale the input features (area and bedroom) using the same scaling factors used during training\n",
    "    # This [0] tells Python to take the first (and only) set of scaled features from the array, which corresponds to only one house.\n",
    "    scaled_x = sx.transform([[area, bedroom]])[0]\n",
    "    \n",
    "    # Use the learned weights (w) and bias (b) to predict the price\n",
    "    # Multiply each scaled input feature by its corresponding weight, add the bias, and calculate the predicted price\n",
    "    scaled_price = w[0] * scaled_x[0] + w[1] * scaled_x[1] + b\n",
    "    \n",
    "    # Reverse the scaling to get the predicted price in the original scale\n",
    "    #[0]: This gets the first (and only) prediction from the array, so now you have [scaled_price].\n",
    "    #[0]: This gets the actual price from the prediction, so you end up with scaled_price, which is the predicted price of your house in the original scale.\n",
    "    predicted_price = sy.inverse_transform([[scaled_price]])[0][0]\n",
    "    \n",
    "    return predicted_price\n",
    "\n",
    "# Call the predict function with the input features (area=2600, bedroom=4) and the learned weights (w) and bias (b)\n",
    "predict(2600, 4, w, b)\n"
   ]
  },
  {
   "cell_type": "code",
   "execution_count": 183,
   "metadata": {},
   "outputs": [
    {
     "data": {
      "text/plain": [
       "(array([0.70772909, 0.67400862]), -0.22872402303081818, 0.004139123830550499)"
      ]
     },
     "execution_count": 183,
     "metadata": {},
     "output_type": "execute_result"
    }
   ],
   "source": [
    "def stochastic_gradient_descent(X, y_true, epochs, learning_rate=0.01):\n",
    "    \n",
    "    number_of_features = X.shape[1]  # Determine the number of features in the input data.\n",
    "    w = np.ones(shape=(number_of_features))  # Initialize weights with ones.\n",
    "    b = 0  # Initialize bias to zero.\n",
    "    total_samples = X.shape[0]  # Total number of samples in the input data.\n",
    "    \n",
    "    cost_list = []  # Initialize an empty list to store costs.\n",
    "    epoch_list = []  # Initialize an empty list to store epochs.\n",
    "    \n",
    "    for i in range(epochs):  # Loop through the specified number of epochs.\n",
    "        random_index = random.randint(0, total_samples - 1)  # Select a random index.\n",
    "        sample_x = X[random_index]  # Select the feature values for the random sample.\n",
    "        sample_y = y_true[random_index]  # Select the true target value for the random sample.\n",
    "        \n",
    "        y_predicted = np.dot(w, sample_x.T) + b  # Predict the target value using current weights and bias.\n",
    "    \n",
    "        w_grad = -(2/total_samples) * (sample_x.T.dot(sample_y - y_predicted))  # Compute gradient of weights.\n",
    "        b_grad = -(2/total_samples) * (sample_y - y_predicted)  # Compute gradient of bias.\n",
    "        \n",
    "        w = w - learning_rate * w_grad  # Update weights using gradient descent.\n",
    "        b = b - learning_rate * b_grad  # Update bias using gradient descent.\n",
    "        \n",
    "        cost = np.square(sample_y - y_predicted)  # Calculate the cost for the current sample.\n",
    "        \n",
    "        if i % 100 == 0:  # Store cost and epoch at intervals of 100.\n",
    "            cost_list.append(cost)\n",
    "            epoch_list.append(i)\n",
    "        \n",
    "    return w, b, cost, cost_list, epoch_list  # Return optimized weights, bias, final cost, and lists of costs and epochs.\n",
    "\n",
    "# Perform stochastic gradient descent on scaled input data and reshape target values.\n",
    "w_sgd, b_sgd, cost_sgd, cost_list_sgd, epoch_list_sgd = stochastic_gradient_descent(scaled_x, scaled_y.reshape(scaled_y.shape[0],), 10000)\n",
    "\n",
    "# Print optimized weights, bias, and final cost.\n",
    "w_sgd, b_sgd, cost_sgd\n"
   ]
  },
  {
   "cell_type": "code",
   "execution_count": 184,
   "metadata": {},
   "outputs": [
    {
     "data": {
      "text/plain": [
       "[<matplotlib.lines.Line2D at 0x11419b940>]"
      ]
     },
     "execution_count": 184,
     "metadata": {},
     "output_type": "execute_result"
    },
    {
     "data": {
      "image/png": "[encoded data removed]",
      "text/plain": [
       "<Figure size 640x480 with 1 Axes>"
      ]
     },
     "metadata": {},
     "output_type": "display_data"
    }
   ],
   "source": [
    "# plotting chart to see how my Cost reduce with number of epoch\n",
    "plt.xlabel(\"epoch\")\n",
    "plt.ylabel(\"cost\")\n",
    "plt.plot(epoch_list_sgd,cost_list_sgd)"
   ]
  },
  {
   "cell_type": "code",
   "execution_count": 176,
   "metadata": {},
   "outputs": [
    {
     "name": "stderr",
     "output_type": "stream",
     "text": [
      "/Users/abhishek/tensorflow-test/env/lib/python3.8/site-packages/sklearn/base.py:464: UserWarning: X does not have valid feature names, but MinMaxScaler was fitted with feature names\n",
      "  warnings.warn(\n"
     ]
    },
    {
     "data": {
      "text/plain": [
       "128.98187381371054"
      ]
     },
     "execution_count": 176,
     "metadata": {},
     "output_type": "execute_result"
    }
   ],
   "source": [
    "predict(2600,4,w_sgd,b_sgd)"
   ]
  }
 ],
 "metadata": {
  "kernelspec": {
   "display_name": "tensorflow-test",
   "language": "python",
   "name": "tensorflow-test"
  },
  "language_info": {
   "codemirror_mode": {
    "name": "ipython",
    "version": 3
   },
   "file_extension": ".py",
   "mimetype": "text/x-python",
   "name": "python",
   "nbconvert_exporter": "python",
   "pygments_lexer": "ipython3",
   "version": "3.8.16"
  }
 },
 "nbformat": 4,
 "nbformat_minor": 2
}
