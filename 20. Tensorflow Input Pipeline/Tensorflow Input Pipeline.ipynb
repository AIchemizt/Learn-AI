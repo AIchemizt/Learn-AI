{
 "cells": [
  {
   "cell_type": "code",
   "execution_count": 78,
   "metadata": {},
   "outputs": [],
   "source": [
    "import tensorflow as tf"
   ]
  },
  {
   "cell_type": "code",
   "execution_count": 79,
   "metadata": {},
   "outputs": [],
   "source": [
    "# Building a simple dataset\n",
    "daily_sales_number = [21,22,-108,31,-1,32,34,31]"
   ]
  },
  {
   "cell_type": "code",
   "execution_count": 80,
   "metadata": {},
   "outputs": [
    {
     "data": {
      "text/plain": [
       "<_TensorSliceDataset element_spec=TensorSpec(shape=(), dtype=tf.int32, name=None)>"
      ]
     },
     "execution_count": 80,
     "metadata": {},
     "output_type": "execute_result"
    }
   ],
   "source": [
    "# Building the tf dataset\n",
    "tf_dataset = tf.data.Dataset.from_tensor_slices(daily_sales_number)\n",
    "tf_dataset"
   ]
  },
  {
   "cell_type": "code",
   "execution_count": 81,
   "metadata": {},
   "outputs": [
    {
     "name": "stdout",
     "output_type": "stream",
     "text": [
      "21\n",
      "22\n",
      "-108\n",
      "31\n",
      "-1\n",
      "32\n",
      "34\n",
      "31\n"
     ]
    }
   ],
   "source": [
    "# View the content of TF_Dataset as numpy\n",
    "for sales in tf_dataset.as_numpy_iterator():\n",
    "    print(sales)"
   ]
  },
  {
   "cell_type": "code",
   "execution_count": 82,
   "metadata": {},
   "outputs": [
    {
     "name": "stdout",
     "output_type": "stream",
     "text": [
      "21\n",
      "22\n",
      "-108\n"
     ]
    }
   ],
   "source": [
    "# Viewing first few elements as numpy format\n",
    "\n",
    "for sales in tf_dataset.take(3):\n",
    "    print(sales.numpy())\n"
   ]
  },
  {
   "cell_type": "code",
   "execution_count": 83,
   "metadata": {},
   "outputs": [
    {
     "name": "stdout",
     "output_type": "stream",
     "text": [
      "21\n",
      "22\n",
      "31\n",
      "32\n",
      "34\n",
      "31\n"
     ]
    }
   ],
   "source": [
    "# Filtering the sales number as they can't be negative\n",
    "\n",
    "tf_dataset = tf_dataset.filter(lambda x:x>0)\n",
    "for sales in tf_dataset.as_numpy_iterator():\n",
    "    print(sales)\n",
    "\n",
    "# It will remove any negative value"
   ]
  },
  {
   "cell_type": "code",
   "execution_count": 84,
   "metadata": {},
   "outputs": [
    {
     "name": "stdout",
     "output_type": "stream",
     "text": [
      "1743\n",
      "1826\n",
      "2573\n",
      "2656\n",
      "2822\n",
      "2573\n"
     ]
    }
   ],
   "source": [
    "# For example these number are in usd so we can convert them to inr\n",
    "# using map function\n",
    "\n",
    "tf_dataset = tf_dataset.map(lambda x:x*83)\n",
    "for sales in tf_dataset.as_numpy_iterator():\n",
    "    print(sales)"
   ]
  },
  {
   "cell_type": "code",
   "execution_count": 85,
   "metadata": {},
   "outputs": [
    {
     "name": "stdout",
     "output_type": "stream",
     "text": [
      "1826\n",
      "1743\n",
      "2822\n",
      "2573\n",
      "2656\n",
      "2573\n"
     ]
    }
   ],
   "source": [
    "# We can also suffle the elements\n",
    "\n",
    "tf_dataset = tf_dataset.shuffle(3)\n",
    "for sales in tf_dataset.as_numpy_iterator():\n",
    "    print(sales)"
   ]
  },
  {
   "cell_type": "code",
   "execution_count": 86,
   "metadata": {},
   "outputs": [
    {
     "name": "stdout",
     "output_type": "stream",
     "text": [
      "tf.Tensor([2573 1826 1743 2656], shape=(4,), dtype=int32)\n",
      "tf.Tensor([2573 2822], shape=(2,), dtype=int32)\n"
     ]
    }
   ],
   "source": [
    "# We can also do batching if we runing on multi gpu envirement\n",
    "for sales_batch in tf_dataset.batch(4):\n",
    "    print(sales_batch)"
   ]
  },
  {
   "cell_type": "code",
   "execution_count": 87,
   "metadata": {},
   "outputs": [
    {
     "name": "stdout",
     "output_type": "stream",
     "text": [
      "[2573 1743]\n",
      "[1826 2573]\n",
      "[2656 2822]\n"
     ]
    }
   ],
   "source": [
    "# Doing all the operation in one single line\n",
    "\n",
    "tf_dataset = tf.data.Dataset.from_tensor_slices(daily_sales_number)\n",
    "\n",
    "tf_dataset = tf_dataset.filter(lambda x:x>0).map(lambda y:y*83).shuffle(3).batch(2)\n",
    "\n",
    "for sales in tf_dataset.as_numpy_iterator():\n",
    "    print(sales)"
   ]
  },
  {
   "cell_type": "code",
   "execution_count": 88,
   "metadata": {},
   "outputs": [],
   "source": [
    "# Loading cat & dog images for diff operarion\n",
    "images_ds = tf.data.Dataset.list_files('images/*/*', shuffle = False)"
   ]
  },
  {
   "cell_type": "code",
   "execution_count": 89,
   "metadata": {},
   "outputs": [
    {
     "name": "stdout",
     "output_type": "stream",
     "text": [
      "b'images/cat/055ba2dc-3a2b-421f-9ab4-a4ddd8d89485.jpeg'\n",
      "b'images/cat/22a7b0e6-47d2-4196-932d-060c7b648de5.jpeg'\n",
      "b'images/cat/50bfeef9-7b07-4491-9c0b-4de5972f2298.jpeg'\n"
     ]
    }
   ],
   "source": [
    "# reading the files\n",
    "for file in images_ds.take(3):\n",
    "    print(file.numpy())"
   ]
  },
  {
   "cell_type": "code",
   "execution_count": 90,
   "metadata": {},
   "outputs": [
    {
     "name": "stdout",
     "output_type": "stream",
     "text": [
      "b'images/cat/download (6).jpeg'\n",
      "b'images/dog/download (4) 4.20.35\\xe2\\x80\\xafAM.jpeg'\n",
      "b'images/cat/055ba2dc-3a2b-421f-9ab4-a4ddd8d89485.jpeg'\n"
     ]
    }
   ],
   "source": [
    "# Shuffling the files\n",
    "images_ds = images_ds.shuffle(200)\n",
    "\n",
    "for file in images_ds.take(3):\n",
    "    print(file.numpy())"
   ]
  },
  {
   "cell_type": "code",
   "execution_count": 91,
   "metadata": {},
   "outputs": [],
   "source": [
    "# Creating class of cat & dog\n",
    "class_names = [\"cat\",\"dog\"]"
   ]
  },
  {
   "cell_type": "code",
   "execution_count": 92,
   "metadata": {},
   "outputs": [
    {
     "data": {
      "text/plain": [
       "41"
      ]
     },
     "execution_count": 92,
     "metadata": {},
     "output_type": "execute_result"
    }
   ],
   "source": [
    "image_count = len(images_ds)\n",
    "image_count"
   ]
  },
  {
   "cell_type": "markdown",
   "metadata": {},
   "source": [
    "**Now we'll divide it into train & test sample.**\n",
    "\n",
    "**Earlier we were using the sklearn train test split, but in this we use take function**"
   ]
  },
  {
   "cell_type": "code",
   "execution_count": 93,
   "metadata": {},
   "outputs": [],
   "source": [
    "# Def train size as 80 percent\n",
    "train_size = int(image_count*0.8)\n",
    "\n",
    "# Using take function\n",
    "train_ds = images_ds.take(train_size)\n",
    "\n",
    "# Using skip its oposite of take\n",
    "test_ds = images_ds.skip(train_size)"
   ]
  },
  {
   "cell_type": "code",
   "execution_count": 94,
   "metadata": {},
   "outputs": [
    {
     "data": {
      "text/plain": [
       "32"
      ]
     },
     "execution_count": 94,
     "metadata": {},
     "output_type": "execute_result"
    }
   ],
   "source": [
    "len(train_ds)"
   ]
  },
  {
   "cell_type": "code",
   "execution_count": 95,
   "metadata": {},
   "outputs": [
    {
     "data": {
      "text/plain": [
       "9"
      ]
     },
     "execution_count": 95,
     "metadata": {},
     "output_type": "execute_result"
    }
   ],
   "source": [
    "len(test_ds)"
   ]
  },
  {
   "cell_type": "code",
   "execution_count": 96,
   "metadata": {},
   "outputs": [
    {
     "data": {
      "text/plain": [
       "'dog'"
      ]
     },
     "execution_count": 96,
     "metadata": {},
     "output_type": "execute_result"
    }
   ],
   "source": [
    "# How we can Retrieve the image Label from image path\n",
    "s = 'images/dog/download (7) 4.20.35\\xe2\\x80\\xafAM.jpeg'\n",
    "\n",
    "# Python split func to give string at -2 positon\n",
    "s.split(\"/\")[-2]"
   ]
  },
  {
   "cell_type": "code",
   "execution_count": 97,
   "metadata": {},
   "outputs": [],
   "source": [
    "# Define a function to extract the label from the file path\n",
    "def get_label(file_path):\n",
    "    # Import the os module to work with file paths\n",
    "    import os\n",
    "    # Split the file path into its components and return the second last component\n",
    "    # This component corresponds to the class label (e.g., 'cat' or 'dog')\n",
    "    return tf.strings.split(file_path, os.path.sep)[-2]"
   ]
  },
  {
   "cell_type": "code",
   "execution_count": 98,
   "metadata": {},
   "outputs": [],
   "source": [
    "# Define a function to process an image file path\n",
    "def process_image(file_path):\n",
    "    # Get the label from the file path using the get_label function\n",
    "    label = get_label(file_path)\n",
    "\n",
    "    # Read the image file from the file path\n",
    "    img = tf.io.read_file(file_path)\n",
    "    # Decode the image as a JPEG file\n",
    "    img = tf.image.decode_jpeg(img)\n",
    "    # Resize the image to 128x128 pixels\n",
    "    img = tf.image.resize(img, [128, 128])\n",
    "\n",
    "    # Return the processed image and its label\n",
    "    return img, label"
   ]
  },
  {
   "cell_type": "code",
   "execution_count": 99,
   "metadata": {},
   "outputs": [
    {
     "name": "stdout",
     "output_type": "stream",
     "text": [
      "Image:  tf.Tensor(\n",
      "[[[ 0.         1.         0.       ]\n",
      "  [ 0.         1.         0.       ]\n",
      "  [ 0.         1.         0.       ]\n",
      "  ...\n",
      "  [ 6.         1.         0.       ]\n",
      "  [ 6.         1.         0.       ]\n",
      "  [ 6.         1.         0.       ]]\n",
      "\n",
      " [[ 0.         1.         0.       ]\n",
      "  [ 0.         1.         0.       ]\n",
      "  [ 0.         1.         0.       ]\n",
      "  ...\n",
      "  [ 6.         1.         0.       ]\n",
      "  [ 6.         1.         0.       ]\n",
      "  [ 6.         1.         0.       ]]\n",
      "\n",
      " [[ 0.         1.         0.       ]\n",
      "  [ 0.         1.         0.       ]\n",
      "  [ 0.         1.         0.       ]\n",
      "  ...\n",
      "  [ 6.         1.         0.       ]\n",
      "  [ 6.         1.         0.       ]\n",
      "  [ 6.         1.         0.       ]]\n",
      "\n",
      " ...\n",
      "\n",
      " [[42.89868   24.289307   8.461182 ]\n",
      "  [51.966553  33.357178  18.140625 ]\n",
      "  [60.545166  42.08838   29.174805 ]\n",
      "  ...\n",
      "  [43.796875  27.140625  20.055176 ]\n",
      "  [61.36377   43.029053  36.92627  ]\n",
      "  [66.51343   48.984375  42.075928 ]]\n",
      "\n",
      " [[34.702637  15.702637   1.5258789]\n",
      "  [51.695557  32.695557  16.398682 ]\n",
      "  [55.024902  36.024902  22.024902 ]\n",
      "  ...\n",
      "  [53.53784   35.31909   27.928467 ]\n",
      "  [67.85083   48.85083   41.85083  ]\n",
      "  [71.947754  52.947754  45.947754 ]]\n",
      "\n",
      " [[36.733643  17.733643   1.0217285]\n",
      "  [50.502686  31.502686  15.205811 ]\n",
      "  [52.751465  33.751465  19.751465 ]\n",
      "  ...\n",
      "  [66.581055  48.362305  40.97168  ]\n",
      "  [75.11157   56.111572  49.111572 ]\n",
      "  [74.98169   55.98169   48.98169  ]]], shape=(128, 128, 3), dtype=float32)\n",
      "Label:  tf.Tensor(b'dog', shape=(), dtype=string)\n",
      "Image:  tf.Tensor(\n",
      "[[[ 25.078125  16.078125  11.078125]\n",
      "  [ 26.        17.        12.      ]\n",
      "  [ 25.609375  16.609375  11.609375]\n",
      "  ...\n",
      "  [ 69.90552   60.124268  53.514893]\n",
      "  [ 64.09375   55.09375   48.09375 ]\n",
      "  [ 60.15625   51.15625   44.15625 ]]\n",
      "\n",
      " [[ 24.84375   15.84375   10.84375 ]\n",
      "  [ 25.765625  16.765625  11.765625]\n",
      "  [ 25.375     16.375     11.375   ]\n",
      "  ...\n",
      "  [ 69.01782   59.236572  52.627197]\n",
      "  [ 62.9375    53.9375    46.9375  ]\n",
      "  [ 59.        50.        43.      ]]\n",
      "\n",
      " [[ 23.296875  14.296875   9.296875]\n",
      "  [ 24.310303  15.310303  10.310303]\n",
      "  [ 24.066162  15.066162  10.066162]\n",
      "  ...\n",
      "  [ 67.171875  57.390625  50.78125 ]\n",
      "  [ 61.390625  52.390625  45.390625]\n",
      "  [ 57.453125  48.453125  41.453125]]\n",
      "\n",
      " ...\n",
      "\n",
      " [[145.46875   82.46875   49.46875 ]\n",
      "  [146.625     84.328125  51.09375 ]\n",
      "  [148.17188   88.171875  54.171875]\n",
      "  ...\n",
      "  [138.39062   83.390625  53.390625]\n",
      "  [137.23438   82.234375  52.234375]\n",
      "  [135.15625   80.15625   50.15625 ]]\n",
      "\n",
      " [[143.60669   80.60669   47.60669 ]\n",
      "  [145.2893    82.99243   49.758057]\n",
      "  [146.25      86.25      52.25    ]\n",
      "  ...\n",
      "  [138.39062   83.390625  53.390625]\n",
      "  [137.23438   82.234375  52.234375]\n",
      "  [135.15625   80.15625   50.15625 ]]\n",
      "\n",
      " [[142.16235   79.16235   46.162354]\n",
      "  [143.15625   80.859375  47.625   ]\n",
      "  [144.2976    84.29761   50.297607]\n",
      "  ...\n",
      "  [138.39062   83.390625  53.390625]\n",
      "  [137.23438   82.234375  52.234375]\n",
      "  [135.15625   80.15625   50.15625 ]]], shape=(128, 128, 3), dtype=float32)\n",
      "Label:  tf.Tensor(b'dog', shape=(), dtype=string)\n",
      "Image:  tf.Tensor(\n",
      "[[[196.       164.       169.      ]\n",
      "  [196.       164.       169.      ]\n",
      "  [201.08594  169.32812  174.32812 ]\n",
      "  ...\n",
      "  [101.72656  105.72656  108.72656 ]\n",
      "  [101.       105.       108.      ]\n",
      "  [101.       105.       108.      ]]\n",
      "\n",
      " [[196.       164.       169.      ]\n",
      "  [196.       164.       169.      ]\n",
      "  [201.08594  169.32812  174.32812 ]\n",
      "  ...\n",
      "  [101.72656  105.72656  108.72656 ]\n",
      "  [101.       105.       108.      ]\n",
      "  [101.       105.       108.      ]]\n",
      "\n",
      " [[197.69531  165.69531  170.69531 ]\n",
      "  [197.69531  165.69531  170.69531 ]\n",
      "  [202.13605  170.37823  175.37823 ]\n",
      "  ...\n",
      "  [104.25061  108.25061  111.25061 ]\n",
      "  [102.9375   106.9375   109.9375  ]\n",
      "  [102.9375   106.9375   109.9375  ]]\n",
      "\n",
      " ...\n",
      "\n",
      " [[ 52.609375  35.609375  45.609375]\n",
      "  [ 52.609375  35.609375  45.609375]\n",
      "  [ 53.59326   36.59326   46.59326 ]\n",
      "  ...\n",
      "  [ 32.861633  22.228699  36.045166]\n",
      "  [ 28.632812  17.390625  30.90625 ]\n",
      "  [ 28.632812  17.390625  30.90625 ]]\n",
      "\n",
      " [[ 56.        39.        49.      ]\n",
      "  [ 56.        39.        49.      ]\n",
      "  [ 57.453125  40.453125  50.453125]\n",
      "  ...\n",
      "  [ 30.8125    20.539062  34.78125 ]\n",
      "  [ 25.        14.        28.      ]\n",
      "  [ 25.        14.        28.      ]]\n",
      "\n",
      " [[ 56.        39.        49.      ]\n",
      "  [ 56.        39.        49.      ]\n",
      "  [ 57.453125  40.453125  50.453125]\n",
      "  ...\n",
      "  [ 30.8125    20.539062  34.78125 ]\n",
      "  [ 25.        14.        28.      ]\n",
      "  [ 25.        14.        28.      ]]], shape=(128, 128, 3), dtype=float32)\n",
      "Label:  tf.Tensor(b'cat', shape=(), dtype=string)\n"
     ]
    }
   ],
   "source": [
    "# Apply the process_image function to each file path in the training dataset\n",
    "# Take the first 3 elements from the resulting dataset and iterate over them\n",
    "train_ds=train_ds.map(process_image)\n",
    "for img, label in train_ds.take(3):\n",
    "    # Print the processed image (as a tensor)\n",
    "    print(\"Image: \", img)\n",
    "    # Print the label (as a tensor)\n",
    "    print(\"Label: \", label)"
   ]
  },
  {
   "cell_type": "code",
   "execution_count": 100,
   "metadata": {},
   "outputs": [],
   "source": [
    "# Scaling the numpy array\n",
    "def scale(Image, label):\n",
    "    return Image/255, label"
   ]
  },
  {
   "cell_type": "code",
   "execution_count": 110,
   "metadata": {},
   "outputs": [
    {
     "name": "stdout",
     "output_type": "stream",
     "text": [
      "Image:  [0.000000e+00 8.601977e-25 0.000000e+00]\n",
      "Label:  b'dog'\n",
      "Image:  [2.0644741e-23 1.8064151e-23 1.3763163e-23]\n",
      "Label:  b'dog'\n",
      "Image:  [1.4054823e-22 1.3710743e-22 1.2764525e-22]\n",
      "Label:  b'cat'\n",
      "Image:  [1.41273995e-22 1.04285506e-22 9.65437385e-23]\n",
      "Label:  b'dog'\n",
      "Image:  [2.0533321e-22 1.8459712e-22 1.5539608e-22]\n",
      "Label:  b'cat'\n"
     ]
    }
   ],
   "source": [
    "# Apply the scale function to each element in the training dataset\n",
    "train_ds = train_ds.map(scale)\n",
    "\n",
    "# Iterate over the first 5 elements of the scaled training dataset\n",
    "for image, label in train_ds.take(5):\n",
    "    # Print the value of the top-left pixel (0, 0) of the first image in the batch\n",
    "    print(\"Image: \", image.numpy()[0][0])\n",
    "    # Print the label as a numpy array\n",
    "    print(\"Label: \", label.numpy())\n"
   ]
  }
 ],
 "metadata": {
  "kernelspec": {
   "display_name": "Python 3",
   "language": "python",
   "name": "python3"
  },
  "language_info": {
   "codemirror_mode": {
    "name": "ipython",
    "version": 3
   },
   "file_extension": ".py",
   "mimetype": "text/x-python",
   "name": "python",
   "nbconvert_exporter": "python",
   "pygments_lexer": "ipython3",
   "version": "3.8.16"
  }
 },
 "nbformat": 4,
 "nbformat_minor": 2
}
